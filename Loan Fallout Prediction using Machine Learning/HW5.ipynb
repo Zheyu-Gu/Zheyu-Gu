{
 "cells": [
  {
   "cell_type": "markdown",
   "metadata": {},
   "source": [
    "# (1) Import Packages"
   ]
  },
  {
   "cell_type": "code",
   "execution_count": 1,
   "metadata": {},
   "outputs": [],
   "source": [
    "import warnings\n",
    "warnings.filterwarnings('ignore')\n",
    "\n",
    "import pandas as pd\n",
    "import numpy as np\n",
    "import matplotlib.pyplot as plt\n",
    "#import graphviz \n",
    "\n",
    "from scipy import stats\n",
    "import statsmodels.api as sm\n",
    "\n",
    "import sklearn\n",
    "from sklearn.model_selection import train_test_split\n",
    "from sklearn.linear_model import LogisticRegression\n",
    "from sklearn import metrics\n",
    "from sklearn.decomposition import PCA\n",
    "from sklearn import svm\n",
    "from sklearn import tree\n",
    "# from sklearn.naive_bayes import GaussianNB\n",
    "from sklearn.model_selection import GridSearchCV\n",
    "from sklearn.model_selection import cross_val_score\n",
    "from sklearn.preprocessing import MinMaxScaler\n",
    "import time\n",
    "import seaborn as sns\n",
    "from sklearn.preprocessing import KBinsDiscretizer"
   ]
  },
  {
   "cell_type": "markdown",
   "metadata": {},
   "source": [
    "# (2) Load Data"
   ]
  },
  {
   "cell_type": "code",
   "execution_count": 2,
   "metadata": {},
   "outputs": [
    {
     "data": {
      "text/html": [
       "<div>\n",
       "<style scoped>\n",
       "    .dataframe tbody tr th:only-of-type {\n",
       "        vertical-align: middle;\n",
       "    }\n",
       "\n",
       "    .dataframe tbody tr th {\n",
       "        vertical-align: top;\n",
       "    }\n",
       "\n",
       "    .dataframe thead th {\n",
       "        text-align: right;\n",
       "    }\n",
       "</style>\n",
       "<table border=\"1\" class=\"dataframe\">\n",
       "  <thead>\n",
       "    <tr style=\"text-align: right;\">\n",
       "      <th></th>\n",
       "      <th>APPLICATION_NUM</th>\n",
       "      <th>AGE</th>\n",
       "      <th>SCHOOLING</th>\n",
       "      <th>GENDER</th>\n",
       "      <th>MARITAL</th>\n",
       "      <th>OCCUPY</th>\n",
       "      <th>DEPEND</th>\n",
       "      <th>BORROWER_CREDIT_SCORE</th>\n",
       "      <th>JUDGEMENTS</th>\n",
       "      <th>BANKRUPTCY</th>\n",
       "      <th>FORECLOSURE</th>\n",
       "      <th>LAWSUIT</th>\n",
       "      <th>ALIMONY</th>\n",
       "      <th>VETERAN</th>\n",
       "      <th>PAST_LOAN</th>\n",
       "      <th>INITIAL_RATE</th>\n",
       "      <th>FALLOUT_FLAG</th>\n",
       "    </tr>\n",
       "  </thead>\n",
       "  <tbody>\n",
       "    <tr>\n",
       "      <th>0</th>\n",
       "      <td>1234567</td>\n",
       "      <td>62</td>\n",
       "      <td>14</td>\n",
       "      <td>Male</td>\n",
       "      <td>Married</td>\n",
       "      <td>Y</td>\n",
       "      <td>0</td>\n",
       "      <td>645.0</td>\n",
       "      <td>N</td>\n",
       "      <td>N</td>\n",
       "      <td>N</td>\n",
       "      <td>N</td>\n",
       "      <td>N</td>\n",
       "      <td>Y</td>\n",
       "      <td>N</td>\n",
       "      <td>4.25</td>\n",
       "      <td>0</td>\n",
       "    </tr>\n",
       "    <tr>\n",
       "      <th>1</th>\n",
       "      <td>1234568</td>\n",
       "      <td>71</td>\n",
       "      <td>12</td>\n",
       "      <td>Male</td>\n",
       "      <td>Married</td>\n",
       "      <td>Y</td>\n",
       "      <td>0</td>\n",
       "      <td>778.0</td>\n",
       "      <td>N</td>\n",
       "      <td>N</td>\n",
       "      <td>N</td>\n",
       "      <td>N</td>\n",
       "      <td>N</td>\n",
       "      <td>Y</td>\n",
       "      <td>N</td>\n",
       "      <td>4.99</td>\n",
       "      <td>0</td>\n",
       "    </tr>\n",
       "    <tr>\n",
       "      <th>2</th>\n",
       "      <td>1234569</td>\n",
       "      <td>28</td>\n",
       "      <td>16</td>\n",
       "      <td>Male</td>\n",
       "      <td>Married</td>\n",
       "      <td>Y</td>\n",
       "      <td>1</td>\n",
       "      <td>677.0</td>\n",
       "      <td>N</td>\n",
       "      <td>N</td>\n",
       "      <td>N</td>\n",
       "      <td>N</td>\n",
       "      <td>N</td>\n",
       "      <td>Y</td>\n",
       "      <td>N</td>\n",
       "      <td>4.49</td>\n",
       "      <td>0</td>\n",
       "    </tr>\n",
       "    <tr>\n",
       "      <th>3</th>\n",
       "      <td>1234570</td>\n",
       "      <td>62</td>\n",
       "      <td>20</td>\n",
       "      <td>Male</td>\n",
       "      <td>Married</td>\n",
       "      <td>Y</td>\n",
       "      <td>0</td>\n",
       "      <td>677.0</td>\n",
       "      <td>N</td>\n",
       "      <td>N</td>\n",
       "      <td>N</td>\n",
       "      <td>N</td>\n",
       "      <td>N</td>\n",
       "      <td>Y</td>\n",
       "      <td>N</td>\n",
       "      <td>4.25</td>\n",
       "      <td>0</td>\n",
       "    </tr>\n",
       "    <tr>\n",
       "      <th>4</th>\n",
       "      <td>1234571</td>\n",
       "      <td>38</td>\n",
       "      <td>12</td>\n",
       "      <td>Not provided by phone/mail app</td>\n",
       "      <td>Unmarried</td>\n",
       "      <td>Y</td>\n",
       "      <td>0</td>\n",
       "      <td>602.0</td>\n",
       "      <td>N</td>\n",
       "      <td>N</td>\n",
       "      <td>N</td>\n",
       "      <td>N</td>\n",
       "      <td>N</td>\n",
       "      <td>Y</td>\n",
       "      <td>N</td>\n",
       "      <td>4.25</td>\n",
       "      <td>0</td>\n",
       "    </tr>\n",
       "  </tbody>\n",
       "</table>\n",
       "</div>"
      ],
      "text/plain": [
       "   APPLICATION_NUM  AGE  SCHOOLING                          GENDER    MARITAL  \\\n",
       "0          1234567   62         14                            Male    Married   \n",
       "1          1234568   71         12                            Male    Married   \n",
       "2          1234569   28         16                            Male    Married   \n",
       "3          1234570   62         20                            Male    Married   \n",
       "4          1234571   38         12  Not provided by phone/mail app  Unmarried   \n",
       "\n",
       "  OCCUPY  DEPEND  BORROWER_CREDIT_SCORE JUDGEMENTS BANKRUPTCY FORECLOSURE  \\\n",
       "0      Y       0                  645.0          N          N           N   \n",
       "1      Y       0                  778.0          N          N           N   \n",
       "2      Y       1                  677.0          N          N           N   \n",
       "3      Y       0                  677.0          N          N           N   \n",
       "4      Y       0                  602.0          N          N           N   \n",
       "\n",
       "  LAWSUIT ALIMONY VETERAN PAST_LOAN  INITIAL_RATE  FALLOUT_FLAG  \n",
       "0       N       N       Y         N          4.25             0  \n",
       "1       N       N       Y         N          4.99             0  \n",
       "2       N       N       Y         N          4.49             0  \n",
       "3       N       N       Y         N          4.25             0  \n",
       "4       N       N       Y         N          4.25             0  "
      ]
     },
     "metadata": {},
     "output_type": "display_data"
    },
    {
     "data": {
      "text/html": [
       "<div>\n",
       "<style scoped>\n",
       "    .dataframe tbody tr th:only-of-type {\n",
       "        vertical-align: middle;\n",
       "    }\n",
       "\n",
       "    .dataframe tbody tr th {\n",
       "        vertical-align: top;\n",
       "    }\n",
       "\n",
       "    .dataframe thead th {\n",
       "        text-align: right;\n",
       "    }\n",
       "</style>\n",
       "<table border=\"1\" class=\"dataframe\">\n",
       "  <thead>\n",
       "    <tr style=\"text-align: right;\">\n",
       "      <th></th>\n",
       "      <th>APPLICATION_NUM</th>\n",
       "      <th>AGE</th>\n",
       "      <th>SCHOOLING</th>\n",
       "      <th>GENDER</th>\n",
       "      <th>MARITAL</th>\n",
       "      <th>OCCUPY</th>\n",
       "      <th>DEPEND</th>\n",
       "      <th>BORROWER_CREDIT_SCORE</th>\n",
       "      <th>JUDGEMENTS</th>\n",
       "      <th>BANKRUPTCY</th>\n",
       "      <th>FORECLOSURE</th>\n",
       "      <th>LAWSUIT</th>\n",
       "      <th>ALIMONY</th>\n",
       "      <th>VETERAN</th>\n",
       "      <th>PAST_LOAN</th>\n",
       "      <th>INITIAL_RATE</th>\n",
       "      <th>FALLOUT_FLAG</th>\n",
       "    </tr>\n",
       "  </thead>\n",
       "  <tbody>\n",
       "    <tr>\n",
       "      <th>58045</th>\n",
       "      <td>1292612</td>\n",
       "      <td>35</td>\n",
       "      <td>16</td>\n",
       "      <td>Male</td>\n",
       "      <td>Married</td>\n",
       "      <td>N</td>\n",
       "      <td>1</td>\n",
       "      <td>775.0</td>\n",
       "      <td>N</td>\n",
       "      <td>N</td>\n",
       "      <td>N</td>\n",
       "      <td>N</td>\n",
       "      <td>N</td>\n",
       "      <td>Y</td>\n",
       "      <td>N</td>\n",
       "      <td>3.25</td>\n",
       "      <td>1</td>\n",
       "    </tr>\n",
       "    <tr>\n",
       "      <th>58046</th>\n",
       "      <td>1292613</td>\n",
       "      <td>51</td>\n",
       "      <td>15</td>\n",
       "      <td>Male</td>\n",
       "      <td>Married</td>\n",
       "      <td>Y</td>\n",
       "      <td>0</td>\n",
       "      <td>NaN</td>\n",
       "      <td>N</td>\n",
       "      <td>N</td>\n",
       "      <td>N</td>\n",
       "      <td>N</td>\n",
       "      <td>N</td>\n",
       "      <td>Y</td>\n",
       "      <td>N</td>\n",
       "      <td>4.25</td>\n",
       "      <td>1</td>\n",
       "    </tr>\n",
       "    <tr>\n",
       "      <th>58047</th>\n",
       "      <td>1292614</td>\n",
       "      <td>28</td>\n",
       "      <td>13</td>\n",
       "      <td>Male</td>\n",
       "      <td>Unmarried</td>\n",
       "      <td>Y</td>\n",
       "      <td>2</td>\n",
       "      <td>NaN</td>\n",
       "      <td>N</td>\n",
       "      <td>N</td>\n",
       "      <td>N</td>\n",
       "      <td>N</td>\n",
       "      <td>N</td>\n",
       "      <td>N</td>\n",
       "      <td>N</td>\n",
       "      <td>4.25</td>\n",
       "      <td>1</td>\n",
       "    </tr>\n",
       "    <tr>\n",
       "      <th>58048</th>\n",
       "      <td>1292615</td>\n",
       "      <td>74</td>\n",
       "      <td>19</td>\n",
       "      <td>Female</td>\n",
       "      <td>Unmarried</td>\n",
       "      <td>Y</td>\n",
       "      <td>0</td>\n",
       "      <td>NaN</td>\n",
       "      <td>N</td>\n",
       "      <td>N</td>\n",
       "      <td>N</td>\n",
       "      <td>N</td>\n",
       "      <td>N</td>\n",
       "      <td>Y</td>\n",
       "      <td>N</td>\n",
       "      <td>4.49</td>\n",
       "      <td>1</td>\n",
       "    </tr>\n",
       "    <tr>\n",
       "      <th>58049</th>\n",
       "      <td>1292616</td>\n",
       "      <td>54</td>\n",
       "      <td>16</td>\n",
       "      <td>Male</td>\n",
       "      <td>Unmarried</td>\n",
       "      <td>Y</td>\n",
       "      <td>0</td>\n",
       "      <td>NaN</td>\n",
       "      <td>N</td>\n",
       "      <td>N</td>\n",
       "      <td>N</td>\n",
       "      <td>N</td>\n",
       "      <td>N</td>\n",
       "      <td>Y</td>\n",
       "      <td>N</td>\n",
       "      <td>4.49</td>\n",
       "      <td>1</td>\n",
       "    </tr>\n",
       "  </tbody>\n",
       "</table>\n",
       "</div>"
      ],
      "text/plain": [
       "       APPLICATION_NUM  AGE  SCHOOLING  GENDER    MARITAL OCCUPY  DEPEND  \\\n",
       "58045          1292612   35         16    Male    Married      N       1   \n",
       "58046          1292613   51         15    Male    Married      Y       0   \n",
       "58047          1292614   28         13    Male  Unmarried      Y       2   \n",
       "58048          1292615   74         19  Female  Unmarried      Y       0   \n",
       "58049          1292616   54         16    Male  Unmarried      Y       0   \n",
       "\n",
       "       BORROWER_CREDIT_SCORE JUDGEMENTS BANKRUPTCY FORECLOSURE LAWSUIT  \\\n",
       "58045                  775.0          N          N           N       N   \n",
       "58046                    NaN          N          N           N       N   \n",
       "58047                    NaN          N          N           N       N   \n",
       "58048                    NaN          N          N           N       N   \n",
       "58049                    NaN          N          N           N       N   \n",
       "\n",
       "      ALIMONY VETERAN PAST_LOAN  INITIAL_RATE  FALLOUT_FLAG  \n",
       "58045       N       Y         N          3.25             1  \n",
       "58046       N       Y         N          4.25             1  \n",
       "58047       N       N         N          4.25             1  \n",
       "58048       N       Y         N          4.49             1  \n",
       "58049       N       Y         N          4.49             1  "
      ]
     },
     "metadata": {},
     "output_type": "display_data"
    }
   ],
   "source": [
    "df = pd.read_csv('Lesson5_Loan_FallOut_Prediction.csv')\n",
    "display(df.head(5))\n",
    "display(df.tail(5))"
   ]
  },
  {
   "cell_type": "markdown",
   "metadata": {},
   "source": [
    "# (3) Check on data quality & completeness\n",
    "## check data completeness"
   ]
  },
  {
   "cell_type": "code",
   "execution_count": 3,
   "metadata": {
    "scrolled": false
   },
   "outputs": [
    {
     "data": {
      "text/plain": [
       "APPLICATION_NUM              0\n",
       "AGE                          0\n",
       "SCHOOLING                    0\n",
       "GENDER                       0\n",
       "MARITAL                      6\n",
       "OCCUPY                       0\n",
       "DEPEND                       0\n",
       "BORROWER_CREDIT_SCORE    18055\n",
       "JUDGEMENTS                   0\n",
       "BANKRUPTCY                   0\n",
       "FORECLOSURE                  0\n",
       "LAWSUIT                      0\n",
       "ALIMONY                      0\n",
       "VETERAN                   7624\n",
       "PAST_LOAN                    0\n",
       "INITIAL_RATE                 0\n",
       "FALLOUT_FLAG                 0\n",
       "dtype: int64"
      ]
     },
     "execution_count": 3,
     "metadata": {},
     "output_type": "execute_result"
    }
   ],
   "source": [
    "df.isna().sum()"
   ]
  },
  {
   "cell_type": "code",
   "execution_count": 4,
   "metadata": {
    "scrolled": true
   },
   "outputs": [
    {
     "name": "stdout",
     "output_type": "stream",
     "text": [
      "<class 'pandas.core.frame.DataFrame'>\n",
      "RangeIndex: 58050 entries, 0 to 58049\n",
      "Data columns (total 17 columns):\n",
      " #   Column                 Non-Null Count  Dtype  \n",
      "---  ------                 --------------  -----  \n",
      " 0   APPLICATION_NUM        58050 non-null  int64  \n",
      " 1   AGE                    58050 non-null  int64  \n",
      " 2   SCHOOLING              58050 non-null  int64  \n",
      " 3   GENDER                 58050 non-null  object \n",
      " 4   MARITAL                58044 non-null  object \n",
      " 5   OCCUPY                 58050 non-null  object \n",
      " 6   DEPEND                 58050 non-null  int64  \n",
      " 7   BORROWER_CREDIT_SCORE  39995 non-null  float64\n",
      " 8   JUDGEMENTS             58050 non-null  object \n",
      " 9   BANKRUPTCY             58050 non-null  object \n",
      " 10  FORECLOSURE            58050 non-null  object \n",
      " 11  LAWSUIT                58050 non-null  object \n",
      " 12  ALIMONY                58050 non-null  object \n",
      " 13  VETERAN                50426 non-null  object \n",
      " 14  PAST_LOAN              58050 non-null  object \n",
      " 15  INITIAL_RATE           58050 non-null  float64\n",
      " 16  FALLOUT_FLAG           58050 non-null  int64  \n",
      "dtypes: float64(2), int64(5), object(10)\n",
      "memory usage: 7.5+ MB\n"
     ]
    }
   ],
   "source": [
    "df.info()"
   ]
  },
  {
   "cell_type": "markdown",
   "metadata": {},
   "source": [
    "input variables with missing values: MARITAL, BORROWER_CREDIT_SCORE, VETERAN"
   ]
  },
  {
   "cell_type": "code",
   "execution_count": 5,
   "metadata": {
    "scrolled": false
   },
   "outputs": [
    {
     "data": {
      "text/plain": [
       "APPLICATION_NUM            int64\n",
       "AGE                        int64\n",
       "SCHOOLING                  int64\n",
       "GENDER                    object\n",
       "MARITAL                   object\n",
       "OCCUPY                    object\n",
       "DEPEND                     int64\n",
       "BORROWER_CREDIT_SCORE    float64\n",
       "JUDGEMENTS                object\n",
       "BANKRUPTCY                object\n",
       "FORECLOSURE               object\n",
       "LAWSUIT                   object\n",
       "ALIMONY                   object\n",
       "VETERAN                   object\n",
       "PAST_LOAN                 object\n",
       "INITIAL_RATE             float64\n",
       "FALLOUT_FLAG               int64\n",
       "dtype: object"
      ]
     },
     "execution_count": 5,
     "metadata": {},
     "output_type": "execute_result"
    }
   ],
   "source": [
    "#identify numeric vs categorical variables\n",
    "df.dtypes"
   ]
  },
  {
   "cell_type": "markdown",
   "metadata": {},
   "source": [
    "categorical variables: GENDER, MARITAL, OCCUPY, JUDGEMENTS, BANKRUPTCY, FORECLOSURE, LAWSUIT, ALIMONY, VETERAN, PAST_LOAN<br>\n",
    "dummy variables: FALLOUT_FLAG<br>\n",
    "numeric variables: AGE, SCHOOLING, DEPEND, BORROWCREDIT_SCORE, INITIAL_RATE"
   ]
  },
  {
   "cell_type": "code",
   "execution_count": 6,
   "metadata": {},
   "outputs": [
    {
     "name": "stdout",
     "output_type": "stream",
     "text": [
      "GENDER : ['Male' 'Not provided by phone/mail app' 'Female']\n",
      "MARITAL : ['Married' 'Unmarried' 'Separated' nan]\n",
      "OCCUPY : ['Y' 'N']\n",
      "JUDGEMENTS : ['N' 'Y']\n",
      "BANKRUPTCY : ['N' 'Y']\n",
      "FORECLOSURE : ['N' 'Y']\n",
      "LAWSUIT : ['N' 'Y']\n",
      "ALIMONY : ['N' 'Y']\n",
      "VETERAN : ['Y' nan 'N']\n",
      "PAST_LOAN : ['N' 'Y']\n",
      "FALLOUT_FLAG : [0 1]\n"
     ]
    }
   ],
   "source": [
    "cat_col_names = ['GENDER', 'MARITAL', 'OCCUPY', 'JUDGEMENTS', 'BANKRUPTCY', 'FORECLOSURE', 'LAWSUIT', 'ALIMONY', 'VETERAN', 'PAST_LOAN', 'FALLOUT_FLAG']\n",
    "for i in cat_col_names:\n",
    "    print(i, ':', df[i].unique())"
   ]
  },
  {
   "cell_type": "code",
   "execution_count": 7,
   "metadata": {},
   "outputs": [
    {
     "name": "stdout",
     "output_type": "stream",
     "text": [
      "Missing VETERAN Samples\n"
     ]
    },
    {
     "data": {
      "image/png": "[encoded data removed]",
      "text/plain": [
       "<Figure size 432x288 with 1 Axes>"
      ]
     },
     "metadata": {
      "needs_background": "light"
     },
     "output_type": "display_data"
    }
   ],
   "source": [
    "print('Missing VETERAN Samples')\n",
    "df[df['VETERAN'].isna()].hist(column='FALLOUT_FLAG')\n",
    "plt.show()"
   ]
  },
  {
   "cell_type": "code",
   "execution_count": 8,
   "metadata": {
    "scrolled": true
   },
   "outputs": [
    {
     "name": "stdout",
     "output_type": "stream",
     "text": [
      "Missing BORROWER_CREDIT_SCORE Samples\n",
      "[1]\n",
      "Missing MARITAL Samples\n",
      "[1]\n"
     ]
    }
   ],
   "source": [
    "print('Missing BORROWER_CREDIT_SCORE Samples')\n",
    "print(df[df['BORROWER_CREDIT_SCORE'].isna()]['FALLOUT_FLAG'].unique())\n",
    "print('Missing MARITAL Samples')\n",
    "print(df[df['MARITAL'].isna()]['FALLOUT_FLAG'].unique())"
   ]
  },
  {
   "cell_type": "code",
   "execution_count": 9,
   "metadata": {
    "scrolled": false
   },
   "outputs": [
    {
     "data": {
      "image/png": "[encoded data removed]",
      "text/plain": [
       "<Figure size 432x288 with 2 Axes>"
      ]
     },
     "metadata": {
      "needs_background": "light"
     },
     "output_type": "display_data"
    },
    {
     "data": {
      "image/png": "[encoded data removed]",
      "text/plain": [
       "<Figure size 432x288 with 2 Axes>"
      ]
     },
     "metadata": {
      "needs_background": "light"
     },
     "output_type": "display_data"
    }
   ],
   "source": [
    "df.hist(by='FALLOUT_FLAG',column = 'VETERAN')\n",
    "df.hist(by='FALLOUT_FLAG',column = 'GENDER')\n",
    "plt.show()"
   ]
  },
  {
   "cell_type": "markdown",
   "metadata": {},
   "source": [
    "# (4) Data Preprocessing"
   ]
  },
  {
   "cell_type": "markdown",
   "metadata": {},
   "source": [
    "## Data Imputation"
   ]
  },
  {
   "cell_type": "markdown",
   "metadata": {},
   "source": [
    "Input variables with missing values: MARITAL, BORROWER_CREDIT_SCORE, VETERAN<br>\n",
    "1. MARITAL and VETERAN are categorical variables, we fill nan values with \"Unknown\" class\n",
    "2. BORROWER_CREDIT_SCORE is numerical variable, if BORROWER_CREDIT_SCORE = nan, FALLOUT_FLAG = 1. We impute nan with -999."
   ]
  },
  {
   "cell_type": "code",
   "execution_count": 10,
   "metadata": {},
   "outputs": [
    {
     "data": {
      "text/plain": [
       "APPLICATION_NUM          0\n",
       "AGE                      0\n",
       "SCHOOLING                0\n",
       "GENDER                   0\n",
       "MARITAL                  0\n",
       "OCCUPY                   0\n",
       "DEPEND                   0\n",
       "BORROWER_CREDIT_SCORE    0\n",
       "JUDGEMENTS               0\n",
       "BANKRUPTCY               0\n",
       "FORECLOSURE              0\n",
       "LAWSUIT                  0\n",
       "ALIMONY                  0\n",
       "VETERAN                  0\n",
       "PAST_LOAN                0\n",
       "INITIAL_RATE             0\n",
       "FALLOUT_FLAG             0\n",
       "dtype: int64"
      ]
     },
     "execution_count": 10,
     "metadata": {},
     "output_type": "execute_result"
    }
   ],
   "source": [
    "values = {'MARITAL': \"Unknown\", 'VETERAN': \"Unknown\", 'BORROWER_CREDIT_SCORE': -999}\n",
    "df.fillna(value=values, inplace=True)\n",
    "df.isna().sum()"
   ]
  },
  {
   "cell_type": "markdown",
   "metadata": {},
   "source": [
    "## Data Transformation"
   ]
  },
  {
   "cell_type": "code",
   "execution_count": 11,
   "metadata": {},
   "outputs": [
    {
     "data": {
      "text/plain": [
       "APPLICATION_NUM            int64\n",
       "AGE                        int64\n",
       "SCHOOLING                  int64\n",
       "GENDER                    object\n",
       "MARITAL                   object\n",
       "OCCUPY                    object\n",
       "DEPEND                     int64\n",
       "BORROWER_CREDIT_SCORE    float64\n",
       "JUDGEMENTS                object\n",
       "BANKRUPTCY                object\n",
       "FORECLOSURE               object\n",
       "LAWSUIT                   object\n",
       "ALIMONY                   object\n",
       "VETERAN                   object\n",
       "PAST_LOAN                 object\n",
       "INITIAL_RATE             float64\n",
       "FALLOUT_FLAG               int64\n",
       "dtype: object"
      ]
     },
     "execution_count": 11,
     "metadata": {},
     "output_type": "execute_result"
    }
   ],
   "source": [
    "df.dtypes"
   ]
  },
  {
   "cell_type": "markdown",
   "metadata": {},
   "source": [
    "categorical variables: GENDER, MARITAL, OCCUPY, JUDGEMENTS, BANKRUPTCY, FORECLOSURE, LAWSUIT, ALIMONY, VETERAN, PAST_LOAN<br>\n",
    "dummy variables: FALLOUT_FLAG<br>\n",
    "numeric variables: AGE, SCHOOLING, DEPEND, BORROWCREDIT_SCORE, INITIAL_RATE"
   ]
  },
  {
   "cell_type": "code",
   "execution_count": 12,
   "metadata": {},
   "outputs": [
    {
     "name": "stdout",
     "output_type": "stream",
     "text": [
      "GENDER : ['Male' 'Not provided by phone/mail app' 'Female']\n",
      "MARITAL : ['Married' 'Unmarried' 'Separated' 'Unknown']\n",
      "OCCUPY : ['Y' 'N']\n",
      "JUDGEMENTS : ['N' 'Y']\n",
      "BANKRUPTCY : ['N' 'Y']\n",
      "FORECLOSURE : ['N' 'Y']\n",
      "LAWSUIT : ['N' 'Y']\n",
      "ALIMONY : ['N' 'Y']\n",
      "VETERAN : ['Y' 'Unknown' 'N']\n",
      "PAST_LOAN : ['N' 'Y']\n",
      "FALLOUT_FLAG : [0 1]\n"
     ]
    }
   ],
   "source": [
    "# Transfer Catagorical variables into dummy variables\n",
    "cat_col_names = ['GENDER', 'MARITAL', 'OCCUPY', 'JUDGEMENTS', 'BANKRUPTCY', \n",
    "                 'FORECLOSURE', 'LAWSUIT', 'ALIMONY', 'VETERAN', 'PAST_LOAN', 'FALLOUT_FLAG']\n",
    "for i in cat_col_names:\n",
    "    print(i, ':', df[i].unique())"
   ]
  },
  {
   "cell_type": "code",
   "execution_count": 13,
   "metadata": {},
   "outputs": [],
   "source": [
    "df = pd.get_dummies(df.drop('APPLICATION_NUM', axis=1), drop_first=True)"
   ]
  },
  {
   "cell_type": "code",
   "execution_count": 14,
   "metadata": {},
   "outputs": [
    {
     "data": {
      "text/html": [
       "<div>\n",
       "<style scoped>\n",
       "    .dataframe tbody tr th:only-of-type {\n",
       "        vertical-align: middle;\n",
       "    }\n",
       "\n",
       "    .dataframe tbody tr th {\n",
       "        vertical-align: top;\n",
       "    }\n",
       "\n",
       "    .dataframe thead th {\n",
       "        text-align: right;\n",
       "    }\n",
       "</style>\n",
       "<table border=\"1\" class=\"dataframe\">\n",
       "  <thead>\n",
       "    <tr style=\"text-align: right;\">\n",
       "      <th></th>\n",
       "      <th>AGE</th>\n",
       "      <th>SCHOOLING</th>\n",
       "      <th>DEPEND</th>\n",
       "      <th>BORROWER_CREDIT_SCORE</th>\n",
       "      <th>INITIAL_RATE</th>\n",
       "      <th>FALLOUT_FLAG</th>\n",
       "      <th>GENDER_Male</th>\n",
       "      <th>GENDER_Not provided by phone/mail app</th>\n",
       "      <th>MARITAL_Separated</th>\n",
       "      <th>MARITAL_Unknown</th>\n",
       "      <th>MARITAL_Unmarried</th>\n",
       "      <th>OCCUPY_Y</th>\n",
       "      <th>JUDGEMENTS_Y</th>\n",
       "      <th>BANKRUPTCY_Y</th>\n",
       "      <th>FORECLOSURE_Y</th>\n",
       "      <th>LAWSUIT_Y</th>\n",
       "      <th>ALIMONY_Y</th>\n",
       "      <th>VETERAN_Unknown</th>\n",
       "      <th>VETERAN_Y</th>\n",
       "      <th>PAST_LOAN_Y</th>\n",
       "    </tr>\n",
       "  </thead>\n",
       "  <tbody>\n",
       "    <tr>\n",
       "      <th>0</th>\n",
       "      <td>62</td>\n",
       "      <td>14</td>\n",
       "      <td>0</td>\n",
       "      <td>645.0</td>\n",
       "      <td>4.25</td>\n",
       "      <td>0</td>\n",
       "      <td>1</td>\n",
       "      <td>0</td>\n",
       "      <td>0</td>\n",
       "      <td>0</td>\n",
       "      <td>0</td>\n",
       "      <td>1</td>\n",
       "      <td>0</td>\n",
       "      <td>0</td>\n",
       "      <td>0</td>\n",
       "      <td>0</td>\n",
       "      <td>0</td>\n",
       "      <td>0</td>\n",
       "      <td>1</td>\n",
       "      <td>0</td>\n",
       "    </tr>\n",
       "    <tr>\n",
       "      <th>1</th>\n",
       "      <td>71</td>\n",
       "      <td>12</td>\n",
       "      <td>0</td>\n",
       "      <td>778.0</td>\n",
       "      <td>4.99</td>\n",
       "      <td>0</td>\n",
       "      <td>1</td>\n",
       "      <td>0</td>\n",
       "      <td>0</td>\n",
       "      <td>0</td>\n",
       "      <td>0</td>\n",
       "      <td>1</td>\n",
       "      <td>0</td>\n",
       "      <td>0</td>\n",
       "      <td>0</td>\n",
       "      <td>0</td>\n",
       "      <td>0</td>\n",
       "      <td>0</td>\n",
       "      <td>1</td>\n",
       "      <td>0</td>\n",
       "    </tr>\n",
       "    <tr>\n",
       "      <th>2</th>\n",
       "      <td>28</td>\n",
       "      <td>16</td>\n",
       "      <td>1</td>\n",
       "      <td>677.0</td>\n",
       "      <td>4.49</td>\n",
       "      <td>0</td>\n",
       "      <td>1</td>\n",
       "      <td>0</td>\n",
       "      <td>0</td>\n",
       "      <td>0</td>\n",
       "      <td>0</td>\n",
       "      <td>1</td>\n",
       "      <td>0</td>\n",
       "      <td>0</td>\n",
       "      <td>0</td>\n",
       "      <td>0</td>\n",
       "      <td>0</td>\n",
       "      <td>0</td>\n",
       "      <td>1</td>\n",
       "      <td>0</td>\n",
       "    </tr>\n",
       "    <tr>\n",
       "      <th>3</th>\n",
       "      <td>62</td>\n",
       "      <td>20</td>\n",
       "      <td>0</td>\n",
       "      <td>677.0</td>\n",
       "      <td>4.25</td>\n",
       "      <td>0</td>\n",
       "      <td>1</td>\n",
       "      <td>0</td>\n",
       "      <td>0</td>\n",
       "      <td>0</td>\n",
       "      <td>0</td>\n",
       "      <td>1</td>\n",
       "      <td>0</td>\n",
       "      <td>0</td>\n",
       "      <td>0</td>\n",
       "      <td>0</td>\n",
       "      <td>0</td>\n",
       "      <td>0</td>\n",
       "      <td>1</td>\n",
       "      <td>0</td>\n",
       "    </tr>\n",
       "    <tr>\n",
       "      <th>4</th>\n",
       "      <td>38</td>\n",
       "      <td>12</td>\n",
       "      <td>0</td>\n",
       "      <td>602.0</td>\n",
       "      <td>4.25</td>\n",
       "      <td>0</td>\n",
       "      <td>0</td>\n",
       "      <td>1</td>\n",
       "      <td>0</td>\n",
       "      <td>0</td>\n",
       "      <td>1</td>\n",
       "      <td>1</td>\n",
       "      <td>0</td>\n",
       "      <td>0</td>\n",
       "      <td>0</td>\n",
       "      <td>0</td>\n",
       "      <td>0</td>\n",
       "      <td>0</td>\n",
       "      <td>1</td>\n",
       "      <td>0</td>\n",
       "    </tr>\n",
       "    <tr>\n",
       "      <th>...</th>\n",
       "      <td>...</td>\n",
       "      <td>...</td>\n",
       "      <td>...</td>\n",
       "      <td>...</td>\n",
       "      <td>...</td>\n",
       "      <td>...</td>\n",
       "      <td>...</td>\n",
       "      <td>...</td>\n",
       "      <td>...</td>\n",
       "      <td>...</td>\n",
       "      <td>...</td>\n",
       "      <td>...</td>\n",
       "      <td>...</td>\n",
       "      <td>...</td>\n",
       "      <td>...</td>\n",
       "      <td>...</td>\n",
       "      <td>...</td>\n",
       "      <td>...</td>\n",
       "      <td>...</td>\n",
       "      <td>...</td>\n",
       "    </tr>\n",
       "    <tr>\n",
       "      <th>58045</th>\n",
       "      <td>35</td>\n",
       "      <td>16</td>\n",
       "      <td>1</td>\n",
       "      <td>775.0</td>\n",
       "      <td>3.25</td>\n",
       "      <td>1</td>\n",
       "      <td>1</td>\n",
       "      <td>0</td>\n",
       "      <td>0</td>\n",
       "      <td>0</td>\n",
       "      <td>0</td>\n",
       "      <td>0</td>\n",
       "      <td>0</td>\n",
       "      <td>0</td>\n",
       "      <td>0</td>\n",
       "      <td>0</td>\n",
       "      <td>0</td>\n",
       "      <td>0</td>\n",
       "      <td>1</td>\n",
       "      <td>0</td>\n",
       "    </tr>\n",
       "    <tr>\n",
       "      <th>58046</th>\n",
       "      <td>51</td>\n",
       "      <td>15</td>\n",
       "      <td>0</td>\n",
       "      <td>-999.0</td>\n",
       "      <td>4.25</td>\n",
       "      <td>1</td>\n",
       "      <td>1</td>\n",
       "      <td>0</td>\n",
       "      <td>0</td>\n",
       "      <td>0</td>\n",
       "      <td>0</td>\n",
       "      <td>1</td>\n",
       "      <td>0</td>\n",
       "      <td>0</td>\n",
       "      <td>0</td>\n",
       "      <td>0</td>\n",
       "      <td>0</td>\n",
       "      <td>0</td>\n",
       "      <td>1</td>\n",
       "      <td>0</td>\n",
       "    </tr>\n",
       "    <tr>\n",
       "      <th>58047</th>\n",
       "      <td>28</td>\n",
       "      <td>13</td>\n",
       "      <td>2</td>\n",
       "      <td>-999.0</td>\n",
       "      <td>4.25</td>\n",
       "      <td>1</td>\n",
       "      <td>1</td>\n",
       "      <td>0</td>\n",
       "      <td>0</td>\n",
       "      <td>0</td>\n",
       "      <td>1</td>\n",
       "      <td>1</td>\n",
       "      <td>0</td>\n",
       "      <td>0</td>\n",
       "      <td>0</td>\n",
       "      <td>0</td>\n",
       "      <td>0</td>\n",
       "      <td>0</td>\n",
       "      <td>0</td>\n",
       "      <td>0</td>\n",
       "    </tr>\n",
       "    <tr>\n",
       "      <th>58048</th>\n",
       "      <td>74</td>\n",
       "      <td>19</td>\n",
       "      <td>0</td>\n",
       "      <td>-999.0</td>\n",
       "      <td>4.49</td>\n",
       "      <td>1</td>\n",
       "      <td>0</td>\n",
       "      <td>0</td>\n",
       "      <td>0</td>\n",
       "      <td>0</td>\n",
       "      <td>1</td>\n",
       "      <td>1</td>\n",
       "      <td>0</td>\n",
       "      <td>0</td>\n",
       "      <td>0</td>\n",
       "      <td>0</td>\n",
       "      <td>0</td>\n",
       "      <td>0</td>\n",
       "      <td>1</td>\n",
       "      <td>0</td>\n",
       "    </tr>\n",
       "    <tr>\n",
       "      <th>58049</th>\n",
       "      <td>54</td>\n",
       "      <td>16</td>\n",
       "      <td>0</td>\n",
       "      <td>-999.0</td>\n",
       "      <td>4.49</td>\n",
       "      <td>1</td>\n",
       "      <td>1</td>\n",
       "      <td>0</td>\n",
       "      <td>0</td>\n",
       "      <td>0</td>\n",
       "      <td>1</td>\n",
       "      <td>1</td>\n",
       "      <td>0</td>\n",
       "      <td>0</td>\n",
       "      <td>0</td>\n",
       "      <td>0</td>\n",
       "      <td>0</td>\n",
       "      <td>0</td>\n",
       "      <td>1</td>\n",
       "      <td>0</td>\n",
       "    </tr>\n",
       "  </tbody>\n",
       "</table>\n",
       "<p>58050 rows × 20 columns</p>\n",
       "</div>"
      ],
      "text/plain": [
       "       AGE  SCHOOLING  DEPEND  BORROWER_CREDIT_SCORE  INITIAL_RATE  \\\n",
       "0       62         14       0                  645.0          4.25   \n",
       "1       71         12       0                  778.0          4.99   \n",
       "2       28         16       1                  677.0          4.49   \n",
       "3       62         20       0                  677.0          4.25   \n",
       "4       38         12       0                  602.0          4.25   \n",
       "...    ...        ...     ...                    ...           ...   \n",
       "58045   35         16       1                  775.0          3.25   \n",
       "58046   51         15       0                 -999.0          4.25   \n",
       "58047   28         13       2                 -999.0          4.25   \n",
       "58048   74         19       0                 -999.0          4.49   \n",
       "58049   54         16       0                 -999.0          4.49   \n",
       "\n",
       "       FALLOUT_FLAG  GENDER_Male  GENDER_Not provided by phone/mail app  \\\n",
       "0                 0            1                                      0   \n",
       "1                 0            1                                      0   \n",
       "2                 0            1                                      0   \n",
       "3                 0            1                                      0   \n",
       "4                 0            0                                      1   \n",
       "...             ...          ...                                    ...   \n",
       "58045             1            1                                      0   \n",
       "58046             1            1                                      0   \n",
       "58047             1            1                                      0   \n",
       "58048             1            0                                      0   \n",
       "58049             1            1                                      0   \n",
       "\n",
       "       MARITAL_Separated  MARITAL_Unknown  MARITAL_Unmarried  OCCUPY_Y  \\\n",
       "0                      0                0                  0         1   \n",
       "1                      0                0                  0         1   \n",
       "2                      0                0                  0         1   \n",
       "3                      0                0                  0         1   \n",
       "4                      0                0                  1         1   \n",
       "...                  ...              ...                ...       ...   \n",
       "58045                  0                0                  0         0   \n",
       "58046                  0                0                  0         1   \n",
       "58047                  0                0                  1         1   \n",
       "58048                  0                0                  1         1   \n",
       "58049                  0                0                  1         1   \n",
       "\n",
       "       JUDGEMENTS_Y  BANKRUPTCY_Y  FORECLOSURE_Y  LAWSUIT_Y  ALIMONY_Y  \\\n",
       "0                 0             0              0          0          0   \n",
       "1                 0             0              0          0          0   \n",
       "2                 0             0              0          0          0   \n",
       "3                 0             0              0          0          0   \n",
       "4                 0             0              0          0          0   \n",
       "...             ...           ...            ...        ...        ...   \n",
       "58045             0             0              0          0          0   \n",
       "58046             0             0              0          0          0   \n",
       "58047             0             0              0          0          0   \n",
       "58048             0             0              0          0          0   \n",
       "58049             0             0              0          0          0   \n",
       "\n",
       "       VETERAN_Unknown  VETERAN_Y  PAST_LOAN_Y  \n",
       "0                    0          1            0  \n",
       "1                    0          1            0  \n",
       "2                    0          1            0  \n",
       "3                    0          1            0  \n",
       "4                    0          1            0  \n",
       "...                ...        ...          ...  \n",
       "58045                0          1            0  \n",
       "58046                0          1            0  \n",
       "58047                0          0            0  \n",
       "58048                0          1            0  \n",
       "58049                0          1            0  \n",
       "\n",
       "[58050 rows x 20 columns]"
      ]
     },
     "metadata": {},
     "output_type": "display_data"
    }
   ],
   "source": [
    "display(df)"
   ]
  },
  {
   "cell_type": "markdown",
   "metadata": {},
   "source": [
    "## Feature Engineering"
   ]
  },
  {
   "cell_type": "code",
   "execution_count": 15,
   "metadata": {},
   "outputs": [
    {
     "data": {
      "text/plain": [
       "<matplotlib.axes._subplots.AxesSubplot at 0x16d01049d08>"
      ]
     },
     "execution_count": 15,
     "metadata": {},
     "output_type": "execute_result"
    },
    {
     "data": {
      "image/png": "[encoded data removed]",
      "text/plain": [
       "<Figure size 432x288 with 2 Axes>"
      ]
     },
     "metadata": {
      "needs_background": "light"
     },
     "output_type": "display_data"
    }
   ],
   "source": [
    "corr = df.corr()\n",
    "sns.heatmap(corr)"
   ]
  },
  {
   "cell_type": "markdown",
   "metadata": {},
   "source": [
    "From feature importance analysis below, BORROWER_CREDIT_SCORE and VETERAN_Y has much higher impotance than other features. <br>\n",
    "So we generate synthetic features based on the above 2 features.<br>\n",
    "from heatmap above, these 2 features are corrrelated."
   ]
  },
  {
   "cell_type": "code",
   "execution_count": 16,
   "metadata": {},
   "outputs": [
    {
     "data": {
      "text/plain": [
       "[<matplotlib.lines.Line2D at 0x16d00199a48>]"
      ]
     },
     "execution_count": 16,
     "metadata": {},
     "output_type": "execute_result"
    },
    {
     "data": {
      "image/png": "[encoded data removed]",
      "text/plain": [
       "<Figure size 432x288 with 1 Axes>"
      ]
     },
     "metadata": {
      "needs_background": "light"
     },
     "output_type": "display_data"
    }
   ],
   "source": [
    "df_augmented = df.copy()\n",
    "df_augmented['CREDIT_BUCKET'] = df['BORROWER_CREDIT_SCORE'] // 25 * 25\n",
    "plt.plot(df_augmented[['CREDIT_BUCKET','FALLOUT_FLAG']].groupby(['CREDIT_BUCKET']).mean())"
   ]
  },
  {
   "cell_type": "code",
   "execution_count": 17,
   "metadata": {},
   "outputs": [
    {
     "data": {
      "text/html": [
       "<div>\n",
       "<style scoped>\n",
       "    .dataframe tbody tr th:only-of-type {\n",
       "        vertical-align: middle;\n",
       "    }\n",
       "\n",
       "    .dataframe tbody tr th {\n",
       "        vertical-align: top;\n",
       "    }\n",
       "\n",
       "    .dataframe thead th {\n",
       "        text-align: right;\n",
       "    }\n",
       "</style>\n",
       "<table border=\"1\" class=\"dataframe\">\n",
       "  <thead>\n",
       "    <tr style=\"text-align: right;\">\n",
       "      <th></th>\n",
       "      <th>FALLOUT_FLAG</th>\n",
       "    </tr>\n",
       "    <tr>\n",
       "      <th>CREDIT_BUCKET</th>\n",
       "      <th></th>\n",
       "    </tr>\n",
       "  </thead>\n",
       "  <tbody>\n",
       "    <tr>\n",
       "      <th>-1000.0</th>\n",
       "      <td>1.000000</td>\n",
       "    </tr>\n",
       "    <tr>\n",
       "      <th>100.0</th>\n",
       "      <td>0.722222</td>\n",
       "    </tr>\n",
       "    <tr>\n",
       "      <th>200.0</th>\n",
       "      <td>1.000000</td>\n",
       "    </tr>\n",
       "    <tr>\n",
       "      <th>400.0</th>\n",
       "      <td>0.500000</td>\n",
       "    </tr>\n",
       "    <tr>\n",
       "      <th>425.0</th>\n",
       "      <td>0.588235</td>\n",
       "    </tr>\n",
       "    <tr>\n",
       "      <th>450.0</th>\n",
       "      <td>0.366906</td>\n",
       "    </tr>\n",
       "    <tr>\n",
       "      <th>475.0</th>\n",
       "      <td>0.335165</td>\n",
       "    </tr>\n",
       "    <tr>\n",
       "      <th>500.0</th>\n",
       "      <td>0.363281</td>\n",
       "    </tr>\n",
       "    <tr>\n",
       "      <th>525.0</th>\n",
       "      <td>0.324733</td>\n",
       "    </tr>\n",
       "    <tr>\n",
       "      <th>550.0</th>\n",
       "      <td>0.331773</td>\n",
       "    </tr>\n",
       "    <tr>\n",
       "      <th>575.0</th>\n",
       "      <td>0.261785</td>\n",
       "    </tr>\n",
       "    <tr>\n",
       "      <th>600.0</th>\n",
       "      <td>0.222553</td>\n",
       "    </tr>\n",
       "    <tr>\n",
       "      <th>625.0</th>\n",
       "      <td>0.198942</td>\n",
       "    </tr>\n",
       "    <tr>\n",
       "      <th>650.0</th>\n",
       "      <td>0.190071</td>\n",
       "    </tr>\n",
       "    <tr>\n",
       "      <th>675.0</th>\n",
       "      <td>0.167702</td>\n",
       "    </tr>\n",
       "    <tr>\n",
       "      <th>700.0</th>\n",
       "      <td>0.177137</td>\n",
       "    </tr>\n",
       "    <tr>\n",
       "      <th>725.0</th>\n",
       "      <td>0.159267</td>\n",
       "    </tr>\n",
       "    <tr>\n",
       "      <th>750.0</th>\n",
       "      <td>0.148116</td>\n",
       "    </tr>\n",
       "    <tr>\n",
       "      <th>775.0</th>\n",
       "      <td>0.136143</td>\n",
       "    </tr>\n",
       "    <tr>\n",
       "      <th>800.0</th>\n",
       "      <td>0.129518</td>\n",
       "    </tr>\n",
       "    <tr>\n",
       "      <th>825.0</th>\n",
       "      <td>0.000000</td>\n",
       "    </tr>\n",
       "  </tbody>\n",
       "</table>\n",
       "</div>"
      ],
      "text/plain": [
       "               FALLOUT_FLAG\n",
       "CREDIT_BUCKET              \n",
       "-1000.0            1.000000\n",
       " 100.0             0.722222\n",
       " 200.0             1.000000\n",
       " 400.0             0.500000\n",
       " 425.0             0.588235\n",
       " 450.0             0.366906\n",
       " 475.0             0.335165\n",
       " 500.0             0.363281\n",
       " 525.0             0.324733\n",
       " 550.0             0.331773\n",
       " 575.0             0.261785\n",
       " 600.0             0.222553\n",
       " 625.0             0.198942\n",
       " 650.0             0.190071\n",
       " 675.0             0.167702\n",
       " 700.0             0.177137\n",
       " 725.0             0.159267\n",
       " 750.0             0.148116\n",
       " 775.0             0.136143\n",
       " 800.0             0.129518\n",
       " 825.0             0.000000"
      ]
     },
     "execution_count": 17,
     "metadata": {},
     "output_type": "execute_result"
    }
   ],
   "source": [
    "df_augmented[['CREDIT_BUCKET','FALLOUT_FLAG']].groupby(['CREDIT_BUCKET']).mean()"
   ]
  },
  {
   "cell_type": "code",
   "execution_count": 18,
   "metadata": {},
   "outputs": [
    {
     "data": {
      "text/html": [
       "<div>\n",
       "<style scoped>\n",
       "    .dataframe tbody tr th:only-of-type {\n",
       "        vertical-align: middle;\n",
       "    }\n",
       "\n",
       "    .dataframe tbody tr th {\n",
       "        vertical-align: top;\n",
       "    }\n",
       "\n",
       "    .dataframe thead th {\n",
       "        text-align: right;\n",
       "    }\n",
       "</style>\n",
       "<table border=\"1\" class=\"dataframe\">\n",
       "  <thead>\n",
       "    <tr style=\"text-align: right;\">\n",
       "      <th></th>\n",
       "      <th>FALLOUT_FLAG</th>\n",
       "    </tr>\n",
       "    <tr>\n",
       "      <th>CREDIT_BUCKET</th>\n",
       "      <th></th>\n",
       "    </tr>\n",
       "  </thead>\n",
       "  <tbody>\n",
       "    <tr>\n",
       "      <th>-1000.0</th>\n",
       "      <td>18055</td>\n",
       "    </tr>\n",
       "    <tr>\n",
       "      <th>100.0</th>\n",
       "      <td>18</td>\n",
       "    </tr>\n",
       "    <tr>\n",
       "      <th>200.0</th>\n",
       "      <td>7</td>\n",
       "    </tr>\n",
       "    <tr>\n",
       "      <th>400.0</th>\n",
       "      <td>2</td>\n",
       "    </tr>\n",
       "    <tr>\n",
       "      <th>425.0</th>\n",
       "      <td>17</td>\n",
       "    </tr>\n",
       "    <tr>\n",
       "      <th>450.0</th>\n",
       "      <td>139</td>\n",
       "    </tr>\n",
       "    <tr>\n",
       "      <th>475.0</th>\n",
       "      <td>364</td>\n",
       "    </tr>\n",
       "    <tr>\n",
       "      <th>500.0</th>\n",
       "      <td>768</td>\n",
       "    </tr>\n",
       "    <tr>\n",
       "      <th>525.0</th>\n",
       "      <td>1124</td>\n",
       "    </tr>\n",
       "    <tr>\n",
       "      <th>550.0</th>\n",
       "      <td>1495</td>\n",
       "    </tr>\n",
       "    <tr>\n",
       "      <th>575.0</th>\n",
       "      <td>2185</td>\n",
       "    </tr>\n",
       "    <tr>\n",
       "      <th>600.0</th>\n",
       "      <td>3024</td>\n",
       "    </tr>\n",
       "    <tr>\n",
       "      <th>625.0</th>\n",
       "      <td>4157</td>\n",
       "    </tr>\n",
       "    <tr>\n",
       "      <th>650.0</th>\n",
       "      <td>5177</td>\n",
       "    </tr>\n",
       "    <tr>\n",
       "      <th>675.0</th>\n",
       "      <td>5313</td>\n",
       "    </tr>\n",
       "    <tr>\n",
       "      <th>700.0</th>\n",
       "      <td>4505</td>\n",
       "    </tr>\n",
       "    <tr>\n",
       "      <th>725.0</th>\n",
       "      <td>3491</td>\n",
       "    </tr>\n",
       "    <tr>\n",
       "      <th>750.0</th>\n",
       "      <td>3450</td>\n",
       "    </tr>\n",
       "    <tr>\n",
       "      <th>775.0</th>\n",
       "      <td>3085</td>\n",
       "    </tr>\n",
       "    <tr>\n",
       "      <th>800.0</th>\n",
       "      <td>1660</td>\n",
       "    </tr>\n",
       "    <tr>\n",
       "      <th>825.0</th>\n",
       "      <td>14</td>\n",
       "    </tr>\n",
       "  </tbody>\n",
       "</table>\n",
       "</div>"
      ],
      "text/plain": [
       "               FALLOUT_FLAG\n",
       "CREDIT_BUCKET              \n",
       "-1000.0               18055\n",
       " 100.0                   18\n",
       " 200.0                    7\n",
       " 400.0                    2\n",
       " 425.0                   17\n",
       " 450.0                  139\n",
       " 475.0                  364\n",
       " 500.0                  768\n",
       " 525.0                 1124\n",
       " 550.0                 1495\n",
       " 575.0                 2185\n",
       " 600.0                 3024\n",
       " 625.0                 4157\n",
       " 650.0                 5177\n",
       " 675.0                 5313\n",
       " 700.0                 4505\n",
       " 725.0                 3491\n",
       " 750.0                 3450\n",
       " 775.0                 3085\n",
       " 800.0                 1660\n",
       " 825.0                   14"
      ]
     },
     "execution_count": 18,
     "metadata": {},
     "output_type": "execute_result"
    }
   ],
   "source": [
    "df_augmented[['CREDIT_BUCKET', 'FALLOUT_FLAG']].groupby(['CREDIT_BUCKET']).count()"
   ]
  },
  {
   "cell_type": "code",
   "execution_count": 19,
   "metadata": {},
   "outputs": [],
   "source": [
    "#plt.hist(df_augmented['CREDIT_BUCKET'])"
   ]
  },
  {
   "cell_type": "markdown",
   "metadata": {},
   "source": [
    "We partition BORROWER_CREDIT_SCORE into groups based on its value range:<br>"
   ]
  },
  {
   "cell_type": "code",
   "execution_count": 20,
   "metadata": {},
   "outputs": [],
   "source": [
    "df.loc[df['BORROWER_CREDIT_SCORE'] == -999, 'CREDIT_nan'] = 1\n",
    "df.loc[(df['BORROWER_CREDIT_SCORE'] >= 0) & (df['BORROWER_CREDIT_SCORE'] <= 300), 'CREDIT_300'] = 1"
   ]
  },
  {
   "cell_type": "code",
   "execution_count": 21,
   "metadata": {},
   "outputs": [],
   "source": [
    "for i in range(750, 875, 25):\n",
    "    tempColumnName = \"CREDIT_\" + str(i)\n",
    "    df.loc[(df['BORROWER_CREDIT_SCORE'] > (i - 25)) \n",
    "                  & (df['BORROWER_CREDIT_SCORE'] <= i), tempColumnName] = 1"
   ]
  },
  {
   "cell_type": "code",
   "execution_count": 22,
   "metadata": {},
   "outputs": [],
   "source": [
    "df['CREDIT_SQUARE'] = df['BORROWER_CREDIT_SCORE'] * df['BORROWER_CREDIT_SCORE']\n",
    "df['CREDIT_DEV'] = df['BORROWER_CREDIT_SCORE'] - df['BORROWER_CREDIT_SCORE'].mean()\n",
    "df['CREDIT_TRI'] = df['BORROWER_CREDIT_SCORE'] * df['CREDIT_SQUARE']"
   ]
  },
  {
   "cell_type": "code",
   "execution_count": 23,
   "metadata": {},
   "outputs": [
    {
     "data": {
      "text/plain": [
       "AGE                                      0\n",
       "SCHOOLING                                0\n",
       "DEPEND                                   0\n",
       "BORROWER_CREDIT_SCORE                    0\n",
       "INITIAL_RATE                             0\n",
       "FALLOUT_FLAG                             0\n",
       "GENDER_Male                              0\n",
       "GENDER_Not provided by phone/mail app    0\n",
       "MARITAL_Separated                        0\n",
       "MARITAL_Unknown                          0\n",
       "MARITAL_Unmarried                        0\n",
       "OCCUPY_Y                                 0\n",
       "JUDGEMENTS_Y                             0\n",
       "BANKRUPTCY_Y                             0\n",
       "FORECLOSURE_Y                            0\n",
       "LAWSUIT_Y                                0\n",
       "ALIMONY_Y                                0\n",
       "VETERAN_Unknown                          0\n",
       "VETERAN_Y                                0\n",
       "PAST_LOAN_Y                              0\n",
       "CREDIT_nan                               0\n",
       "CREDIT_300                               0\n",
       "CREDIT_750                               0\n",
       "CREDIT_775                               0\n",
       "CREDIT_800                               0\n",
       "CREDIT_825                               0\n",
       "CREDIT_850                               0\n",
       "CREDIT_SQUARE                            0\n",
       "CREDIT_DEV                               0\n",
       "CREDIT_TRI                               0\n",
       "dtype: int64"
      ]
     },
     "execution_count": 23,
     "metadata": {},
     "output_type": "execute_result"
    }
   ],
   "source": [
    "df.fillna(value = 0, inplace = True)\n",
    "df.isna().sum()"
   ]
  },
  {
   "cell_type": "markdown",
   "metadata": {},
   "source": [
    "# (5) Modeling\n",
    "We first split the dataset into training set and testing set. And use \n",
    "1. Decision Tree\n",
    "2. SVM\n",
    "3. Logistic Regression  \n",
    "\n",
    "to fit the model, then use this model to predict."
   ]
  },
  {
   "cell_type": "code",
   "execution_count": 24,
   "metadata": {},
   "outputs": [],
   "source": [
    "X = df.drop('FALLOUT_FLAG',axis=1)\n",
    "y = df['FALLOUT_FLAG']\n",
    "X_train, X_test, y_train, y_test = train_test_split(X, y, test_size=0.2, random_state=0)"
   ]
  },
  {
   "cell_type": "markdown",
   "metadata": {},
   "source": [
    "## Decision Tree"
   ]
  },
  {
   "cell_type": "markdown",
   "metadata": {},
   "source": [
    "### Prediction and Validation"
   ]
  },
  {
   "cell_type": "code",
   "execution_count": 25,
   "metadata": {},
   "outputs": [
    {
     "name": "stdout",
     "output_type": "stream",
     "text": [
      "--- 4.806262254714966 seconds ---\n"
     ]
    }
   ],
   "source": [
    "start_dt = time.time()\n",
    "parameters = {'min_samples_split':[50,100,200,300,400,500]}\n",
    "clf = GridSearchCV(tree.DecisionTreeClassifier(random_state=1),parameters,scoring='f1_weighted',cv=10,n_jobs=-1)\n",
    "clf.fit(X_train,y_train)\n",
    "print(\"--- %s seconds ---\" % (time.time() - start_dt))"
   ]
  },
  {
   "cell_type": "code",
   "execution_count": 26,
   "metadata": {},
   "outputs": [
    {
     "data": {
      "text/plain": [
       "array([0.8585033 , 0.8654376 , 0.8689433 , 0.86974276, 0.87072298,\n",
       "       0.87099468])"
      ]
     },
     "execution_count": 26,
     "metadata": {},
     "output_type": "execute_result"
    }
   ],
   "source": [
    "clf.cv_results_['mean_test_score']"
   ]
  },
  {
   "cell_type": "code",
   "execution_count": 27,
   "metadata": {},
   "outputs": [],
   "source": [
    "# Decision Tree\n",
    "DTclf = tree.DecisionTreeClassifier(min_samples_split=100).fit(X_train, y_train)\n",
    "y_pred_DT = DTclf.predict(X_test)"
   ]
  },
  {
   "cell_type": "code",
   "execution_count": 28,
   "metadata": {},
   "outputs": [
    {
     "name": "stdout",
     "output_type": "stream",
     "text": [
      "              precision    recall  f1-score   support\n",
      "\n",
      "           0       0.83      0.95      0.89      6391\n",
      "           1       0.93      0.76      0.84      5219\n",
      "\n",
      "    accuracy                           0.87     11610\n",
      "   macro avg       0.88      0.86      0.86     11610\n",
      "weighted avg       0.88      0.87      0.87     11610\n",
      "\n"
     ]
    }
   ],
   "source": [
    "print(metrics.classification_report(y_test,y_pred_DT))"
   ]
  },
  {
   "cell_type": "code",
   "execution_count": 29,
   "metadata": {},
   "outputs": [
    {
     "name": "stdout",
     "output_type": "stream",
     "text": [
      "              precision    recall  f1-score   support\n",
      "\n",
      "           0       0.86      0.68      0.76      6391\n",
      "           1       0.69      0.87      0.77      5219\n",
      "\n",
      "    accuracy                           0.76     11610\n",
      "   macro avg       0.78      0.77      0.76     11610\n",
      "weighted avg       0.79      0.76      0.76     11610\n",
      "\n"
     ]
    }
   ],
   "source": [
    "#threshold modification\n",
    "y_myprediction = (DTclf.predict_proba(X_test) >= 0.2).astype(int)\n",
    "y_myprediction = y_myprediction[:,1]\n",
    "print(metrics.classification_report(y_test,y_myprediction))"
   ]
  },
  {
   "cell_type": "code",
   "execution_count": 30,
   "metadata": {},
   "outputs": [
    {
     "name": "stdout",
     "output_type": "stream",
     "text": [
      "              precision    recall  f1-score   support\n",
      "\n",
      "           0       0.88      0.39      0.54      6391\n",
      "           1       0.55      0.93      0.69      5219\n",
      "\n",
      "    accuracy                           0.63     11610\n",
      "   macro avg       0.71      0.66      0.62     11610\n",
      "weighted avg       0.73      0.63      0.61     11610\n",
      "\n"
     ]
    }
   ],
   "source": [
    "#threshold modification\n",
    "y_myprediction = (DTclf.predict_proba(X_test) >= 0.1).astype(int)\n",
    "y_myprediction = y_myprediction[:,1]\n",
    "print(metrics.classification_report(y_test,y_myprediction))"
   ]
  },
  {
   "cell_type": "code",
   "execution_count": 31,
   "metadata": {},
   "outputs": [
    {
     "data": {
      "image/png": "[encoded data removed]",
      "text/plain": [
       "<Figure size 432x288 with 1 Axes>"
      ]
     },
     "metadata": {
      "needs_background": "light"
     },
     "output_type": "display_data"
    }
   ],
   "source": [
    "fpr, tpr, thresholds = metrics.roc_curve(y_test, y_pred_DT, pos_label=1)\n",
    "plt.figure()\n",
    "plt.plot(fpr, tpr, label='Decision Tree (area = %0.2f)' % metrics.roc_auc_score(y_test, y_pred_DT))\n",
    "plt.plot([0, 1], [0, 1],'r--')\n",
    "plt.xlim([0.0, 1.0])\n",
    "plt.ylim([0.0, 1.05])\n",
    "plt.xlabel('False Positive Rate')\n",
    "plt.ylabel('True Positive Rate')\n",
    "plt.title('ROC Curve of Decision Tree')\n",
    "plt.legend(loc=\"lower right\")\n",
    "plt.show()"
   ]
  },
  {
   "cell_type": "code",
   "execution_count": 32,
   "metadata": {},
   "outputs": [
    {
     "data": {
      "image/png": "[encoded data removed]",
      "text/plain": [
       "<Figure size 432x288 with 1 Axes>"
      ]
     },
     "metadata": {
      "needs_background": "light"
     },
     "output_type": "display_data"
    }
   ],
   "source": [
    "precision, recall, thresholds = metrics.precision_recall_curve(y_test, y_pred_DT)\n",
    "plt.figure()\n",
    "plt.plot(recall, precision, label=\"Decision Tree\")\n",
    "plt.xlabel(\"Recall\")\n",
    "plt.ylabel(\"Precision\")\n",
    "plt.title(\"Precision-Recall Curve of Decision Tree\")\n",
    "plt.legend()\n",
    "plt.show()"
   ]
  },
  {
   "cell_type": "code",
   "execution_count": 33,
   "metadata": {},
   "outputs": [
    {
     "name": "stdout",
     "output_type": "stream",
     "text": [
      "Feature: 0, Score: 0.00723\n",
      "Feature: 1, Score: 0.00233\n",
      "Feature: 2, Score: 0.00160\n",
      "Feature: 3, Score: 0.88961\n",
      "Feature: 4, Score: 0.00701\n",
      "Feature: 5, Score: 0.00006\n",
      "Feature: 6, Score: 0.00013\n",
      "Feature: 7, Score: 0.00219\n",
      "Feature: 8, Score: 0.00000\n",
      "Feature: 9, Score: 0.00051\n",
      "Feature: 10, Score: 0.00075\n",
      "Feature: 11, Score: 0.00078\n",
      "Feature: 12, Score: 0.00100\n",
      "Feature: 13, Score: 0.00037\n",
      "Feature: 14, Score: 0.00069\n",
      "Feature: 15, Score: 0.00038\n",
      "Feature: 16, Score: 0.00423\n",
      "Feature: 17, Score: 0.05682\n",
      "Feature: 18, Score: 0.00000\n",
      "Feature: 19, Score: 0.00000\n",
      "Feature: 20, Score: 0.00000\n",
      "Feature: 21, Score: 0.00008\n",
      "Feature: 22, Score: 0.00000\n",
      "Feature: 23, Score: 0.00000\n",
      "Feature: 24, Score: 0.00000\n",
      "Feature: 25, Score: 0.00000\n",
      "Feature: 26, Score: 0.00171\n",
      "Feature: 27, Score: 0.01900\n",
      "Feature: 28, Score: 0.00352\n"
     ]
    },
    {
     "data": {
      "image/png": "[encoded data removed]",
      "text/plain": [
       "<Figure size 432x288 with 1 Axes>"
      ]
     },
     "metadata": {
      "needs_background": "light"
     },
     "output_type": "display_data"
    }
   ],
   "source": [
    "importance = clf.best_estimator_.feature_importances_\n",
    "# summarize feature importance\n",
    "for i,v in enumerate(importance):\n",
    "\tprint('Feature: %0d, Score: %.5f' % (i,v))\n",
    "# plot feature importance\n",
    "plt.bar([x for x in range(len(importance))], importance)\n",
    "plt.show()"
   ]
  },
  {
   "cell_type": "code",
   "execution_count": 34,
   "metadata": {},
   "outputs": [
    {
     "name": "stdout",
     "output_type": "stream",
     "text": [
      "BORROWER_CREDIT_SCORE VETERAN_Y\n"
     ]
    }
   ],
   "source": [
    "print(X.columns[3], X.columns[17])"
   ]
  },
  {
   "cell_type": "markdown",
   "metadata": {},
   "source": [
    "BORROWER_CREDIT_SCORE and VETERAN_Y has much higher impotance than other features. <br>\n",
    "So we generate synthetic features based on the above 2 features in the feature engineering section."
   ]
  },
  {
   "cell_type": "markdown",
   "metadata": {},
   "source": [
    "## SVM"
   ]
  },
  {
   "cell_type": "code",
   "execution_count": 35,
   "metadata": {},
   "outputs": [],
   "source": [
    "# Transform features into the same scale\n",
    "X_train_scaled = X_train.copy()\n",
    "X_test_scaled = X_test.copy()\n",
    "\n",
    "scaler = MinMaxScaler()\n",
    "\n",
    "X_train_scaled[['AGE','SCHOOLING','BORROWER_CREDIT_SCORE','INITIAL_RATE']] = scaler.fit_transform(X_train_scaled[['AGE','SCHOOLING','BORROWER_CREDIT_SCORE','INITIAL_RATE']])\n",
    "X_test_scaled[['AGE','SCHOOLING','BORROWER_CREDIT_SCORE','INITIAL_RATE']] = scaler.fit_transform(X_test_scaled[['AGE','SCHOOLING','BORROWER_CREDIT_SCORE','INITIAL_RATE']])"
   ]
  },
  {
   "cell_type": "code",
   "execution_count": 37,
   "metadata": {},
   "outputs": [
    {
     "name": "stdout",
     "output_type": "stream",
     "text": [
      "--- 2572.7962543964386 seconds ---\n"
     ]
    }
   ],
   "source": [
    "start_svm = time.time()\n",
    "parameters = {'C':[0.1, 1 , 10, 100],'gamma':['scale','auto']}\n",
    "clf = GridSearchCV(svm.SVC(random_state=1, probability = True),parameters,scoring='f1_weighted',cv=5,n_jobs=-1)\n",
    "clf.fit(X_train_scaled,y_train)\n",
    "print(\"--- %s seconds ---\" % (time.time() - start_svm))"
   ]
  },
  {
   "cell_type": "code",
   "execution_count": 38,
   "metadata": {},
   "outputs": [
    {
     "data": {
      "text/plain": [
       "array([0.86080937, 0.85835411, 0.86080937, 0.83347163, 0.86080937,\n",
       "       0.73301329, 0.86080937, 0.40788967])"
      ]
     },
     "execution_count": 38,
     "metadata": {},
     "output_type": "execute_result"
    }
   ],
   "source": [
    "clf.cv_results_['mean_test_score']"
   ]
  },
  {
   "cell_type": "code",
   "execution_count": 42,
   "metadata": {},
   "outputs": [],
   "source": [
    "# SVM\n",
    "# Decision Tree\n",
    "SVMclf = svm.SVC(C=100,gamma='scale',probability = True).fit(X_train_scaled, y_train)\n",
    "y_pred_SVM = SVMclf.predict(X_test_scaled)"
   ]
  },
  {
   "cell_type": "code",
   "execution_count": 43,
   "metadata": {},
   "outputs": [
    {
     "name": "stdout",
     "output_type": "stream",
     "text": [
      "              precision    recall  f1-score   support\n",
      "\n",
      "           0       0.81      1.00      0.89      6391\n",
      "           1       1.00      0.70      0.83      5219\n",
      "\n",
      "    accuracy                           0.87     11610\n",
      "   macro avg       0.90      0.85      0.86     11610\n",
      "weighted avg       0.89      0.87      0.86     11610\n",
      "\n"
     ]
    }
   ],
   "source": [
    "print(metrics.classification_report(y_test,y_pred_SVM))"
   ]
  },
  {
   "cell_type": "code",
   "execution_count": 44,
   "metadata": {},
   "outputs": [
    {
     "name": "stdout",
     "output_type": "stream",
     "text": [
      "              precision    recall  f1-score   support\n",
      "\n",
      "           0       0.81      1.00      0.89      6391\n",
      "           1       1.00      0.70      0.83      5219\n",
      "\n",
      "    accuracy                           0.87     11610\n",
      "   macro avg       0.90      0.85      0.86     11610\n",
      "weighted avg       0.89      0.87      0.86     11610\n",
      "\n"
     ]
    }
   ],
   "source": [
    "#threshold modification\n",
    "y_myprediction = (SVMclf.predict_proba(X_test) >= 0.2).astype(int)\n",
    "y_myprediction = y_myprediction[:,1]\n",
    "print(metrics.classification_report(y_test,y_myprediction))"
   ]
  },
  {
   "cell_type": "code",
   "execution_count": 61,
   "metadata": {},
   "outputs": [
    {
     "name": "stdout",
     "output_type": "stream",
     "text": [
      "              precision    recall  f1-score   support\n",
      "\n",
      "           0       0.00      0.00      0.00      6391\n",
      "           1       0.45      1.00      0.62      5219\n",
      "\n",
      "    accuracy                           0.45     11610\n",
      "   macro avg       0.22      0.50      0.31     11610\n",
      "weighted avg       0.20      0.45      0.28     11610\n",
      "\n"
     ]
    }
   ],
   "source": [
    "#threshold modification\n",
    "y_myprediction = (SVMclf.predict_proba(X_test) >= 0.19).astype(int)\n",
    "y_myprediction = y_myprediction[:,1]\n",
    "print(metrics.classification_report(y_test,y_myprediction))"
   ]
  },
  {
   "cell_type": "code",
   "execution_count": 46,
   "metadata": {},
   "outputs": [
    {
     "data": {
      "image/png": "[encoded data removed]",
      "text/plain": [
       "<Figure size 432x288 with 1 Axes>"
      ]
     },
     "metadata": {
      "needs_background": "light"
     },
     "output_type": "display_data"
    }
   ],
   "source": [
    "fpr, tpr, thresholds = metrics.roc_curve(y_test, y_pred_SVM, pos_label=1)\n",
    "plt.figure()\n",
    "plt.plot(fpr, tpr, label='SVM (area = %0.2f)' % metrics.roc_auc_score(y_test, y_pred_SVM))\n",
    "plt.plot([0, 1], [0, 1],'r--')\n",
    "plt.xlim([0.0, 1.0])\n",
    "plt.ylim([0.0, 1.05])\n",
    "plt.xlabel('False Positive Rate')\n",
    "plt.ylabel('True Positive Rate')\n",
    "plt.title('ROC Curve of SVM')\n",
    "plt.legend(loc=\"lower right\")\n",
    "plt.show()"
   ]
  },
  {
   "cell_type": "code",
   "execution_count": 47,
   "metadata": {},
   "outputs": [
    {
     "data": {
      "image/png": "[encoded data removed]",
      "text/plain": [
       "<Figure size 432x288 with 1 Axes>"
      ]
     },
     "metadata": {
      "needs_background": "light"
     },
     "output_type": "display_data"
    }
   ],
   "source": [
    "precision, recall, thresholds = metrics.precision_recall_curve(y_test, y_pred_SVM)\n",
    "plt.figure()\n",
    "plt.plot(recall, precision, label=\"SVM\")\n",
    "plt.xlabel(\"Recall\")\n",
    "plt.ylabel(\"Precision\")\n",
    "plt.title(\"Precision-Recall Curve of SVM\")\n",
    "plt.legend()\n",
    "plt.show()"
   ]
  },
  {
   "cell_type": "markdown",
   "metadata": {},
   "source": [
    "## Logistic Regression"
   ]
  },
  {
   "cell_type": "code",
   "execution_count": 48,
   "metadata": {},
   "outputs": [
    {
     "name": "stdout",
     "output_type": "stream",
     "text": [
      "--- 8.610162496566772 seconds ---\n"
     ]
    }
   ],
   "source": [
    "start_lr = time.time()\n",
    "parameters = {'C':[0.1, 1 , 10, 50, 100],'penalty':['l1','l2','none']}\n",
    "clf = GridSearchCV(LogisticRegression(random_state=1),parameters,scoring='f1_weighted',cv=10,n_jobs=-1)\n",
    "clf.fit(X_train,y_train)\n",
    "print(\"--- %s seconds ---\" % (time.time() - start_lr))"
   ]
  },
  {
   "cell_type": "code",
   "execution_count": 49,
   "metadata": {},
   "outputs": [
    {
     "data": {
      "text/plain": [
       "LogisticRegression(C=0.1, class_weight=None, dual=False, fit_intercept=True,\n",
       "                   intercept_scaling=1, l1_ratio=None, max_iter=100,\n",
       "                   multi_class='auto', n_jobs=None, penalty='l2',\n",
       "                   random_state=1, solver='lbfgs', tol=0.0001, verbose=0,\n",
       "                   warm_start=False)"
      ]
     },
     "execution_count": 49,
     "metadata": {},
     "output_type": "execute_result"
    }
   ],
   "source": [
    "clf.best_estimator_"
   ]
  },
  {
   "cell_type": "code",
   "execution_count": 50,
   "metadata": {},
   "outputs": [
    {
     "data": {
      "text/plain": [
       "array([       nan, 0.86098068, 0.86098068,        nan, 0.86098068,\n",
       "       0.86098068,        nan, 0.86098068, 0.86098068,        nan,\n",
       "       0.86098068, 0.86098068,        nan, 0.86098068, 0.86098068])"
      ]
     },
     "execution_count": 50,
     "metadata": {},
     "output_type": "execute_result"
    }
   ],
   "source": [
    "clf.cv_results_['mean_test_score']"
   ]
  },
  {
   "cell_type": "code",
   "execution_count": 51,
   "metadata": {},
   "outputs": [],
   "source": [
    "LRclf = LogisticRegression(C=0.1,penalty='l2').fit(X_train, y_train)\n",
    "y_pred_LR = LRclf.predict(X_test)"
   ]
  },
  {
   "cell_type": "code",
   "execution_count": 52,
   "metadata": {},
   "outputs": [
    {
     "name": "stdout",
     "output_type": "stream",
     "text": [
      "              precision    recall  f1-score   support\n",
      "\n",
      "           0       0.81      1.00      0.89      6391\n",
      "           1       1.00      0.70      0.83      5219\n",
      "\n",
      "    accuracy                           0.87     11610\n",
      "   macro avg       0.90      0.85      0.86     11610\n",
      "weighted avg       0.89      0.87      0.86     11610\n",
      "\n"
     ]
    }
   ],
   "source": [
    "print(metrics.classification_report(y_test,y_pred_LR))"
   ]
  },
  {
   "cell_type": "code",
   "execution_count": 53,
   "metadata": {},
   "outputs": [
    {
     "name": "stdout",
     "output_type": "stream",
     "text": [
      "              precision    recall  f1-score   support\n",
      "\n",
      "           0       0.85      0.56      0.67      6391\n",
      "           1       0.62      0.87      0.72      5219\n",
      "\n",
      "    accuracy                           0.70     11610\n",
      "   macro avg       0.73      0.72      0.70     11610\n",
      "weighted avg       0.74      0.70      0.70     11610\n",
      "\n"
     ]
    }
   ],
   "source": [
    "#threshold modification\n",
    "y_myprediction = (LRclf.predict_proba(X_test) >= 0.2).astype(int)\n",
    "y_myprediction = y_myprediction[:,1]\n",
    "print(metrics.classification_report(y_test,y_myprediction))"
   ]
  },
  {
   "cell_type": "code",
   "execution_count": 54,
   "metadata": {},
   "outputs": [
    {
     "name": "stdout",
     "output_type": "stream",
     "text": [
      "              precision    recall  f1-score   support\n",
      "\n",
      "           0       0.88      0.11      0.19      6391\n",
      "           1       0.47      0.98      0.64      5219\n",
      "\n",
      "    accuracy                           0.50     11610\n",
      "   macro avg       0.68      0.54      0.41     11610\n",
      "weighted avg       0.70      0.50      0.39     11610\n",
      "\n"
     ]
    }
   ],
   "source": [
    "y_myprediction = (LRclf.predict_proba(X_test) >= 0.1).astype(int)\n",
    "y_myprediction = y_myprediction[:,1]\n",
    "print(metrics.classification_report(y_test,y_myprediction))"
   ]
  },
  {
   "cell_type": "code",
   "execution_count": 55,
   "metadata": {},
   "outputs": [
    {
     "data": {
      "image/png": "[encoded data removed]",
      "text/plain": [
       "<Figure size 432x288 with 1 Axes>"
      ]
     },
     "metadata": {
      "needs_background": "light"
     },
     "output_type": "display_data"
    }
   ],
   "source": [
    "fpr, tpr, thresholds = metrics.roc_curve(y_test, y_pred_LR, pos_label=1)\n",
    "plt.figure()\n",
    "plt.plot(fpr, tpr, label='Logistic Regression (area = %0.2f)' % metrics.roc_auc_score(y_test, y_pred_LR))\n",
    "plt.plot([0, 1], [0, 1],'r--')\n",
    "plt.xlim([0.0, 1.0])\n",
    "plt.ylim([0.0, 1.05])\n",
    "plt.xlabel('False Positive Rate')\n",
    "plt.ylabel('True Positive Rate')\n",
    "plt.title('ROC Curve of Logistic Regression')\n",
    "plt.legend(loc=\"lower right\")\n",
    "plt.show()"
   ]
  },
  {
   "cell_type": "code",
   "execution_count": 56,
   "metadata": {},
   "outputs": [
    {
     "data": {
      "image/png": "[encoded data removed]",
      "text/plain": [
       "<Figure size 432x288 with 1 Axes>"
      ]
     },
     "metadata": {
      "needs_background": "light"
     },
     "output_type": "display_data"
    }
   ],
   "source": [
    "precision, recall, thresholds = metrics.precision_recall_curve(y_test, y_pred_LR)\n",
    "plt.figure()\n",
    "plt.plot(recall, precision, label=\"Logistic Regression\")\n",
    "plt.xlabel(\"Recall\")\n",
    "plt.ylabel(\"Precision\")\n",
    "plt.title(\"Precision-Recall Curve of Logistic Regression\")\n",
    "plt.legend()\n",
    "plt.show()"
   ]
  }
 ],
 "metadata": {
  "kernelspec": {
   "display_name": "Python 3",
   "language": "python",
   "name": "python3"
  },
  "language_info": {
   "codemirror_mode": {
    "name": "ipython",
    "version": 3
   },
   "file_extension": ".py",
   "mimetype": "text/x-python",
   "name": "python",
   "nbconvert_exporter": "python",
   "pygments_lexer": "ipython3",
   "version": "3.7.9"
  },
  "toc": {
   "base_numbering": 1,
   "nav_menu": {},
   "number_sections": true,
   "sideBar": true,
   "skip_h1_title": false,
   "title_cell": "Table of Contents",
   "title_sidebar": "Contents",
   "toc_cell": false,
   "toc_position": {
    "height": "calc(100% - 180px)",
    "left": "10px",
    "top": "150px",
    "width": "384px"
   },
   "toc_section_display": true,
   "toc_window_display": true
  }
 },
 "nbformat": 4,
 "nbformat_minor": 4
}
