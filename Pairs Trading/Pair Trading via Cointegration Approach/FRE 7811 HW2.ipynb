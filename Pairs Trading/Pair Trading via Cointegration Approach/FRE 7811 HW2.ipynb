{
 "cells": [
  {
   "cell_type": "markdown",
   "metadata": {},
   "source": [
    "# Problem 1: Pairs Trading Strategy"
   ]
  },
  {
   "cell_type": "markdown",
   "metadata": {},
   "source": [
    "## Question 1\n",
    "I have selected Walmart (WMT) and Target (TGT) to be the underlying instruments of my pairs trading strategy. Tight price relationship occurs when two companies involve in similar business, offer similar products, and exhibit similar patterns in different economic cycles. Walmart and Target are the two greatest grocery retails companies, so it is reasonable to suspect the stock price changes of these two companies should be closely related, due to their direct competition. In this project, I am going to explore whether there exists opportunity for gaining profits through typical pairs trading strategy via cointegration approach. "
   ]
  },
  {
   "cell_type": "markdown",
   "metadata": {},
   "source": [
    "## Question 2"
   ]
  },
  {
   "cell_type": "code",
   "execution_count": 1,
   "metadata": {},
   "outputs": [],
   "source": [
    "# import necessary packages for future computations\n",
    "import numpy as np\n",
    "import pandas as pd\n",
    "import matplotlib.pyplot as plt\n",
    "from sklearn.linear_model import LinearRegression"
   ]
  },
  {
   "cell_type": "code",
   "execution_count": 2,
   "metadata": {},
   "outputs": [],
   "source": [
    "# define function for running regressions, computing Z-scores, and constructing trading strategies\n",
    "def pairs_trading(A='WMT.csv',B='TGT.csv',L=50,W=15,thres=1):\n",
    "    \n",
    "    wmt = pd.read_csv(A)\n",
    "    tgt = pd.read_csv(B)\n",
    "    \n",
    "    z_score = [0]*L\n",
    "    wmt_position = [0]*L\n",
    "    tgt_position = [0]*L\n",
    "    \n",
    "    for i in range(L,len(wmt),W):\n",
    "        \n",
    "        if i+W <= len(wmt):\n",
    "            wmt_temp_position = np.zeros(W)\n",
    "            tgt_temp_position = np.zeros(W)\n",
    "\n",
    "            X_train = tgt.iloc[i-L:i,5]\n",
    "            y_train = wmt.iloc[i-L:i,5]\n",
    "            X_test = tgt.iloc[i:i+W,5]\n",
    "            y_test = wmt.iloc[i:i+W,5]\n",
    "\n",
    "            reg = LinearRegression().fit(X_train.values.reshape(-1,1), y_train)\n",
    "\n",
    "            train_predicted = reg.predict(X_train.values.reshape(-1,1))\n",
    "            train_res = y_train-train_predicted\n",
    "            vol = np.std(train_res)\n",
    "\n",
    "            test_predicted = reg.predict(X_test.values.reshape(-1,1))\n",
    "            test_res = y_test-test_predicted\n",
    "            test_z = test_res/vol\n",
    "\n",
    "            wmt_temp_position[test_z < -thres] = 1\n",
    "            tgt_temp_position[test_z < -thres] = -y_test[test_z < -thres]/X_test[test_z < -thres]\n",
    "            wmt_temp_position[test_z > thres] = -1\n",
    "            tgt_temp_position[test_z > thres] = y_test[test_z > thres]/X_test[test_z > thres]\n",
    "\n",
    "            z_score += list(test_z)\n",
    "            wmt_position += list(wmt_temp_position)\n",
    "            tgt_position += list(tgt_temp_position)\n",
    "            \n",
    "        else:\n",
    "            wmt_temp_position = np.zeros(len(wmt)-i)\n",
    "            tgt_temp_position = np.zeros(len(wmt)-i)\n",
    "\n",
    "            X_train = tgt.iloc[i-L:i,5]\n",
    "            y_train = wmt.iloc[i-L:i,5]\n",
    "            X_test = tgt.iloc[i:,5]\n",
    "            y_test = wmt.iloc[i:,5]\n",
    "\n",
    "            reg = LinearRegression().fit(X_train.values.reshape(-1,1), y_train)\n",
    "\n",
    "            train_predicted = reg.predict(X_train.values.reshape(-1,1))\n",
    "            train_res = y_train-train_predicted\n",
    "            vol = np.std(train_res)\n",
    "\n",
    "            test_predicted = reg.predict(X_test.values.reshape(-1,1))\n",
    "            test_res = y_test-test_predicted\n",
    "            test_z = test_res/vol\n",
    "\n",
    "            wmt_temp_position[test_z < -thres] = 1\n",
    "            tgt_temp_position[test_z < -thres] = -y_test[test_z < -thres]/X_test[test_z < -thres]\n",
    "            wmt_temp_position[test_z > thres] = -1\n",
    "            tgt_temp_position[test_z > thres] = y_test[test_z > thres]/X_test[test_z > thres]\n",
    "\n",
    "            z_score += list(test_z)\n",
    "            wmt_position += list(wmt_temp_position)\n",
    "            tgt_position += list(tgt_temp_position)\n",
    "        \n",
    "    wmt['Z-Score'] = z_score\n",
    "    tgt['Z-Score'] = z_score\n",
    "    wmt['Position'] = wmt_position\n",
    "    tgt['Position'] = tgt_position\n",
    "    \n",
    "    return wmt,tgt"
   ]
  },
  {
   "cell_type": "markdown",
   "metadata": {},
   "source": [
    "## Question 3"
   ]
  },
  {
   "cell_type": "code",
   "execution_count": 3,
   "metadata": {},
   "outputs": [],
   "source": [
    "# read WMT and TGT daily price data downloaded from Yahoo Finance\n",
    "wmt = pd.read_csv('WMT.csv')\n",
    "tgt = pd.read_csv('TGT.csv')"
   ]
  },
  {
   "cell_type": "code",
   "execution_count": 4,
   "metadata": {},
   "outputs": [
    {
     "data": {
      "text/plain": [
       "<matplotlib.legend.Legend at 0x7f81fd5d2b50>"
      ]
     },
     "execution_count": 4,
     "metadata": {},
     "output_type": "execute_result"
    },
    {
     "data": {
      "image/png": "[encoded data removed]",
      "text/plain": [
       "<Figure size 432x288 with 1 Axes>"
      ]
     },
     "metadata": {
      "needs_background": "light"
     },
     "output_type": "display_data"
    }
   ],
   "source": [
    "# plot price graphs\n",
    "plt.plot(wmt['Adj Close'],label='WMT')\n",
    "plt.plot(tgt['Adj Close'],label='TGT')\n",
    "plt.xlabel('Trading Days after 2000/01/03')\n",
    "plt.ylabel('Price ($)')\n",
    "plt.title('Prices of WMT and TGT')\n",
    "plt.legend()"
   ]
  },
  {
   "cell_type": "markdown",
   "metadata": {},
   "source": [
    "From the visualization, we can spot that these two stock prices indeed have tight relationship in overall trend."
   ]
  },
  {
   "cell_type": "code",
   "execution_count": 5,
   "metadata": {},
   "outputs": [],
   "source": [
    "# call function to calculate Z-score and trading positions\n",
    "result = pairs_trading(A='WMT.csv',B='TGT.csv',L=50,W=15,thres=1)"
   ]
  },
  {
   "cell_type": "code",
   "execution_count": 6,
   "metadata": {},
   "outputs": [
    {
     "data": {
      "text/html": [
       "<div>\n",
       "<style scoped>\n",
       "    .dataframe tbody tr th:only-of-type {\n",
       "        vertical-align: middle;\n",
       "    }\n",
       "\n",
       "    .dataframe tbody tr th {\n",
       "        vertical-align: top;\n",
       "    }\n",
       "\n",
       "    .dataframe thead th {\n",
       "        text-align: right;\n",
       "    }\n",
       "</style>\n",
       "<table border=\"1\" class=\"dataframe\">\n",
       "  <thead>\n",
       "    <tr style=\"text-align: right;\">\n",
       "      <th></th>\n",
       "      <th>Date</th>\n",
       "      <th>Open</th>\n",
       "      <th>High</th>\n",
       "      <th>Low</th>\n",
       "      <th>Close</th>\n",
       "      <th>Adj Close</th>\n",
       "      <th>Volume</th>\n",
       "      <th>Z-Score</th>\n",
       "      <th>Position</th>\n",
       "    </tr>\n",
       "  </thead>\n",
       "  <tbody>\n",
       "    <tr>\n",
       "      <th>0</th>\n",
       "      <td>2000-01-03</td>\n",
       "      <td>68.375000</td>\n",
       "      <td>69.000000</td>\n",
       "      <td>65.500000</td>\n",
       "      <td>66.812500</td>\n",
       "      <td>45.391777</td>\n",
       "      <td>8369900</td>\n",
       "      <td>0.000000</td>\n",
       "      <td>0.0</td>\n",
       "    </tr>\n",
       "    <tr>\n",
       "      <th>1</th>\n",
       "      <td>2000-01-04</td>\n",
       "      <td>65.500000</td>\n",
       "      <td>65.812500</td>\n",
       "      <td>64.187500</td>\n",
       "      <td>64.312500</td>\n",
       "      <td>43.693306</td>\n",
       "      <td>6745100</td>\n",
       "      <td>0.000000</td>\n",
       "      <td>0.0</td>\n",
       "    </tr>\n",
       "    <tr>\n",
       "      <th>2</th>\n",
       "      <td>2000-01-05</td>\n",
       "      <td>63.875000</td>\n",
       "      <td>64.375000</td>\n",
       "      <td>62.187500</td>\n",
       "      <td>63.000000</td>\n",
       "      <td>42.801613</td>\n",
       "      <td>7018700</td>\n",
       "      <td>0.000000</td>\n",
       "      <td>0.0</td>\n",
       "    </tr>\n",
       "    <tr>\n",
       "      <th>3</th>\n",
       "      <td>2000-01-06</td>\n",
       "      <td>63.000000</td>\n",
       "      <td>64.562500</td>\n",
       "      <td>62.687500</td>\n",
       "      <td>63.687500</td>\n",
       "      <td>43.268681</td>\n",
       "      <td>6544500</td>\n",
       "      <td>0.000000</td>\n",
       "      <td>0.0</td>\n",
       "    </tr>\n",
       "    <tr>\n",
       "      <th>4</th>\n",
       "      <td>2000-01-07</td>\n",
       "      <td>64.500000</td>\n",
       "      <td>68.937500</td>\n",
       "      <td>64.500000</td>\n",
       "      <td>68.500000</td>\n",
       "      <td>46.538273</td>\n",
       "      <td>7976900</td>\n",
       "      <td>0.000000</td>\n",
       "      <td>0.0</td>\n",
       "    </tr>\n",
       "    <tr>\n",
       "      <th>...</th>\n",
       "      <td>...</td>\n",
       "      <td>...</td>\n",
       "      <td>...</td>\n",
       "      <td>...</td>\n",
       "      <td>...</td>\n",
       "      <td>...</td>\n",
       "      <td>...</td>\n",
       "      <td>...</td>\n",
       "      <td>...</td>\n",
       "    </tr>\n",
       "    <tr>\n",
       "      <th>5265</th>\n",
       "      <td>2020-12-04</td>\n",
       "      <td>149.509995</td>\n",
       "      <td>149.509995</td>\n",
       "      <td>147.580002</td>\n",
       "      <td>148.910004</td>\n",
       "      <td>148.367676</td>\n",
       "      <td>6963100</td>\n",
       "      <td>-1.512291</td>\n",
       "      <td>1.0</td>\n",
       "    </tr>\n",
       "    <tr>\n",
       "      <th>5266</th>\n",
       "      <td>2020-12-07</td>\n",
       "      <td>148.460007</td>\n",
       "      <td>148.990005</td>\n",
       "      <td>147.160004</td>\n",
       "      <td>148.110001</td>\n",
       "      <td>147.570587</td>\n",
       "      <td>6159700</td>\n",
       "      <td>-1.322717</td>\n",
       "      <td>1.0</td>\n",
       "    </tr>\n",
       "    <tr>\n",
       "      <th>5267</th>\n",
       "      <td>2020-12-08</td>\n",
       "      <td>147.360001</td>\n",
       "      <td>149.850006</td>\n",
       "      <td>147.179993</td>\n",
       "      <td>149.449997</td>\n",
       "      <td>148.905701</td>\n",
       "      <td>6905500</td>\n",
       "      <td>-0.721811</td>\n",
       "      <td>0.0</td>\n",
       "    </tr>\n",
       "    <tr>\n",
       "      <th>5268</th>\n",
       "      <td>2020-12-09</td>\n",
       "      <td>150.000000</td>\n",
       "      <td>150.000000</td>\n",
       "      <td>147.889999</td>\n",
       "      <td>148.270004</td>\n",
       "      <td>147.729996</td>\n",
       "      <td>6713200</td>\n",
       "      <td>-1.541331</td>\n",
       "      <td>1.0</td>\n",
       "    </tr>\n",
       "    <tr>\n",
       "      <th>5269</th>\n",
       "      <td>2020-12-10</td>\n",
       "      <td>147.750000</td>\n",
       "      <td>148.149994</td>\n",
       "      <td>146.570007</td>\n",
       "      <td>147.039993</td>\n",
       "      <td>147.039993</td>\n",
       "      <td>6875800</td>\n",
       "      <td>-1.417776</td>\n",
       "      <td>1.0</td>\n",
       "    </tr>\n",
       "  </tbody>\n",
       "</table>\n",
       "<p>5270 rows × 9 columns</p>\n",
       "</div>"
      ],
      "text/plain": [
       "            Date        Open        High         Low       Close   Adj Close  \\\n",
       "0     2000-01-03   68.375000   69.000000   65.500000   66.812500   45.391777   \n",
       "1     2000-01-04   65.500000   65.812500   64.187500   64.312500   43.693306   \n",
       "2     2000-01-05   63.875000   64.375000   62.187500   63.000000   42.801613   \n",
       "3     2000-01-06   63.000000   64.562500   62.687500   63.687500   43.268681   \n",
       "4     2000-01-07   64.500000   68.937500   64.500000   68.500000   46.538273   \n",
       "...          ...         ...         ...         ...         ...         ...   \n",
       "5265  2020-12-04  149.509995  149.509995  147.580002  148.910004  148.367676   \n",
       "5266  2020-12-07  148.460007  148.990005  147.160004  148.110001  147.570587   \n",
       "5267  2020-12-08  147.360001  149.850006  147.179993  149.449997  148.905701   \n",
       "5268  2020-12-09  150.000000  150.000000  147.889999  148.270004  147.729996   \n",
       "5269  2020-12-10  147.750000  148.149994  146.570007  147.039993  147.039993   \n",
       "\n",
       "       Volume   Z-Score  Position  \n",
       "0     8369900  0.000000       0.0  \n",
       "1     6745100  0.000000       0.0  \n",
       "2     7018700  0.000000       0.0  \n",
       "3     6544500  0.000000       0.0  \n",
       "4     7976900  0.000000       0.0  \n",
       "...       ...       ...       ...  \n",
       "5265  6963100 -1.512291       1.0  \n",
       "5266  6159700 -1.322717       1.0  \n",
       "5267  6905500 -0.721811       0.0  \n",
       "5268  6713200 -1.541331       1.0  \n",
       "5269  6875800 -1.417776       1.0  \n",
       "\n",
       "[5270 rows x 9 columns]"
      ]
     },
     "execution_count": 6,
     "metadata": {},
     "output_type": "execute_result"
    }
   ],
   "source": [
    "# WMT table\n",
    "wmt_result = result[0]\n",
    "wmt_result"
   ]
  },
  {
   "cell_type": "code",
   "execution_count": 7,
   "metadata": {},
   "outputs": [
    {
     "data": {
      "text/html": [
       "<div>\n",
       "<style scoped>\n",
       "    .dataframe tbody tr th:only-of-type {\n",
       "        vertical-align: middle;\n",
       "    }\n",
       "\n",
       "    .dataframe tbody tr th {\n",
       "        vertical-align: top;\n",
       "    }\n",
       "\n",
       "    .dataframe thead th {\n",
       "        text-align: right;\n",
       "    }\n",
       "</style>\n",
       "<table border=\"1\" class=\"dataframe\">\n",
       "  <thead>\n",
       "    <tr style=\"text-align: right;\">\n",
       "      <th></th>\n",
       "      <th>Date</th>\n",
       "      <th>Open</th>\n",
       "      <th>High</th>\n",
       "      <th>Low</th>\n",
       "      <th>Close</th>\n",
       "      <th>Adj Close</th>\n",
       "      <th>Volume</th>\n",
       "      <th>Z-Score</th>\n",
       "      <th>Position</th>\n",
       "    </tr>\n",
       "  </thead>\n",
       "  <tbody>\n",
       "    <tr>\n",
       "      <th>0</th>\n",
       "      <td>2000-01-03</td>\n",
       "      <td>36.125000</td>\n",
       "      <td>36.375000</td>\n",
       "      <td>35.125000</td>\n",
       "      <td>36.031250</td>\n",
       "      <td>24.407228</td>\n",
       "      <td>2870400</td>\n",
       "      <td>0.000000</td>\n",
       "      <td>0.000000</td>\n",
       "    </tr>\n",
       "    <tr>\n",
       "      <th>1</th>\n",
       "      <td>2000-01-04</td>\n",
       "      <td>34.750000</td>\n",
       "      <td>35.343750</td>\n",
       "      <td>34.312500</td>\n",
       "      <td>34.468750</td>\n",
       "      <td>23.348814</td>\n",
       "      <td>3856400</td>\n",
       "      <td>0.000000</td>\n",
       "      <td>0.000000</td>\n",
       "    </tr>\n",
       "    <tr>\n",
       "      <th>2</th>\n",
       "      <td>2000-01-05</td>\n",
       "      <td>34.468750</td>\n",
       "      <td>34.968750</td>\n",
       "      <td>33.500000</td>\n",
       "      <td>33.687500</td>\n",
       "      <td>22.819603</td>\n",
       "      <td>4330600</td>\n",
       "      <td>0.000000</td>\n",
       "      <td>0.000000</td>\n",
       "    </tr>\n",
       "    <tr>\n",
       "      <th>3</th>\n",
       "      <td>2000-01-06</td>\n",
       "      <td>33.000000</td>\n",
       "      <td>33.125000</td>\n",
       "      <td>31.843750</td>\n",
       "      <td>32.093750</td>\n",
       "      <td>21.740002</td>\n",
       "      <td>8167400</td>\n",
       "      <td>0.000000</td>\n",
       "      <td>0.000000</td>\n",
       "    </tr>\n",
       "    <tr>\n",
       "      <th>4</th>\n",
       "      <td>2000-01-07</td>\n",
       "      <td>32.000000</td>\n",
       "      <td>33.843750</td>\n",
       "      <td>31.906250</td>\n",
       "      <td>33.750000</td>\n",
       "      <td>22.861929</td>\n",
       "      <td>4402600</td>\n",
       "      <td>0.000000</td>\n",
       "      <td>0.000000</td>\n",
       "    </tr>\n",
       "    <tr>\n",
       "      <th>...</th>\n",
       "      <td>...</td>\n",
       "      <td>...</td>\n",
       "      <td>...</td>\n",
       "      <td>...</td>\n",
       "      <td>...</td>\n",
       "      <td>...</td>\n",
       "      <td>...</td>\n",
       "      <td>...</td>\n",
       "      <td>...</td>\n",
       "    </tr>\n",
       "    <tr>\n",
       "      <th>5265</th>\n",
       "      <td>2020-12-04</td>\n",
       "      <td>174.380005</td>\n",
       "      <td>175.160004</td>\n",
       "      <td>173.229996</td>\n",
       "      <td>175.029999</td>\n",
       "      <td>175.029999</td>\n",
       "      <td>2935700</td>\n",
       "      <td>-1.512291</td>\n",
       "      <td>-0.847670</td>\n",
       "    </tr>\n",
       "    <tr>\n",
       "      <th>5266</th>\n",
       "      <td>2020-12-07</td>\n",
       "      <td>174.270004</td>\n",
       "      <td>174.949997</td>\n",
       "      <td>171.410004</td>\n",
       "      <td>172.910004</td>\n",
       "      <td>172.910004</td>\n",
       "      <td>3430800</td>\n",
       "      <td>-1.322717</td>\n",
       "      <td>-0.853453</td>\n",
       "    </tr>\n",
       "    <tr>\n",
       "      <th>5267</th>\n",
       "      <td>2020-12-08</td>\n",
       "      <td>172.500000</td>\n",
       "      <td>173.779999</td>\n",
       "      <td>171.740005</td>\n",
       "      <td>172.720001</td>\n",
       "      <td>172.720001</td>\n",
       "      <td>2682200</td>\n",
       "      <td>-0.721811</td>\n",
       "      <td>0.000000</td>\n",
       "    </tr>\n",
       "    <tr>\n",
       "      <th>5268</th>\n",
       "      <td>2020-12-09</td>\n",
       "      <td>173.350006</td>\n",
       "      <td>174.919998</td>\n",
       "      <td>172.410004</td>\n",
       "      <td>174.070007</td>\n",
       "      <td>174.070007</td>\n",
       "      <td>2853800</td>\n",
       "      <td>-1.541331</td>\n",
       "      <td>-0.848682</td>\n",
       "    </tr>\n",
       "    <tr>\n",
       "      <th>5269</th>\n",
       "      <td>2020-12-10</td>\n",
       "      <td>173.589996</td>\n",
       "      <td>174.240005</td>\n",
       "      <td>172.070007</td>\n",
       "      <td>172.399994</td>\n",
       "      <td>172.399994</td>\n",
       "      <td>2636700</td>\n",
       "      <td>-1.417776</td>\n",
       "      <td>-0.852900</td>\n",
       "    </tr>\n",
       "  </tbody>\n",
       "</table>\n",
       "<p>5270 rows × 9 columns</p>\n",
       "</div>"
      ],
      "text/plain": [
       "            Date        Open        High         Low       Close   Adj Close  \\\n",
       "0     2000-01-03   36.125000   36.375000   35.125000   36.031250   24.407228   \n",
       "1     2000-01-04   34.750000   35.343750   34.312500   34.468750   23.348814   \n",
       "2     2000-01-05   34.468750   34.968750   33.500000   33.687500   22.819603   \n",
       "3     2000-01-06   33.000000   33.125000   31.843750   32.093750   21.740002   \n",
       "4     2000-01-07   32.000000   33.843750   31.906250   33.750000   22.861929   \n",
       "...          ...         ...         ...         ...         ...         ...   \n",
       "5265  2020-12-04  174.380005  175.160004  173.229996  175.029999  175.029999   \n",
       "5266  2020-12-07  174.270004  174.949997  171.410004  172.910004  172.910004   \n",
       "5267  2020-12-08  172.500000  173.779999  171.740005  172.720001  172.720001   \n",
       "5268  2020-12-09  173.350006  174.919998  172.410004  174.070007  174.070007   \n",
       "5269  2020-12-10  173.589996  174.240005  172.070007  172.399994  172.399994   \n",
       "\n",
       "       Volume   Z-Score  Position  \n",
       "0     2870400  0.000000  0.000000  \n",
       "1     3856400  0.000000  0.000000  \n",
       "2     4330600  0.000000  0.000000  \n",
       "3     8167400  0.000000  0.000000  \n",
       "4     4402600  0.000000  0.000000  \n",
       "...       ...       ...       ...  \n",
       "5265  2935700 -1.512291 -0.847670  \n",
       "5266  3430800 -1.322717 -0.853453  \n",
       "5267  2682200 -0.721811  0.000000  \n",
       "5268  2853800 -1.541331 -0.848682  \n",
       "5269  2636700 -1.417776 -0.852900  \n",
       "\n",
       "[5270 rows x 9 columns]"
      ]
     },
     "execution_count": 7,
     "metadata": {},
     "output_type": "execute_result"
    }
   ],
   "source": [
    "# TGT table\n",
    "tgt_result = result[1]\n",
    "tgt_result"
   ]
  },
  {
   "cell_type": "markdown",
   "metadata": {},
   "source": [
    "## Question 4"
   ]
  },
  {
   "cell_type": "code",
   "execution_count": 8,
   "metadata": {},
   "outputs": [
    {
     "data": {
      "text/plain": [
       "array([ 1.        ,  0.88103722,  0.93018355, ..., 14.17132845,\n",
       "       14.17132845, 14.22052387])"
      ]
     },
     "execution_count": 8,
     "metadata": {},
     "output_type": "execute_result"
    }
   ],
   "source": [
    "# calculate net value\n",
    "wmt_result['Daily Return'] = wmt_result['Adj Close']/wmt_result['Adj Close'].shift(1)-1\n",
    "tgt_result['Daily Return'] = tgt_result['Adj Close']/tgt_result['Adj Close'].shift(1)-1\n",
    "NV = (wmt_result.iloc[50:,8].shift(1)*wmt_result.iloc[50:,9]+tgt_result.iloc[50:,8].shift(1)*tgt_result.iloc[50:,9])+1\n",
    "NV = np.nan_to_num(NV,nan=1).cumprod()\n",
    "NV"
   ]
  },
  {
   "cell_type": "code",
   "execution_count": 9,
   "metadata": {},
   "outputs": [
    {
     "name": "stdout",
     "output_type": "stream",
     "text": [
      "10-year rough PnL of initial wealth being 1 is equal to 13.220523865860534\n"
     ]
    }
   ],
   "source": [
    "# calculate PnL\n",
    "print('10-year rough PnL of initial wealth being 1 is equal to',NV[-1]-NV[0])"
   ]
  },
  {
   "cell_type": "code",
   "execution_count": 10,
   "metadata": {},
   "outputs": [
    {
     "data": {
      "text/plain": [
       "Text(0.5, 1.0, 'Net Value of Pairs Trading Strategy')"
      ]
     },
     "execution_count": 10,
     "metadata": {},
     "output_type": "execute_result"
    },
    {
     "data": {
      "image/png": "[encoded data removed]",
      "text/plain": [
       "<Figure size 432x288 with 1 Axes>"
      ]
     },
     "metadata": {
      "needs_background": "light"
     },
     "output_type": "display_data"
    }
   ],
   "source": [
    "# plot net value\n",
    "plt.plot(NV)\n",
    "plt.xlabel('Trading Days after 2000/01/03')\n",
    "plt.ylabel('Net Value')\n",
    "plt.title('Net Value of Pairs Trading Strategy')"
   ]
  },
  {
   "cell_type": "code",
   "execution_count": 11,
   "metadata": {},
   "outputs": [
    {
     "name": "stdout",
     "output_type": "stream",
     "text": [
      "Sharpe ratio when assume risk-free rate being 0 is equal to 0.036066772104959316\n"
     ]
    }
   ],
   "source": [
    "# calculate sharpe ratio\n",
    "mean = np.mean(wmt_result.iloc[50:,8].shift(1)*wmt_result.iloc[50:,9]+tgt_result.iloc[50:,8].shift(1)*tgt_result.iloc[50:,9])\n",
    "std = np.std(wmt_result.iloc[50:,8].shift(1)*wmt_result.iloc[50:,9]+tgt_result.iloc[50:,8].shift(1)*tgt_result.iloc[50:,9])\n",
    "print('Sharpe ratio when assume risk-free rate being 0 is equal to',mean/std)\n"
   ]
  },
  {
   "cell_type": "code",
   "execution_count": 12,
   "metadata": {},
   "outputs": [],
   "source": [
    "# define drawdown function\n",
    "def drawdown(array):\n",
    "    \n",
    "    depth_pct = []\n",
    "    \n",
    "    for i in range(len(array)):\n",
    "        current_max = max(array[:i+1])\n",
    "        depth_pct.append((current_max-array[i])/current_max)\n",
    "    \n",
    "    return depth_pct"
   ]
  },
  {
   "cell_type": "code",
   "execution_count": 13,
   "metadata": {},
   "outputs": [
    {
     "data": {
      "text/plain": [
       "Text(0.5, 1.0, 'Drawdowns of Pairs Trading Strategy')"
      ]
     },
     "execution_count": 13,
     "metadata": {},
     "output_type": "execute_result"
    },
    {
     "data": {
      "image/png": "[encoded data removed]",
      "text/plain": [
       "<Figure size 432x288 with 1 Axes>"
      ]
     },
     "metadata": {
      "needs_background": "light"
     },
     "output_type": "display_data"
    }
   ],
   "source": [
    "# call function to calculate all drawdowns and plot them accordingly\n",
    "dds = drawdown(NV)\n",
    "\n",
    "plt.plot(dds)\n",
    "plt.xlabel('Trading Days after 2000/01/03')\n",
    "plt.ylabel('Drawdowns Percentage')\n",
    "plt.title('Drawdowns of Pairs Trading Strategy')"
   ]
  },
  {
   "cell_type": "code",
   "execution_count": 14,
   "metadata": {},
   "outputs": [
    {
     "name": "stdout",
     "output_type": "stream",
     "text": [
      "Maximum drawdown is 0.6714415443083896\n"
     ]
    }
   ],
   "source": [
    "print('Maximum drawdown is',max(dds))"
   ]
  },
  {
   "cell_type": "markdown",
   "metadata": {},
   "source": [
    "## Question 5"
   ]
  },
  {
   "cell_type": "markdown",
   "metadata": {},
   "source": [
    "### Change L"
   ]
  },
  {
   "cell_type": "code",
   "execution_count": 15,
   "metadata": {},
   "outputs": [
    {
     "name": "stdout",
     "output_type": "stream",
     "text": [
      "New PnL when L increases from 50 to 60 is equal to 8.711836180659825\n",
      "New Sharpe ratio when L increases from 50 to 60 is equal to 0.03229053820706806\n",
      "New Maximum drawdown when L increases from 50 to 60 is equal to 0.630938595375305\n"
     ]
    }
   ],
   "source": [
    "# when L increases from 50 to 60\n",
    "\n",
    "result = pairs_trading(A='WMT.csv',B='TGT.csv',L=60,W=15,thres=1)\n",
    "wmt_result = result[0]\n",
    "tgt_result = result[1]\n",
    "wmt_result['Daily Return'] = wmt_result['Adj Close']/wmt_result['Adj Close'].shift(1)-1\n",
    "tgt_result['Daily Return'] = tgt_result['Adj Close']/tgt_result['Adj Close'].shift(1)-1\n",
    "NV = (wmt_result.iloc[60:,8].shift(1)*wmt_result.iloc[60:,9]+tgt_result.iloc[60:,8].shift(1)*tgt_result.iloc[60:,9])+1\n",
    "NV = np.nan_to_num(NV,nan=1).cumprod()\n",
    "\n",
    "mean = np.mean(wmt_result.iloc[60:,8].shift(1)*wmt_result.iloc[60:,9]+tgt_result.iloc[60:,8].shift(1)*tgt_result.iloc[60:,9])\n",
    "std = np.std(wmt_result.iloc[60:,8].shift(1)*wmt_result.iloc[60:,9]+tgt_result.iloc[60:,8].shift(1)*tgt_result.iloc[60:,9])\n",
    "\n",
    "dds = drawdown(NV)\n",
    "\n",
    "print('New PnL when L increases from 50 to 60 is equal to',NV[-1]-NV[0])\n",
    "print('New Sharpe ratio when L increases from 50 to 60 is equal to',mean/std)\n",
    "print('New Maximum drawdown when L increases from 50 to 60 is equal to',max(dds))"
   ]
  },
  {
   "cell_type": "code",
   "execution_count": 16,
   "metadata": {},
   "outputs": [
    {
     "name": "stdout",
     "output_type": "stream",
     "text": [
      "New PnL when L decreases from 50 to 40 is equal to 3.195086854728932\n",
      "New Sharpe ratio when L decreases from 50 to 40 is equal to 0.02386049664268483\n",
      "New Maximum drawdown when L decreases from 50 to 40 is equal to 0.6347475964109014\n"
     ]
    }
   ],
   "source": [
    "# when L decreases from 50 to 40\n",
    "\n",
    "result = pairs_trading(A='WMT.csv',B='TGT.csv',L=40,W=15,thres=1)\n",
    "wmt_result = result[0]\n",
    "tgt_result = result[1]\n",
    "wmt_result['Daily Return'] = wmt_result['Adj Close']/wmt_result['Adj Close'].shift(1)-1\n",
    "tgt_result['Daily Return'] = tgt_result['Adj Close']/tgt_result['Adj Close'].shift(1)-1\n",
    "NV = (wmt_result.iloc[40:,8].shift(1)*wmt_result.iloc[40:,9]+tgt_result.iloc[40:,8].shift(1)*tgt_result.iloc[40:,9])+1\n",
    "NV = np.nan_to_num(NV,nan=1).cumprod()\n",
    "\n",
    "mean = np.mean(wmt_result.iloc[40:,8].shift(1)*wmt_result.iloc[40:,9]+tgt_result.iloc[40:,8].shift(1)*tgt_result.iloc[40:,9])\n",
    "std = np.std(wmt_result.iloc[40:,8].shift(1)*wmt_result.iloc[40:,9]+tgt_result.iloc[40:,8].shift(1)*tgt_result.iloc[40:,9])\n",
    "\n",
    "dds = drawdown(NV)\n",
    "\n",
    "print('New PnL when L decreases from 50 to 40 is equal to',NV[-1]-NV[0])\n",
    "print('New Sharpe ratio when L decreases from 50 to 40 is equal to',mean/std)\n",
    "print('New Maximum drawdown when L decreases from 50 to 40 is equal to',max(dds))"
   ]
  },
  {
   "cell_type": "markdown",
   "metadata": {},
   "source": [
    "When I change L from 50 to 60 and to 40, both trading strategies give me worse results with less PnL, less Sharpe ratio, and higher maximum drawdown. It is clear to see the effect of changing the number of training samples is significant. Including too few training samples may lead to underfitting while including too many training samples may cover different market situations which can lead to higher noise, so it is crucial to find a good balance between these two when practically implementing the strategy."
   ]
  },
  {
   "cell_type": "markdown",
   "metadata": {},
   "source": [
    "### Change W"
   ]
  },
  {
   "cell_type": "code",
   "execution_count": 17,
   "metadata": {},
   "outputs": [
    {
     "name": "stdout",
     "output_type": "stream",
     "text": [
      "New PnL when W increases from 15 to 20 is equal to 8.779243205635309\n",
      "New Sharpe ratio when W increases from 15 to 20 is equal to 0.032184401432670526\n",
      "New Maximum drawdown when W increases from 15 to 20 is equal to 0.7219842497895657\n"
     ]
    }
   ],
   "source": [
    "# when W increases from 15 to 20\n",
    "\n",
    "result = pairs_trading(A='WMT.csv',B='TGT.csv',L=50,W=20,thres=1)\n",
    "wmt_result = result[0]\n",
    "tgt_result = result[1]\n",
    "wmt_result['Daily Return'] = wmt_result['Adj Close']/wmt_result['Adj Close'].shift(1)-1\n",
    "tgt_result['Daily Return'] = tgt_result['Adj Close']/tgt_result['Adj Close'].shift(1)-1\n",
    "NV = (wmt_result.iloc[50:,8].shift(1)*wmt_result.iloc[50:,9]+tgt_result.iloc[50:,8].shift(1)*tgt_result.iloc[50:,9])+1\n",
    "NV = np.nan_to_num(NV,nan=1).cumprod()\n",
    "\n",
    "mean = np.mean(wmt_result.iloc[50:,8].shift(1)*wmt_result.iloc[50:,9]+tgt_result.iloc[50:,8].shift(1)*tgt_result.iloc[50:,9])\n",
    "std = np.std(wmt_result.iloc[50:,8].shift(1)*wmt_result.iloc[50:,9]+tgt_result.iloc[50:,8].shift(1)*tgt_result.iloc[50:,9])\n",
    "\n",
    "dds = drawdown(NV)\n",
    "\n",
    "print('New PnL when W increases from 15 to 20 is equal to',NV[-1]-NV[0])\n",
    "print('New Sharpe ratio when W increases from 15 to 20 is equal to',mean/std)\n",
    "print('New Maximum drawdown when W increases from 15 to 20 is equal to',max(dds))"
   ]
  },
  {
   "cell_type": "code",
   "execution_count": 18,
   "metadata": {},
   "outputs": [
    {
     "name": "stdout",
     "output_type": "stream",
     "text": [
      "New PnL when W decreases from 15 to 10 is equal to 11.498548922844453\n",
      "New Sharpe ratio when W decreases from 15 to 10 is equal to 0.03475243451578591\n",
      "New Maximum drawdown when W decreases from 15 to 10 is equal to 0.6804461097715169\n"
     ]
    }
   ],
   "source": [
    "# when W decreases from 15 to 10\n",
    "\n",
    "result = pairs_trading(A='WMT.csv',B='TGT.csv',L=50,W=10,thres=1)\n",
    "wmt_result = result[0]\n",
    "tgt_result = result[1]\n",
    "wmt_result['Daily Return'] = wmt_result['Adj Close']/wmt_result['Adj Close'].shift(1)-1\n",
    "tgt_result['Daily Return'] = tgt_result['Adj Close']/tgt_result['Adj Close'].shift(1)-1\n",
    "NV = (wmt_result.iloc[50:,8].shift(1)*wmt_result.iloc[50:,9]+tgt_result.iloc[50:,8].shift(1)*tgt_result.iloc[50:,9])+1\n",
    "NV = np.nan_to_num(NV,nan=1).cumprod()\n",
    "\n",
    "mean = np.mean(wmt_result.iloc[50:,8].shift(1)*wmt_result.iloc[50:,9]+tgt_result.iloc[50:,8].shift(1)*tgt_result.iloc[50:,9])\n",
    "std = np.std(wmt_result.iloc[50:,8].shift(1)*wmt_result.iloc[50:,9]+tgt_result.iloc[50:,8].shift(1)*tgt_result.iloc[50:,9])\n",
    "\n",
    "dds = drawdown(NV)\n",
    "\n",
    "print('New PnL when W decreases from 15 to 10 is equal to',NV[-1]-NV[0])\n",
    "print('New Sharpe ratio when W decreases from 15 to 10 is equal to',mean/std)\n",
    "print('New Maximum drawdown when W decreases from 15 to 10 is equal to',max(dds))"
   ]
  },
  {
   "cell_type": "markdown",
   "metadata": {},
   "source": [
    "Intuitively, a shorter out-of-sample period should result a better overall trading performance, because the more frequent regression could incorporate some of the latest information in the market to aid the strategy. Despite the minor discrepency in our observation, W being 20 still induces a worse trading result in all aspects. One possible explanation of this observed discrepency is that the market price relationship between Walmart and Target can be better depicted by rolling regression with step size to be 15 days, for some other market reasons."
   ]
  },
  {
   "cell_type": "markdown",
   "metadata": {},
   "source": [
    "### Change Z-Score Threshold"
   ]
  },
  {
   "cell_type": "code",
   "execution_count": 19,
   "metadata": {},
   "outputs": [
    {
     "name": "stdout",
     "output_type": "stream",
     "text": [
      "New PnL when Z-score threshold increases from 1 to 1.5 is equal to 2.4215314548990166\n",
      "New Sharpe ratio when Z-score threshold increases from 1 to 1.5 is equal to 0.0225267198757115\n",
      "New Maximum drawdown when Z-score threshold increases from 1 to 1.5 is equal to 0.5951496115347884\n"
     ]
    }
   ],
   "source": [
    "# when Z-score threshold increases from 1 to 1.5\n",
    "\n",
    "result = pairs_trading(A='WMT.csv',B='TGT.csv',L=50,W=15,thres=1.5)\n",
    "wmt_result = result[0]\n",
    "tgt_result = result[1]\n",
    "wmt_result['Daily Return'] = wmt_result['Adj Close']/wmt_result['Adj Close'].shift(1)-1\n",
    "tgt_result['Daily Return'] = tgt_result['Adj Close']/tgt_result['Adj Close'].shift(1)-1\n",
    "NV = (wmt_result.iloc[50:,8].shift(1)*wmt_result.iloc[50:,9]+tgt_result.iloc[50:,8].shift(1)*tgt_result.iloc[50:,9])+1\n",
    "NV = np.nan_to_num(NV,nan=1).cumprod()\n",
    "\n",
    "mean = np.mean(wmt_result.iloc[50:,8].shift(1)*wmt_result.iloc[50:,9]+tgt_result.iloc[50:,8].shift(1)*tgt_result.iloc[50:,9])\n",
    "std = np.std(wmt_result.iloc[50:,8].shift(1)*wmt_result.iloc[50:,9]+tgt_result.iloc[50:,8].shift(1)*tgt_result.iloc[50:,9])\n",
    "\n",
    "dds = drawdown(NV)\n",
    "\n",
    "print('New PnL when Z-score threshold increases from 1 to 1.5 is equal to',NV[-1]-NV[0])\n",
    "print('New Sharpe ratio when Z-score threshold increases from 1 to 1.5 is equal to',mean/std)\n",
    "print('New Maximum drawdown when Z-score threshold increases from 1 to 1.5 is equal to',max(dds))"
   ]
  },
  {
   "cell_type": "code",
   "execution_count": 20,
   "metadata": {},
   "outputs": [
    {
     "name": "stdout",
     "output_type": "stream",
     "text": [
      "New PnL when Z-score threshold decreases from 1 to 0.5 is equal to 14.120555149855322\n",
      "New Sharpe ratio when Z-score threshold decreases from 1 to 0.5 is equal to 0.03463204731971791\n",
      "New Maximum drawdown when Z-score threshold decreases from 1 to 0.5 is equal to 0.7252865141910007\n"
     ]
    }
   ],
   "source": [
    "# when Z-score threshold decreases from 1 to 0.5\n",
    "\n",
    "result = pairs_trading(A='WMT.csv',B='TGT.csv',L=50,W=15,thres=0.5)\n",
    "wmt_result = result[0]\n",
    "tgt_result = result[1]\n",
    "wmt_result['Daily Return'] = wmt_result['Adj Close']/wmt_result['Adj Close'].shift(1)-1\n",
    "tgt_result['Daily Return'] = tgt_result['Adj Close']/tgt_result['Adj Close'].shift(1)-1\n",
    "NV = (wmt_result.iloc[50:,8].shift(1)*wmt_result.iloc[50:,9]+tgt_result.iloc[50:,8].shift(1)*tgt_result.iloc[50:,9])+1\n",
    "NV = np.nan_to_num(NV,nan=1).cumprod()\n",
    "\n",
    "mean = np.mean(wmt_result.iloc[50:,8].shift(1)*wmt_result.iloc[50:,9]+tgt_result.iloc[50:,8].shift(1)*tgt_result.iloc[50:,9])\n",
    "std = np.std(wmt_result.iloc[50:,8].shift(1)*wmt_result.iloc[50:,9]+tgt_result.iloc[50:,8].shift(1)*tgt_result.iloc[50:,9])\n",
    "\n",
    "dds = drawdown(NV)\n",
    "\n",
    "print('New PnL when Z-score threshold decreases from 1 to 0.5 is equal to',NV[-1]-NV[0])\n",
    "print('New Sharpe ratio when Z-score threshold decreases from 1 to 0.5 is equal to',mean/std)\n",
    "print('New Maximum drawdown when Z-score threshold decreases from 1 to 0.5 is equal to',max(dds))"
   ]
  },
  {
   "cell_type": "markdown",
   "metadata": {},
   "source": [
    "Increasing Z-score threshold leads to more conservative strategy while decreasing it leads to more aggressive strategy. When I change Z-score threshold from 1 to 1.5 and 0.5, neither of these changes gives me better overall trading result. Being more aggressive could potentially incorporate more noises in forming up trading actions, but being more conservative could potentially miss lots of profitable opportunities. The sensitivity analysis presents this rationale well. The more aggressive approach leads to higher absolute return, but its Sharpe ratio is lower and its maximum drawdown is higher than those of the baseline strategy. On the other hand, even though the more conservative approach has less maximum drawdown, its PnL and Sharpe ratio are still lower than those of the baseline strategy."
   ]
  },
  {
   "cell_type": "markdown",
   "metadata": {},
   "source": [
    "## Pairs Trading Strategy Performance Compared with Two Stocks"
   ]
  },
  {
   "cell_type": "code",
   "execution_count": 21,
   "metadata": {},
   "outputs": [],
   "source": [
    "# recalculate the baseline strategy\n",
    "result = pairs_trading(A='WMT.csv',B='TGT.csv',L=50,W=15,thres=1)\n",
    "wmt_result = result[0]\n",
    "tgt_result = result[1]\n",
    "wmt_result['Daily Return'] = wmt_result['Adj Close']/wmt_result['Adj Close'].shift(1)-1\n",
    "tgt_result['Daily Return'] = tgt_result['Adj Close']/tgt_result['Adj Close'].shift(1)-1\n",
    "NV = (wmt_result.iloc[50:,8].shift(1)*wmt_result.iloc[50:,9]+tgt_result.iloc[50:,8].shift(1)*tgt_result.iloc[50:,9])+1\n",
    "NV = np.nan_to_num(NV,nan=1).cumprod()\n",
    "\n",
    "mean = np.mean(wmt_result.iloc[50:,8].shift(1)*wmt_result.iloc[50:,9]+tgt_result.iloc[50:,8].shift(1)*tgt_result.iloc[50:,9])\n",
    "std = np.std(wmt_result.iloc[50:,8].shift(1)*wmt_result.iloc[50:,9]+tgt_result.iloc[50:,8].shift(1)*tgt_result.iloc[50:,9])\n",
    "\n",
    "dds = drawdown(NV)"
   ]
  },
  {
   "cell_type": "code",
   "execution_count": 22,
   "metadata": {},
   "outputs": [],
   "source": [
    "# calculate PnL, Sharpe ratio, and maximum drawdown for strategy and two stocks\n",
    "strategy = [NV[-1]-NV[0],mean/std,max(dds)]\n",
    "WMT = [wmt['Adj Close'].values[-1]/wmt['Adj Close'].values[0]-1,np.mean((wmt['Adj Close']/wmt['Adj Close'].shift(1)-1).dropna())/np.std((wmt['Adj Close']/wmt['Adj Close'].shift(1)-1).dropna()),max(drawdown(wmt['Adj Close']))]\n",
    "TGT = [tgt['Adj Close'].values[-1]/tgt['Adj Close'].values[0]-1,np.mean((tgt['Adj Close']/tgt['Adj Close'].shift(1)-1).dropna())/np.std((tgt['Adj Close']/tgt['Adj Close'].shift(1)-1).dropna()),max(drawdown(tgt['Adj Close']))]"
   ]
  },
  {
   "cell_type": "code",
   "execution_count": 23,
   "metadata": {},
   "outputs": [
    {
     "data": {
      "text/html": [
       "<div>\n",
       "<style scoped>\n",
       "    .dataframe tbody tr th:only-of-type {\n",
       "        vertical-align: middle;\n",
       "    }\n",
       "\n",
       "    .dataframe tbody tr th {\n",
       "        vertical-align: top;\n",
       "    }\n",
       "\n",
       "    .dataframe thead th {\n",
       "        text-align: right;\n",
       "    }\n",
       "</style>\n",
       "<table border=\"1\" class=\"dataframe\">\n",
       "  <thead>\n",
       "    <tr style=\"text-align: right;\">\n",
       "      <th></th>\n",
       "      <th>Pairs Trading Strategy</th>\n",
       "      <th>WMT</th>\n",
       "      <th>TGT</th>\n",
       "    </tr>\n",
       "  </thead>\n",
       "  <tbody>\n",
       "    <tr>\n",
       "      <th>PnL</th>\n",
       "      <td>13.220524</td>\n",
       "      <td>2.239353</td>\n",
       "      <td>6.063481</td>\n",
       "    </tr>\n",
       "    <tr>\n",
       "      <th>Sharpe Ratio</th>\n",
       "      <td>0.036067</td>\n",
       "      <td>0.022292</td>\n",
       "      <td>0.028298</td>\n",
       "    </tr>\n",
       "    <tr>\n",
       "      <th>Max Drawdown</th>\n",
       "      <td>0.671442</td>\n",
       "      <td>0.366425</td>\n",
       "      <td>0.629606</td>\n",
       "    </tr>\n",
       "  </tbody>\n",
       "</table>\n",
       "</div>"
      ],
      "text/plain": [
       "              Pairs Trading Strategy       WMT       TGT\n",
       "PnL                        13.220524  2.239353  6.063481\n",
       "Sharpe Ratio                0.036067  0.022292  0.028298\n",
       "Max Drawdown                0.671442  0.366425  0.629606"
      ]
     },
     "execution_count": 23,
     "metadata": {},
     "output_type": "execute_result"
    }
   ],
   "source": [
    "# present the results through table\n",
    "df = pd.DataFrame(data={'Pairs Trading Strategy': strategy, 'WMT': WMT, 'TGT': TGT})\n",
    "df.index = ['PnL','Sharpe Ratio','Max Drawdown']\n",
    "df"
   ]
  }
 ],
 "metadata": {
  "kernelspec": {
   "display_name": "Python 3",
   "language": "python",
   "name": "python3"
  },
  "language_info": {
   "codemirror_mode": {
    "name": "ipython",
    "version": 3
   },
   "file_extension": ".py",
   "mimetype": "text/x-python",
   "name": "python",
   "nbconvert_exporter": "python",
   "pygments_lexer": "ipython3",
   "version": "3.7.9"
  }
 },
 "nbformat": 4,
 "nbformat_minor": 4
}
