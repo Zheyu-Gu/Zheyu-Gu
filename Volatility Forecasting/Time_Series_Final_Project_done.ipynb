{
 "cells": [
  {
   "cell_type": "markdown",
   "metadata": {
    "slideshow": {
     "slide_type": "-"
    }
   },
   "source": [
    "# <center>FRE6351 Time Series Final Project</center>\n",
    "### <center>Name: Yecheng Cao, Zheyu Gu, Wenjun Wang</center>"
   ]
  },
  {
   "cell_type": "markdown",
   "metadata": {
    "slideshow": {
     "slide_type": "-"
    }
   },
   "source": [
    "# (1) Project Overview\n",
    "- **Goal:** We use ARMA and ARCH/GARCH to predict ***next daily return and volatility*** respectively, and draw conclusion of prediction power of each method\n",
    "<br><br>\n",
    "- **ARMA Methodology:** We use ***historical log return***, which is a stationary time-series, to fit ARMA model. The AR and MA terms are determined by the ***PACF*** and ***ACF*** plots respectively. We then perform ***rolling model fitting and prediction*** on the last 20% of the entire dataset, and the performance is mainly evaluated by comparing ***RMSE and standard deviation*** of log returns and prices\n",
    "<br><br>\n",
    "- **ARCH/GARCH Methodology:** ***Different orders*** of ARCH and GARCH models are compared with ***15-day historical volatility estimate model***. Considerations of orders include the ***most basic models*** (ARCH[1] and GARCH[1,1]), the one from ***log return*** ACF and PACF, and the one from ***log return squared*** ACF and PACF. We perform ***recursive forecasting***, and the evaluation is based on ***total log likelihood***"
   ]
  },
  {
   "cell_type": "markdown",
   "metadata": {},
   "source": [
    "# (2) Import Libraries"
   ]
  },
  {
   "cell_type": "code",
   "execution_count": 40,
   "metadata": {},
   "outputs": [],
   "source": [
    "#Import Libraries\n",
    "import os\n",
    "import pandas as pd\n",
    "import numpy as np\n",
    "import matplotlib.pyplot as plt\n",
    "%matplotlib inline\n",
    "from arch import arch_model\n",
    "import warnings\n",
    "warnings.filterwarnings(\"ignore\")\n",
    "import statsmodels.api as sm\n",
    "from statsmodels.tsa.seasonal import seasonal_decompose\n",
    "from statsmodels.tsa.stattools import adfuller\n",
    "from statsmodels.graphics.tsaplots import plot_acf,plot_pacf \n",
    "from statsmodels.tsa.arima_model import ARIMA, ARMA\n",
    "from sklearn.metrics import mean_squared_error, r2_score\n",
    "from scipy.stats import norm"
   ]
  },
  {
   "cell_type": "markdown",
   "metadata": {},
   "source": [
    "# (3) Load Data & Raw Data Visualization"
   ]
  },
  {
   "cell_type": "code",
   "execution_count": 41,
   "metadata": {},
   "outputs": [],
   "source": [
    "df = pd.read_csv('natural_gas_prices_chart.csv',index_col='date')\n",
    "df['last_value'] = df['value'].shift(1)\n",
    "df = df.dropna()\n",
    "df['log_ret'] = np.log(df['value']/df['last_value'])\n",
    "df['log_ret(%)'] = 100*df['log_ret']"
   ]
  },
  {
   "cell_type": "code",
   "execution_count": 42,
   "metadata": {},
   "outputs": [
    {
     "data": {
      "text/html": [
       "<div>\n",
       "<style scoped>\n",
       "    .dataframe tbody tr th:only-of-type {\n",
       "        vertical-align: middle;\n",
       "    }\n",
       "\n",
       "    .dataframe tbody tr th {\n",
       "        vertical-align: top;\n",
       "    }\n",
       "\n",
       "    .dataframe thead th {\n",
       "        text-align: right;\n",
       "    }\n",
       "</style>\n",
       "<table border=\"1\" class=\"dataframe\">\n",
       "  <thead>\n",
       "    <tr style=\"text-align: right;\">\n",
       "      <th></th>\n",
       "      <th>value</th>\n",
       "      <th>last_value</th>\n",
       "      <th>log_ret</th>\n",
       "      <th>log_ret(%)</th>\n",
       "    </tr>\n",
       "    <tr>\n",
       "      <th>date</th>\n",
       "      <th></th>\n",
       "      <th></th>\n",
       "      <th></th>\n",
       "      <th></th>\n",
       "    </tr>\n",
       "  </thead>\n",
       "  <tbody>\n",
       "    <tr>\n",
       "      <th>2007/10/12</th>\n",
       "      <td>6.46</td>\n",
       "      <td>6.85</td>\n",
       "      <td>-0.058619</td>\n",
       "      <td>-5.861933</td>\n",
       "    </tr>\n",
       "    <tr>\n",
       "      <th>2007/10/15</th>\n",
       "      <td>7.09</td>\n",
       "      <td>6.46</td>\n",
       "      <td>0.093056</td>\n",
       "      <td>9.305602</td>\n",
       "    </tr>\n",
       "    <tr>\n",
       "      <th>2007/10/16</th>\n",
       "      <td>7.29</td>\n",
       "      <td>7.09</td>\n",
       "      <td>0.027818</td>\n",
       "      <td>2.781821</td>\n",
       "    </tr>\n",
       "    <tr>\n",
       "      <th>2007/10/17</th>\n",
       "      <td>7.12</td>\n",
       "      <td>7.29</td>\n",
       "      <td>-0.023596</td>\n",
       "      <td>-2.359582</td>\n",
       "    </tr>\n",
       "    <tr>\n",
       "      <th>2007/10/18</th>\n",
       "      <td>7.11</td>\n",
       "      <td>7.12</td>\n",
       "      <td>-0.001405</td>\n",
       "      <td>-0.140548</td>\n",
       "    </tr>\n",
       "    <tr>\n",
       "      <th>...</th>\n",
       "      <td>...</td>\n",
       "      <td>...</td>\n",
       "      <td>...</td>\n",
       "      <td>...</td>\n",
       "    </tr>\n",
       "    <tr>\n",
       "      <th>2020/9/30</th>\n",
       "      <td>1.66</td>\n",
       "      <td>1.74</td>\n",
       "      <td>-0.047068</td>\n",
       "      <td>-4.706751</td>\n",
       "    </tr>\n",
       "    <tr>\n",
       "      <th>2020/10/1</th>\n",
       "      <td>1.60</td>\n",
       "      <td>1.66</td>\n",
       "      <td>-0.036814</td>\n",
       "      <td>-3.681397</td>\n",
       "    </tr>\n",
       "    <tr>\n",
       "      <th>2020/10/2</th>\n",
       "      <td>1.41</td>\n",
       "      <td>1.60</td>\n",
       "      <td>-0.126414</td>\n",
       "      <td>-12.641392</td>\n",
       "    </tr>\n",
       "    <tr>\n",
       "      <th>2020/10/5</th>\n",
       "      <td>1.92</td>\n",
       "      <td>1.41</td>\n",
       "      <td>0.308735</td>\n",
       "      <td>30.873548</td>\n",
       "    </tr>\n",
       "    <tr>\n",
       "      <th>2020/10/6</th>\n",
       "      <td>1.86</td>\n",
       "      <td>1.92</td>\n",
       "      <td>-0.031749</td>\n",
       "      <td>-3.174870</td>\n",
       "    </tr>\n",
       "  </tbody>\n",
       "</table>\n",
       "<p>3292 rows × 4 columns</p>\n",
       "</div>"
      ],
      "text/plain": [
       "            value  last_value   log_ret  log_ret(%)\n",
       "date                                               \n",
       "2007/10/12   6.46        6.85 -0.058619   -5.861933\n",
       "2007/10/15   7.09        6.46  0.093056    9.305602\n",
       "2007/10/16   7.29        7.09  0.027818    2.781821\n",
       "2007/10/17   7.12        7.29 -0.023596   -2.359582\n",
       "2007/10/18   7.11        7.12 -0.001405   -0.140548\n",
       "...           ...         ...       ...         ...\n",
       "2020/9/30    1.66        1.74 -0.047068   -4.706751\n",
       "2020/10/1    1.60        1.66 -0.036814   -3.681397\n",
       "2020/10/2    1.41        1.60 -0.126414  -12.641392\n",
       "2020/10/5    1.92        1.41  0.308735   30.873548\n",
       "2020/10/6    1.86        1.92 -0.031749   -3.174870\n",
       "\n",
       "[3292 rows x 4 columns]"
      ]
     },
     "execution_count": 42,
     "metadata": {},
     "output_type": "execute_result"
    }
   ],
   "source": [
    "df"
   ]
  },
  {
   "cell_type": "code",
   "execution_count": 43,
   "metadata": {},
   "outputs": [
    {
     "data": {
      "text/plain": [
       "Text(0.5, 1.0, 'Log Return Series')"
      ]
     },
     "execution_count": 43,
     "metadata": {},
     "output_type": "execute_result"
    },
    {
     "data": {
      "image/png": "[encoded data removed]",
      "text/plain": [
       "<Figure size 432x288 with 1 Axes>"
      ]
     },
     "metadata": {
      "needs_background": "light"
     },
     "output_type": "display_data"
    }
   ],
   "source": [
    "plt.plot(df['log_ret'].values)\n",
    "plt.title('Log Return Series')"
   ]
  },
  {
   "cell_type": "markdown",
   "metadata": {},
   "source": [
    "Log return graph shows no significant trend and seasonality, and we can also see the clustering of volatility"
   ]
  },
  {
   "cell_type": "code",
   "execution_count": 44,
   "metadata": {},
   "outputs": [
    {
     "data": {
      "text/plain": [
       "Text(0.5, 1.0, 'Log Return Histogram')"
      ]
     },
     "execution_count": 44,
     "metadata": {},
     "output_type": "execute_result"
    },
    {
     "data": {
      "image/png": "[encoded data removed]",
      "text/plain": [
       "<Figure size 432x288 with 1 Axes>"
      ]
     },
     "metadata": {
      "needs_background": "light"
     },
     "output_type": "display_data"
    }
   ],
   "source": [
    "plt.hist(df['log_ret'],bins=50)\n",
    "plt.title('Log Return Histogram')"
   ]
  },
  {
   "cell_type": "markdown",
   "metadata": {},
   "source": [
    "Log return distribution is normal-shape, matching the theory that the return is log-normal distributed, and this validation allows more convenient computation of likelihood of volatility estimate"
   ]
  },
  {
   "cell_type": "markdown",
   "metadata": {},
   "source": [
    "# (4) Augmented Dickey-Fuller Test"
   ]
  },
  {
   "cell_type": "code",
   "execution_count": 45,
   "metadata": {},
   "outputs": [],
   "source": [
    "# Check for stationarity\n",
    "def adf_test(data_set, maxlag=None):\n",
    "    if type(data_set)==pd.core.frame.DataFrame:\n",
    "        data_set = data_set.dropna().to_numpy().flatten()\n",
    "    \n",
    "    result = adfuller(data_set, maxlag=maxlag, autolag=None)\n",
    "    \n",
    "    labels = ['ADF Test Statistic','p-value','#Lags Used','Number of Observations Used']\n",
    "    \n",
    "    print('Augmented Dickey-Fuller Test:') \n",
    "    \n",
    "    for value,label in zip(result,labels):\n",
    "        print(label+' : '+str(value) )\n",
    "    \n",
    "    if result[1] <= 0.05:\n",
    "        print(\"Strong evidence against the null hypothesis. Reject the null hypothesis. Data is stationary.\") \n",
    "    else:\n",
    "        print(\"Weak evidence against null hypothesis. Time series is non-stationary.\")"
   ]
  },
  {
   "cell_type": "code",
   "execution_count": 46,
   "metadata": {},
   "outputs": [
    {
     "name": "stdout",
     "output_type": "stream",
     "text": [
      "Augmented Dickey-Fuller Test:\n",
      "ADF Test Statistic : -32.049727762810356\n",
      "p-value : 0.0\n",
      "#Lags Used : 4\n",
      "Number of Observations Used : 3287\n",
      "Strong evidence against the null hypothesis. Reject the null hypothesis. Data is stationary.\n"
     ]
    }
   ],
   "source": [
    "adf_test(df['log_ret'],maxlag=4)"
   ]
  },
  {
   "cell_type": "markdown",
   "metadata": {},
   "source": [
    "With very extreme test statistics and low p-value, it is significant that log return series is stationary"
   ]
  },
  {
   "cell_type": "markdown",
   "metadata": {},
   "source": [
    "# (5) ACF, PACF, and ARMA Model Fitting on All Data"
   ]
  },
  {
   "cell_type": "code",
   "execution_count": 47,
   "metadata": {},
   "outputs": [
    {
     "data": {
      "image/png": "[encoded data removed]",
      "text/plain": [
       "<Figure size 432x288 with 1 Axes>"
      ]
     },
     "metadata": {
      "needs_background": "light"
     },
     "output_type": "display_data"
    }
   ],
   "source": [
    "plot_acf(df['log_ret'])\n",
    "plt.show()"
   ]
  },
  {
   "cell_type": "markdown",
   "metadata": {},
   "source": [
    "2-step and 3-step lag return are the ones most correlated to the current return, but the correlation levels are still not high"
   ]
  },
  {
   "cell_type": "code",
   "execution_count": 48,
   "metadata": {},
   "outputs": [
    {
     "data": {
      "image/png": "[encoded data removed]",
      "text/plain": [
       "<Figure size 432x288 with 1 Axes>"
      ]
     },
     "metadata": {
      "needs_background": "light"
     },
     "output_type": "display_data"
    }
   ],
   "source": [
    "plot_pacf(df['log_ret'])\n",
    "plt.show()"
   ]
  },
  {
   "cell_type": "markdown",
   "metadata": {},
   "source": [
    "2-step and 3-step lag return are the ones most partially correlated to the current return, but the partial correlation levels are still not high"
   ]
  },
  {
   "cell_type": "code",
   "execution_count": 49,
   "metadata": {},
   "outputs": [
    {
     "name": "stdout",
     "output_type": "stream",
     "text": [
      "                              ARMA Model Results                              \n",
      "==============================================================================\n",
      "Dep. Variable:                log_ret   No. Observations:                 3292\n",
      "Model:                     ARMA(3, 4)   Log Likelihood                5698.501\n",
      "Method:                       css-mle   S.D. of innovations              0.043\n",
      "Date:                Tue, 20 Oct 2020   AIC                         -11379.003\n",
      "Time:                        17:16:31   BIC                         -11324.109\n",
      "Sample:                             0   HQIC                        -11359.351\n",
      "                                                                              \n",
      "=================================================================================\n",
      "                    coef    std err          z      P>|z|      [0.025      0.975]\n",
      "---------------------------------------------------------------------------------\n",
      "const            -0.0004      0.000     -0.932      0.351      -0.001       0.000\n",
      "ar.L1.log_ret     2.3724      0.047     50.661      0.000       2.281       2.464\n",
      "ar.L2.log_ret    -2.1451      0.080    -26.918      0.000      -2.301      -1.989\n",
      "ar.L3.log_ret     0.7405      0.041     18.039      0.000       0.660       0.821\n",
      "ma.L1.log_ret    -2.3610      0.049    -47.912      0.000      -2.458      -2.264\n",
      "ma.L2.log_ret     1.9742      0.097     20.409      0.000       1.785       2.164\n",
      "ma.L3.log_ret    -0.4967      0.069     -7.239      0.000      -0.631      -0.362\n",
      "ma.L4.log_ret    -0.0974      0.021     -4.659      0.000      -0.138      -0.056\n",
      "                                    Roots                                    \n",
      "=============================================================================\n",
      "                  Real          Imaginary           Modulus         Frequency\n",
      "-----------------------------------------------------------------------------\n",
      "AR.1            1.1012           -0.0000j            1.1012           -0.0000\n",
      "AR.2            0.8979           -0.6482j            1.1074           -0.0995\n",
      "AR.3            0.8979           +0.6482j            1.1074            0.0995\n",
      "MA.1            1.0633           -0.0000j            1.0633           -0.0000\n",
      "MA.2            0.9298           -0.5822j            1.0970           -0.0890\n",
      "MA.3            0.9298           +0.5822j            1.0970            0.0890\n",
      "MA.4           -8.0213           -0.0000j            8.0213           -0.5000\n",
      "-----------------------------------------------------------------------------\n"
     ]
    }
   ],
   "source": [
    "model = ARMA(df['log_ret'], order=(3,4)).fit()\n",
    "print(model.summary())"
   ]
  },
  {
   "cell_type": "markdown",
   "metadata": {},
   "source": [
    "- ARMA result table shows that coefficients for AR and MA terms are all significant\n",
    "- Model with order=(5,4) cannot be fitted because coefficient of AR.4 term cannot converge (not stationary), so the best available order=(3,4) has been chosen"
   ]
  },
  {
   "cell_type": "code",
   "execution_count": 50,
   "metadata": {},
   "outputs": [
    {
     "data": {
      "text/plain": [
       "Text(0.5, 1.0, 'All Data Residuals Series')"
      ]
     },
     "execution_count": 50,
     "metadata": {},
     "output_type": "execute_result"
    },
    {
     "data": {
      "image/png": "[encoded data removed]",
      "text/plain": [
       "<Figure size 432x288 with 1 Axes>"
      ]
     },
     "metadata": {
      "needs_background": "light"
     },
     "output_type": "display_data"
    }
   ],
   "source": [
    "plt.plot(model.resid.values)\n",
    "plt.title('All Data Residuals Series')"
   ]
  },
  {
   "cell_type": "markdown",
   "metadata": {},
   "source": [
    "Residuals show no clear pattern, meaning that a linear model is appropriate for the data"
   ]
  },
  {
   "cell_type": "code",
   "execution_count": 51,
   "metadata": {},
   "outputs": [
    {
     "data": {
      "text/plain": [
       "Text(0.5, 1.0, 'All Data Residuals Histogram')"
      ]
     },
     "execution_count": 51,
     "metadata": {},
     "output_type": "execute_result"
    },
    {
     "data": {
      "image/png": "[encoded data removed]",
      "text/plain": [
       "<Figure size 432x288 with 1 Axes>"
      ]
     },
     "metadata": {
      "needs_background": "light"
     },
     "output_type": "display_data"
    }
   ],
   "source": [
    "plt.hist(model.resid.values,bins=50)\n",
    "plt.title('All Data Residuals Histogram')"
   ]
  },
  {
   "cell_type": "markdown",
   "metadata": {},
   "source": [
    "Residuals are close to normal shape，further indicating the appropriateness of linear model"
   ]
  },
  {
   "cell_type": "markdown",
   "metadata": {},
   "source": [
    "# (6) Rolling ARMA Model Fitting and Prediction on Test Data"
   ]
  },
  {
   "cell_type": "code",
   "execution_count": 52,
   "metadata": {},
   "outputs": [],
   "source": [
    "#perform rolling model fitting and one-step-ahead prediction for last 650 data\n",
    "pred = np.zeros(len(df))\n",
    "for i in reversed(range(1,651)):\n",
    "    train = df[:-i]\n",
    "    model = ARMA(train['log_ret'], order=(3,3)).fit()\n",
    "    pred[-i] = model.forecast()[0]"
   ]
  },
  {
   "cell_type": "markdown",
   "metadata": {},
   "source": [
    "ARMA(3,3) model has been chosen as MA.4 term cannot converge(not stationary) in some sample training sets"
   ]
  },
  {
   "cell_type": "code",
   "execution_count": 53,
   "metadata": {},
   "outputs": [],
   "source": [
    "# extract test set from all data\n",
    "df['pred_log_ret'] = pred\n",
    "test = df[-650:]"
   ]
  },
  {
   "cell_type": "code",
   "execution_count": 54,
   "metadata": {},
   "outputs": [],
   "source": [
    "test['resid'] = test['log_ret']-test['pred_log_ret']\n",
    "test['error pct'] = abs(test['resid'])/test['log_ret']\n",
    "test['same sign'] = (test.log_ret * test.pred_log_ret > 0)"
   ]
  },
  {
   "cell_type": "code",
   "execution_count": 55,
   "metadata": {},
   "outputs": [
    {
     "data": {
      "text/html": [
       "<div>\n",
       "<style scoped>\n",
       "    .dataframe tbody tr th:only-of-type {\n",
       "        vertical-align: middle;\n",
       "    }\n",
       "\n",
       "    .dataframe tbody tr th {\n",
       "        vertical-align: top;\n",
       "    }\n",
       "\n",
       "    .dataframe thead th {\n",
       "        text-align: right;\n",
       "    }\n",
       "</style>\n",
       "<table border=\"1\" class=\"dataframe\">\n",
       "  <thead>\n",
       "    <tr style=\"text-align: right;\">\n",
       "      <th></th>\n",
       "      <th>value</th>\n",
       "      <th>last_value</th>\n",
       "      <th>log_ret</th>\n",
       "      <th>log_ret(%)</th>\n",
       "      <th>pred_log_ret</th>\n",
       "      <th>resid</th>\n",
       "      <th>error pct</th>\n",
       "      <th>same sign</th>\n",
       "    </tr>\n",
       "    <tr>\n",
       "      <th>date</th>\n",
       "      <th></th>\n",
       "      <th></th>\n",
       "      <th></th>\n",
       "      <th></th>\n",
       "      <th></th>\n",
       "      <th></th>\n",
       "      <th></th>\n",
       "      <th></th>\n",
       "    </tr>\n",
       "  </thead>\n",
       "  <tbody>\n",
       "    <tr>\n",
       "      <th>2018/3/12</th>\n",
       "      <td>2.78</td>\n",
       "      <td>2.71</td>\n",
       "      <td>0.025502</td>\n",
       "      <td>2.550229</td>\n",
       "      <td>-0.005891</td>\n",
       "      <td>0.031393</td>\n",
       "      <td>1.230998</td>\n",
       "      <td>False</td>\n",
       "    </tr>\n",
       "    <tr>\n",
       "      <th>2018/3/13</th>\n",
       "      <td>2.76</td>\n",
       "      <td>2.78</td>\n",
       "      <td>-0.007220</td>\n",
       "      <td>-0.722025</td>\n",
       "      <td>0.005562</td>\n",
       "      <td>-0.012782</td>\n",
       "      <td>-1.770347</td>\n",
       "      <td>False</td>\n",
       "    </tr>\n",
       "    <tr>\n",
       "      <th>2018/3/14</th>\n",
       "      <td>2.69</td>\n",
       "      <td>2.76</td>\n",
       "      <td>-0.025689</td>\n",
       "      <td>-2.568949</td>\n",
       "      <td>-0.002247</td>\n",
       "      <td>-0.023443</td>\n",
       "      <td>-0.912551</td>\n",
       "      <td>True</td>\n",
       "    </tr>\n",
       "    <tr>\n",
       "      <th>2018/3/15</th>\n",
       "      <td>2.70</td>\n",
       "      <td>2.69</td>\n",
       "      <td>0.003711</td>\n",
       "      <td>0.371058</td>\n",
       "      <td>0.000993</td>\n",
       "      <td>0.002718</td>\n",
       "      <td>0.732510</td>\n",
       "      <td>True</td>\n",
       "    </tr>\n",
       "    <tr>\n",
       "      <th>2018/3/16</th>\n",
       "      <td>2.62</td>\n",
       "      <td>2.70</td>\n",
       "      <td>-0.030077</td>\n",
       "      <td>-3.007746</td>\n",
       "      <td>0.005992</td>\n",
       "      <td>-0.036069</td>\n",
       "      <td>-1.199220</td>\n",
       "      <td>False</td>\n",
       "    </tr>\n",
       "    <tr>\n",
       "      <th>...</th>\n",
       "      <td>...</td>\n",
       "      <td>...</td>\n",
       "      <td>...</td>\n",
       "      <td>...</td>\n",
       "      <td>...</td>\n",
       "      <td>...</td>\n",
       "      <td>...</td>\n",
       "      <td>...</td>\n",
       "    </tr>\n",
       "    <tr>\n",
       "      <th>2020/9/30</th>\n",
       "      <td>1.66</td>\n",
       "      <td>1.74</td>\n",
       "      <td>-0.047068</td>\n",
       "      <td>-4.706751</td>\n",
       "      <td>-0.028604</td>\n",
       "      <td>-0.018463</td>\n",
       "      <td>-0.392277</td>\n",
       "      <td>True</td>\n",
       "    </tr>\n",
       "    <tr>\n",
       "      <th>2020/10/1</th>\n",
       "      <td>1.60</td>\n",
       "      <td>1.66</td>\n",
       "      <td>-0.036814</td>\n",
       "      <td>-3.681397</td>\n",
       "      <td>-0.003955</td>\n",
       "      <td>-0.032859</td>\n",
       "      <td>-0.892572</td>\n",
       "      <td>True</td>\n",
       "    </tr>\n",
       "    <tr>\n",
       "      <th>2020/10/2</th>\n",
       "      <td>1.41</td>\n",
       "      <td>1.60</td>\n",
       "      <td>-0.126414</td>\n",
       "      <td>-12.641392</td>\n",
       "      <td>0.017704</td>\n",
       "      <td>-0.144118</td>\n",
       "      <td>-1.140052</td>\n",
       "      <td>False</td>\n",
       "    </tr>\n",
       "    <tr>\n",
       "      <th>2020/10/5</th>\n",
       "      <td>1.92</td>\n",
       "      <td>1.41</td>\n",
       "      <td>0.308735</td>\n",
       "      <td>30.873548</td>\n",
       "      <td>0.026868</td>\n",
       "      <td>0.281868</td>\n",
       "      <td>0.912975</td>\n",
       "      <td>True</td>\n",
       "    </tr>\n",
       "    <tr>\n",
       "      <th>2020/10/6</th>\n",
       "      <td>1.86</td>\n",
       "      <td>1.92</td>\n",
       "      <td>-0.031749</td>\n",
       "      <td>-3.174870</td>\n",
       "      <td>0.055335</td>\n",
       "      <td>-0.087083</td>\n",
       "      <td>-2.742898</td>\n",
       "      <td>False</td>\n",
       "    </tr>\n",
       "  </tbody>\n",
       "</table>\n",
       "<p>650 rows × 8 columns</p>\n",
       "</div>"
      ],
      "text/plain": [
       "           value  last_value   log_ret  log_ret(%)  pred_log_ret     resid  \\\n",
       "date                                                                         \n",
       "2018/3/12   2.78        2.71  0.025502    2.550229     -0.005891  0.031393   \n",
       "2018/3/13   2.76        2.78 -0.007220   -0.722025      0.005562 -0.012782   \n",
       "2018/3/14   2.69        2.76 -0.025689   -2.568949     -0.002247 -0.023443   \n",
       "2018/3/15   2.70        2.69  0.003711    0.371058      0.000993  0.002718   \n",
       "2018/3/16   2.62        2.70 -0.030077   -3.007746      0.005992 -0.036069   \n",
       "...          ...         ...       ...         ...           ...       ...   \n",
       "2020/9/30   1.66        1.74 -0.047068   -4.706751     -0.028604 -0.018463   \n",
       "2020/10/1   1.60        1.66 -0.036814   -3.681397     -0.003955 -0.032859   \n",
       "2020/10/2   1.41        1.60 -0.126414  -12.641392      0.017704 -0.144118   \n",
       "2020/10/5   1.92        1.41  0.308735   30.873548      0.026868  0.281868   \n",
       "2020/10/6   1.86        1.92 -0.031749   -3.174870      0.055335 -0.087083   \n",
       "\n",
       "           error pct  same sign  \n",
       "date                             \n",
       "2018/3/12   1.230998      False  \n",
       "2018/3/13  -1.770347      False  \n",
       "2018/3/14  -0.912551       True  \n",
       "2018/3/15   0.732510       True  \n",
       "2018/3/16  -1.199220      False  \n",
       "...              ...        ...  \n",
       "2020/9/30  -0.392277       True  \n",
       "2020/10/1  -0.892572       True  \n",
       "2020/10/2  -1.140052      False  \n",
       "2020/10/5   0.912975       True  \n",
       "2020/10/6  -2.742898      False  \n",
       "\n",
       "[650 rows x 8 columns]"
      ]
     },
     "execution_count": 55,
     "metadata": {},
     "output_type": "execute_result"
    }
   ],
   "source": [
    "test"
   ]
  },
  {
   "cell_type": "markdown",
   "metadata": {},
   "source": [
    "“resid” measures the difference between true log return and predicted log return; \"error pct\" measures the \"resid\" in proportion of the true log return; \"same sign\" is assigned True if true and predicted log returns have the same sign"
   ]
  },
  {
   "cell_type": "markdown",
   "metadata": {},
   "source": [
    "# (7) ARMA Model Performance Evaluation on Log Return and Price"
   ]
  },
  {
   "cell_type": "code",
   "execution_count": 56,
   "metadata": {},
   "outputs": [
    {
     "name": "stdout",
     "output_type": "stream",
     "text": [
      "Log Return RMSE: 0.04869170491449176\n",
      "Standard Deviation of Log Return: 0.04821334825826508\n"
     ]
    }
   ],
   "source": [
    "print('Log Return RMSE:',np.sqrt(mean_squared_error(test.log_ret,test.pred_log_ret)))\n",
    "print('Standard Deviation of Log Return:',test.log_ret.std())"
   ]
  },
  {
   "cell_type": "markdown",
   "metadata": {},
   "source": [
    "Log return prediction power given by ARMA is similar to the one given by mean value, which is close to 0 "
   ]
  },
  {
   "cell_type": "code",
   "execution_count": 57,
   "metadata": {},
   "outputs": [
    {
     "name": "stdout",
     "output_type": "stream",
     "text": [
      "Directional accuracy: 0.46923076923076923\n"
     ]
    }
   ],
   "source": [
    "print('Directional accuracy:',test['same sign'].sum()/len(test))"
   ]
  },
  {
   "cell_type": "markdown",
   "metadata": {},
   "source": [
    "Up/down side prediction accuracy is a bit worse than the random guess"
   ]
  },
  {
   "cell_type": "code",
   "execution_count": 58,
   "metadata": {},
   "outputs": [
    {
     "data": {
      "text/plain": [
       "Text(0.5, 1.0, 'Test Data Residuals Series')"
      ]
     },
     "execution_count": 58,
     "metadata": {},
     "output_type": "execute_result"
    },
    {
     "data": {
      "image/png": "[encoded data removed]",
      "text/plain": [
       "<Figure size 432x288 with 1 Axes>"
      ]
     },
     "metadata": {
      "needs_background": "light"
     },
     "output_type": "display_data"
    }
   ],
   "source": [
    "plt.plot(test.resid.values)\n",
    "plt.title('Test Data Residuals Series')"
   ]
  },
  {
   "cell_type": "markdown",
   "metadata": {},
   "source": [
    "Residuals of test set prediction also show no clear pattern"
   ]
  },
  {
   "cell_type": "code",
   "execution_count": 59,
   "metadata": {},
   "outputs": [
    {
     "data": {
      "text/plain": [
       "Text(0.5, 1.0, 'Test Data Residuals Histogram')"
      ]
     },
     "execution_count": 59,
     "metadata": {},
     "output_type": "execute_result"
    },
    {
     "data": {
      "image/png": "[encoded data removed]",
      "text/plain": [
       "<Figure size 432x288 with 1 Axes>"
      ]
     },
     "metadata": {
      "needs_background": "light"
     },
     "output_type": "display_data"
    }
   ],
   "source": [
    "plt.hist(test.resid.values,bins=50)\n",
    "plt.title('Test Data Residuals Histogram')"
   ]
  },
  {
   "cell_type": "markdown",
   "metadata": {},
   "source": [
    "Residuals of test set prediction are also close to normal distribution"
   ]
  },
  {
   "cell_type": "code",
   "execution_count": 60,
   "metadata": {},
   "outputs": [
    {
     "data": {
      "text/html": [
       "<div>\n",
       "<style scoped>\n",
       "    .dataframe tbody tr th:only-of-type {\n",
       "        vertical-align: middle;\n",
       "    }\n",
       "\n",
       "    .dataframe tbody tr th {\n",
       "        vertical-align: top;\n",
       "    }\n",
       "\n",
       "    .dataframe thead th {\n",
       "        text-align: right;\n",
       "    }\n",
       "</style>\n",
       "<table border=\"1\" class=\"dataframe\">\n",
       "  <thead>\n",
       "    <tr style=\"text-align: right;\">\n",
       "      <th></th>\n",
       "      <th>value</th>\n",
       "      <th>last_value</th>\n",
       "      <th>log_ret</th>\n",
       "      <th>log_ret(%)</th>\n",
       "      <th>pred_log_ret</th>\n",
       "      <th>resid</th>\n",
       "      <th>error pct</th>\n",
       "      <th>same sign</th>\n",
       "      <th>pred_log_price</th>\n",
       "    </tr>\n",
       "    <tr>\n",
       "      <th>date</th>\n",
       "      <th></th>\n",
       "      <th></th>\n",
       "      <th></th>\n",
       "      <th></th>\n",
       "      <th></th>\n",
       "      <th></th>\n",
       "      <th></th>\n",
       "      <th></th>\n",
       "      <th></th>\n",
       "    </tr>\n",
       "  </thead>\n",
       "  <tbody>\n",
       "    <tr>\n",
       "      <th>2018/3/12</th>\n",
       "      <td>2.78</td>\n",
       "      <td>2.71</td>\n",
       "      <td>0.025502</td>\n",
       "      <td>2.550229</td>\n",
       "      <td>-0.005891</td>\n",
       "      <td>0.031393</td>\n",
       "      <td>1.230998</td>\n",
       "      <td>False</td>\n",
       "      <td>NaN</td>\n",
       "    </tr>\n",
       "    <tr>\n",
       "      <th>2018/3/13</th>\n",
       "      <td>2.76</td>\n",
       "      <td>2.78</td>\n",
       "      <td>-0.007220</td>\n",
       "      <td>-0.722025</td>\n",
       "      <td>0.005562</td>\n",
       "      <td>-0.012782</td>\n",
       "      <td>-1.770347</td>\n",
       "      <td>False</td>\n",
       "      <td>2.795506</td>\n",
       "    </tr>\n",
       "    <tr>\n",
       "      <th>2018/3/14</th>\n",
       "      <td>2.69</td>\n",
       "      <td>2.76</td>\n",
       "      <td>-0.025689</td>\n",
       "      <td>-2.568949</td>\n",
       "      <td>-0.002247</td>\n",
       "      <td>-0.023443</td>\n",
       "      <td>-0.912551</td>\n",
       "      <td>True</td>\n",
       "      <td>2.753807</td>\n",
       "    </tr>\n",
       "    <tr>\n",
       "      <th>2018/3/15</th>\n",
       "      <td>2.70</td>\n",
       "      <td>2.69</td>\n",
       "      <td>0.003711</td>\n",
       "      <td>0.371058</td>\n",
       "      <td>0.000993</td>\n",
       "      <td>0.002718</td>\n",
       "      <td>0.732510</td>\n",
       "      <td>True</td>\n",
       "      <td>2.692671</td>\n",
       "    </tr>\n",
       "    <tr>\n",
       "      <th>2018/3/16</th>\n",
       "      <td>2.62</td>\n",
       "      <td>2.70</td>\n",
       "      <td>-0.030077</td>\n",
       "      <td>-3.007746</td>\n",
       "      <td>0.005992</td>\n",
       "      <td>-0.036069</td>\n",
       "      <td>-1.199220</td>\n",
       "      <td>False</td>\n",
       "      <td>2.716227</td>\n",
       "    </tr>\n",
       "    <tr>\n",
       "      <th>...</th>\n",
       "      <td>...</td>\n",
       "      <td>...</td>\n",
       "      <td>...</td>\n",
       "      <td>...</td>\n",
       "      <td>...</td>\n",
       "      <td>...</td>\n",
       "      <td>...</td>\n",
       "      <td>...</td>\n",
       "      <td>...</td>\n",
       "    </tr>\n",
       "    <tr>\n",
       "      <th>2020/9/30</th>\n",
       "      <td>1.66</td>\n",
       "      <td>1.74</td>\n",
       "      <td>-0.047068</td>\n",
       "      <td>-4.706751</td>\n",
       "      <td>-0.028604</td>\n",
       "      <td>-0.018463</td>\n",
       "      <td>-0.392277</td>\n",
       "      <td>True</td>\n",
       "      <td>1.690934</td>\n",
       "    </tr>\n",
       "    <tr>\n",
       "      <th>2020/10/1</th>\n",
       "      <td>1.60</td>\n",
       "      <td>1.66</td>\n",
       "      <td>-0.036814</td>\n",
       "      <td>-3.681397</td>\n",
       "      <td>-0.003955</td>\n",
       "      <td>-0.032859</td>\n",
       "      <td>-0.892572</td>\n",
       "      <td>True</td>\n",
       "      <td>1.653448</td>\n",
       "    </tr>\n",
       "    <tr>\n",
       "      <th>2020/10/2</th>\n",
       "      <td>1.41</td>\n",
       "      <td>1.60</td>\n",
       "      <td>-0.126414</td>\n",
       "      <td>-12.641392</td>\n",
       "      <td>0.017704</td>\n",
       "      <td>-0.144118</td>\n",
       "      <td>-1.140052</td>\n",
       "      <td>False</td>\n",
       "      <td>1.628579</td>\n",
       "    </tr>\n",
       "    <tr>\n",
       "      <th>2020/10/5</th>\n",
       "      <td>1.92</td>\n",
       "      <td>1.41</td>\n",
       "      <td>0.308735</td>\n",
       "      <td>30.873548</td>\n",
       "      <td>0.026868</td>\n",
       "      <td>0.281868</td>\n",
       "      <td>0.912975</td>\n",
       "      <td>True</td>\n",
       "      <td>1.448397</td>\n",
       "    </tr>\n",
       "    <tr>\n",
       "      <th>2020/10/6</th>\n",
       "      <td>1.86</td>\n",
       "      <td>1.92</td>\n",
       "      <td>-0.031749</td>\n",
       "      <td>-3.174870</td>\n",
       "      <td>0.055335</td>\n",
       "      <td>-0.087083</td>\n",
       "      <td>-2.742898</td>\n",
       "      <td>False</td>\n",
       "      <td>2.029237</td>\n",
       "    </tr>\n",
       "  </tbody>\n",
       "</table>\n",
       "<p>650 rows × 9 columns</p>\n",
       "</div>"
      ],
      "text/plain": [
       "           value  last_value   log_ret  log_ret(%)  pred_log_ret     resid  \\\n",
       "date                                                                         \n",
       "2018/3/12   2.78        2.71  0.025502    2.550229     -0.005891  0.031393   \n",
       "2018/3/13   2.76        2.78 -0.007220   -0.722025      0.005562 -0.012782   \n",
       "2018/3/14   2.69        2.76 -0.025689   -2.568949     -0.002247 -0.023443   \n",
       "2018/3/15   2.70        2.69  0.003711    0.371058      0.000993  0.002718   \n",
       "2018/3/16   2.62        2.70 -0.030077   -3.007746      0.005992 -0.036069   \n",
       "...          ...         ...       ...         ...           ...       ...   \n",
       "2020/9/30   1.66        1.74 -0.047068   -4.706751     -0.028604 -0.018463   \n",
       "2020/10/1   1.60        1.66 -0.036814   -3.681397     -0.003955 -0.032859   \n",
       "2020/10/2   1.41        1.60 -0.126414  -12.641392      0.017704 -0.144118   \n",
       "2020/10/5   1.92        1.41  0.308735   30.873548      0.026868  0.281868   \n",
       "2020/10/6   1.86        1.92 -0.031749   -3.174870      0.055335 -0.087083   \n",
       "\n",
       "           error pct  same sign  pred_log_price  \n",
       "date                                             \n",
       "2018/3/12   1.230998      False             NaN  \n",
       "2018/3/13  -1.770347      False        2.795506  \n",
       "2018/3/14  -0.912551       True        2.753807  \n",
       "2018/3/15   0.732510       True        2.692671  \n",
       "2018/3/16  -1.199220      False        2.716227  \n",
       "...              ...        ...             ...  \n",
       "2020/9/30  -0.392277       True        1.690934  \n",
       "2020/10/1  -0.892572       True        1.653448  \n",
       "2020/10/2  -1.140052      False        1.628579  \n",
       "2020/10/5   0.912975       True        1.448397  \n",
       "2020/10/6  -2.742898      False        2.029237  \n",
       "\n",
       "[650 rows x 9 columns]"
      ]
     },
     "execution_count": 60,
     "metadata": {},
     "output_type": "execute_result"
    }
   ],
   "source": [
    "#transform return prediction to price\n",
    "test['pred_log_price'] = test.value.shift(1)*np.exp(test.pred_log_ret)\n",
    "test"
   ]
  },
  {
   "cell_type": "code",
   "execution_count": 61,
   "metadata": {},
   "outputs": [
    {
     "name": "stdout",
     "output_type": "stream",
     "text": [
      "Price RMSE: 0.1250937856968495\n",
      "Standard Deviation of Price: 0.6243414867257627\n"
     ]
    }
   ],
   "source": [
    "print(\"Price RMSE:\",np.sqrt(mean_squared_error(test.value.values[1:],test.pred_log_price.values[1:])))\n",
    "print(\"Standard Deviation of Price:\",test.value.std())"
   ]
  },
  {
   "cell_type": "markdown",
   "metadata": {},
   "source": [
    "Log price prediction power given by ARMA is significantly greater than the one given by mean value, because the ARMA predicted value is based on adjustment of previous price data while mean price prediction has no adjustment"
   ]
  },
  {
   "cell_type": "code",
   "execution_count": 62,
   "metadata": {},
   "outputs": [
    {
     "data": {
      "image/png": "[encoded data removed]",
      "text/plain": [
       "<Figure size 432x288 with 1 Axes>"
      ]
     },
     "metadata": {
      "needs_background": "light"
     },
     "output_type": "display_data"
    }
   ],
   "source": [
    "plt.plot(test.value.values[1:],label='Actual Price')\n",
    "plt.plot(test.pred_log_price.values[1:],label='Predicted Price')\n",
    "plt.legend()\n",
    "plt.title('Actual vs. Predicted Price')\n",
    "plt.show()"
   ]
  },
  {
   "cell_type": "markdown",
   "metadata": {},
   "source": [
    "**Conclusion:** Even though the predicted price path nicely follows the actual price path, from the analysis above, we can tell ***ARMA model is not good at predicting returns***. Overall speaking, the prediction power of using ARMA and direcctly using the 1-step lag value should be similar"
   ]
  },
  {
   "cell_type": "markdown",
   "metadata": {},
   "source": [
    "# (8) 15-Day Historical Rolling Window Volatility Forecasting"
   ]
  },
  {
   "cell_type": "code",
   "execution_count": 63,
   "metadata": {},
   "outputs": [],
   "source": [
    "df['hist_pred_vol'] = df['log_ret'].rolling(window=15).std()\n",
    "df['hist_pred_vol'] = df['hist_pred_vol'].shift(1)"
   ]
  },
  {
   "cell_type": "code",
   "execution_count": 64,
   "metadata": {},
   "outputs": [
    {
     "data": {
      "text/html": [
       "<div>\n",
       "<style scoped>\n",
       "    .dataframe tbody tr th:only-of-type {\n",
       "        vertical-align: middle;\n",
       "    }\n",
       "\n",
       "    .dataframe tbody tr th {\n",
       "        vertical-align: top;\n",
       "    }\n",
       "\n",
       "    .dataframe thead th {\n",
       "        text-align: right;\n",
       "    }\n",
       "</style>\n",
       "<table border=\"1\" class=\"dataframe\">\n",
       "  <thead>\n",
       "    <tr style=\"text-align: right;\">\n",
       "      <th></th>\n",
       "      <th>value</th>\n",
       "      <th>last_value</th>\n",
       "      <th>log_ret</th>\n",
       "      <th>log_ret(%)</th>\n",
       "      <th>pred_log_ret</th>\n",
       "      <th>hist_pred_vol</th>\n",
       "    </tr>\n",
       "    <tr>\n",
       "      <th>date</th>\n",
       "      <th></th>\n",
       "      <th></th>\n",
       "      <th></th>\n",
       "      <th></th>\n",
       "      <th></th>\n",
       "      <th></th>\n",
       "    </tr>\n",
       "  </thead>\n",
       "  <tbody>\n",
       "    <tr>\n",
       "      <th>2007/10/12</th>\n",
       "      <td>6.46</td>\n",
       "      <td>6.85</td>\n",
       "      <td>-0.058619</td>\n",
       "      <td>-5.861933</td>\n",
       "      <td>0.000000</td>\n",
       "      <td>NaN</td>\n",
       "    </tr>\n",
       "    <tr>\n",
       "      <th>2007/10/15</th>\n",
       "      <td>7.09</td>\n",
       "      <td>6.46</td>\n",
       "      <td>0.093056</td>\n",
       "      <td>9.305602</td>\n",
       "      <td>0.000000</td>\n",
       "      <td>NaN</td>\n",
       "    </tr>\n",
       "    <tr>\n",
       "      <th>2007/10/16</th>\n",
       "      <td>7.29</td>\n",
       "      <td>7.09</td>\n",
       "      <td>0.027818</td>\n",
       "      <td>2.781821</td>\n",
       "      <td>0.000000</td>\n",
       "      <td>NaN</td>\n",
       "    </tr>\n",
       "    <tr>\n",
       "      <th>2007/10/17</th>\n",
       "      <td>7.12</td>\n",
       "      <td>7.29</td>\n",
       "      <td>-0.023596</td>\n",
       "      <td>-2.359582</td>\n",
       "      <td>0.000000</td>\n",
       "      <td>NaN</td>\n",
       "    </tr>\n",
       "    <tr>\n",
       "      <th>2007/10/18</th>\n",
       "      <td>7.11</td>\n",
       "      <td>7.12</td>\n",
       "      <td>-0.001405</td>\n",
       "      <td>-0.140548</td>\n",
       "      <td>0.000000</td>\n",
       "      <td>NaN</td>\n",
       "    </tr>\n",
       "    <tr>\n",
       "      <th>...</th>\n",
       "      <td>...</td>\n",
       "      <td>...</td>\n",
       "      <td>...</td>\n",
       "      <td>...</td>\n",
       "      <td>...</td>\n",
       "      <td>...</td>\n",
       "    </tr>\n",
       "    <tr>\n",
       "      <th>2020/9/30</th>\n",
       "      <td>1.66</td>\n",
       "      <td>1.74</td>\n",
       "      <td>-0.047068</td>\n",
       "      <td>-4.706751</td>\n",
       "      <td>-0.028604</td>\n",
       "      <td>0.105958</td>\n",
       "    </tr>\n",
       "    <tr>\n",
       "      <th>2020/10/1</th>\n",
       "      <td>1.60</td>\n",
       "      <td>1.66</td>\n",
       "      <td>-0.036814</td>\n",
       "      <td>-3.681397</td>\n",
       "      <td>-0.003955</td>\n",
       "      <td>0.105621</td>\n",
       "    </tr>\n",
       "    <tr>\n",
       "      <th>2020/10/2</th>\n",
       "      <td>1.41</td>\n",
       "      <td>1.60</td>\n",
       "      <td>-0.126414</td>\n",
       "      <td>-12.641392</td>\n",
       "      <td>0.017704</td>\n",
       "      <td>0.105621</td>\n",
       "    </tr>\n",
       "    <tr>\n",
       "      <th>2020/10/5</th>\n",
       "      <td>1.92</td>\n",
       "      <td>1.41</td>\n",
       "      <td>0.308735</td>\n",
       "      <td>30.873548</td>\n",
       "      <td>0.026868</td>\n",
       "      <td>0.107347</td>\n",
       "    </tr>\n",
       "    <tr>\n",
       "      <th>2020/10/6</th>\n",
       "      <td>1.86</td>\n",
       "      <td>1.92</td>\n",
       "      <td>-0.031749</td>\n",
       "      <td>-3.174870</td>\n",
       "      <td>0.055335</td>\n",
       "      <td>0.132908</td>\n",
       "    </tr>\n",
       "  </tbody>\n",
       "</table>\n",
       "<p>3292 rows × 6 columns</p>\n",
       "</div>"
      ],
      "text/plain": [
       "            value  last_value   log_ret  log_ret(%)  pred_log_ret  \\\n",
       "date                                                                \n",
       "2007/10/12   6.46        6.85 -0.058619   -5.861933      0.000000   \n",
       "2007/10/15   7.09        6.46  0.093056    9.305602      0.000000   \n",
       "2007/10/16   7.29        7.09  0.027818    2.781821      0.000000   \n",
       "2007/10/17   7.12        7.29 -0.023596   -2.359582      0.000000   \n",
       "2007/10/18   7.11        7.12 -0.001405   -0.140548      0.000000   \n",
       "...           ...         ...       ...         ...           ...   \n",
       "2020/9/30    1.66        1.74 -0.047068   -4.706751     -0.028604   \n",
       "2020/10/1    1.60        1.66 -0.036814   -3.681397     -0.003955   \n",
       "2020/10/2    1.41        1.60 -0.126414  -12.641392      0.017704   \n",
       "2020/10/5    1.92        1.41  0.308735   30.873548      0.026868   \n",
       "2020/10/6    1.86        1.92 -0.031749   -3.174870      0.055335   \n",
       "\n",
       "            hist_pred_vol  \n",
       "date                       \n",
       "2007/10/12            NaN  \n",
       "2007/10/15            NaN  \n",
       "2007/10/16            NaN  \n",
       "2007/10/17            NaN  \n",
       "2007/10/18            NaN  \n",
       "...                   ...  \n",
       "2020/9/30        0.105958  \n",
       "2020/10/1        0.105621  \n",
       "2020/10/2        0.105621  \n",
       "2020/10/5        0.107347  \n",
       "2020/10/6        0.132908  \n",
       "\n",
       "[3292 rows x 6 columns]"
      ]
     },
     "execution_count": 64,
     "metadata": {},
     "output_type": "execute_result"
    }
   ],
   "source": [
    "df"
   ]
  },
  {
   "cell_type": "markdown",
   "metadata": {},
   "source": [
    "15-day historical rolling window volatility forecasting is based on the standard deviation of past 15 days' log returns"
   ]
  },
  {
   "cell_type": "markdown",
   "metadata": {},
   "source": [
    "# (9) ARCH(3) and GARCH(3,10) in Volatility Forecasting"
   ]
  },
  {
   "cell_type": "code",
   "execution_count": 65,
   "metadata": {},
   "outputs": [
    {
     "data": {
      "image/png": "[encoded data removed]",
      "text/plain": [
       "<Figure size 432x288 with 1 Axes>"
      ]
     },
     "metadata": {
      "needs_background": "light"
     },
     "output_type": "display_data"
    }
   ],
   "source": [
    "#ACF plot for log return squared\n",
    "plot_acf(df['log_ret']**2)\n",
    "plt.show()"
   ]
  },
  {
   "cell_type": "markdown",
   "metadata": {},
   "source": [
    "The autocorrelation function of log return squared is significant until the 10th lag"
   ]
  },
  {
   "cell_type": "code",
   "execution_count": 66,
   "metadata": {},
   "outputs": [
    {
     "data": {
      "image/png": "[encoded data removed]",
      "text/plain": [
       "<Figure size 432x288 with 1 Axes>"
      ]
     },
     "metadata": {
      "needs_background": "light"
     },
     "output_type": "display_data"
    }
   ],
   "source": [
    "#PACF plot for log return squared\n",
    "plot_pacf(df['log_ret']**2)\n",
    "plt.show()"
   ]
  },
  {
   "cell_type": "markdown",
   "metadata": {},
   "source": [
    "The partial autocorrelation function of log return squared is significant until the 3rd lag"
   ]
  },
  {
   "cell_type": "code",
   "execution_count": 67,
   "metadata": {},
   "outputs": [],
   "source": [
    "#ARCH(3) Model\n",
    "arch_1 = np.zeros(len(df))\n",
    "model = arch_model(df['log_ret(%)'], mean='Zero', vol='ARCH', p=3)\n",
    "for i in range(3,len(df)):\n",
    "    end = i\n",
    "    model_fit = model.fit(last_obs=end,disp='off')\n",
    "    yhat = model_fit.forecast(horizon=1)\n",
    "    arch_1[i] = yhat.variance.iloc[i-1,0]\n",
    "df['ARCH(3)_pred_vol'] = np.sqrt(arch_1)/100"
   ]
  },
  {
   "cell_type": "code",
   "execution_count": 68,
   "metadata": {},
   "outputs": [],
   "source": [
    "#GARCH(3,10) Model\n",
    "garch_1 = np.zeros(len(df))\n",
    "model = arch_model(df['log_ret(%)'], mean='Zero', vol='GARCH', p=3, q=10)\n",
    "for i in range(10,len(df)):\n",
    "    end = i\n",
    "    model_fit = model.fit(last_obs=end,disp='off')\n",
    "    yhat = model_fit.forecast(horizon=1)\n",
    "    garch_1[i] = yhat.variance.iloc[i-1,0]\n",
    "df['GARCH(3,10)_pred_vol'] = np.sqrt(garch_1)/100"
   ]
  },
  {
   "cell_type": "code",
   "execution_count": 69,
   "metadata": {},
   "outputs": [
    {
     "data": {
      "text/html": [
       "<div>\n",
       "<style scoped>\n",
       "    .dataframe tbody tr th:only-of-type {\n",
       "        vertical-align: middle;\n",
       "    }\n",
       "\n",
       "    .dataframe tbody tr th {\n",
       "        vertical-align: top;\n",
       "    }\n",
       "\n",
       "    .dataframe thead th {\n",
       "        text-align: right;\n",
       "    }\n",
       "</style>\n",
       "<table border=\"1\" class=\"dataframe\">\n",
       "  <thead>\n",
       "    <tr style=\"text-align: right;\">\n",
       "      <th></th>\n",
       "      <th>value</th>\n",
       "      <th>last_value</th>\n",
       "      <th>log_ret</th>\n",
       "      <th>log_ret(%)</th>\n",
       "      <th>pred_log_ret</th>\n",
       "      <th>hist_pred_vol</th>\n",
       "      <th>ARCH(3)_pred_vol</th>\n",
       "      <th>GARCH(3,10)_pred_vol</th>\n",
       "    </tr>\n",
       "    <tr>\n",
       "      <th>date</th>\n",
       "      <th></th>\n",
       "      <th></th>\n",
       "      <th></th>\n",
       "      <th></th>\n",
       "      <th></th>\n",
       "      <th></th>\n",
       "      <th></th>\n",
       "      <th></th>\n",
       "    </tr>\n",
       "  </thead>\n",
       "  <tbody>\n",
       "    <tr>\n",
       "      <th>2007/10/12</th>\n",
       "      <td>6.46</td>\n",
       "      <td>6.85</td>\n",
       "      <td>-0.058619</td>\n",
       "      <td>-5.861933</td>\n",
       "      <td>0.000000</td>\n",
       "      <td>NaN</td>\n",
       "      <td>0.000000</td>\n",
       "      <td>0.000000</td>\n",
       "    </tr>\n",
       "    <tr>\n",
       "      <th>2007/10/15</th>\n",
       "      <td>7.09</td>\n",
       "      <td>6.46</td>\n",
       "      <td>0.093056</td>\n",
       "      <td>9.305602</td>\n",
       "      <td>0.000000</td>\n",
       "      <td>NaN</td>\n",
       "      <td>0.000000</td>\n",
       "      <td>0.000000</td>\n",
       "    </tr>\n",
       "    <tr>\n",
       "      <th>2007/10/16</th>\n",
       "      <td>7.29</td>\n",
       "      <td>7.09</td>\n",
       "      <td>0.027818</td>\n",
       "      <td>2.781821</td>\n",
       "      <td>0.000000</td>\n",
       "      <td>NaN</td>\n",
       "      <td>0.000000</td>\n",
       "      <td>0.000000</td>\n",
       "    </tr>\n",
       "    <tr>\n",
       "      <th>2007/10/17</th>\n",
       "      <td>7.12</td>\n",
       "      <td>7.29</td>\n",
       "      <td>-0.023596</td>\n",
       "      <td>-2.359582</td>\n",
       "      <td>0.000000</td>\n",
       "      <td>NaN</td>\n",
       "      <td>0.093056</td>\n",
       "      <td>0.000000</td>\n",
       "    </tr>\n",
       "    <tr>\n",
       "      <th>2007/10/18</th>\n",
       "      <td>7.11</td>\n",
       "      <td>7.12</td>\n",
       "      <td>-0.001405</td>\n",
       "      <td>-0.140548</td>\n",
       "      <td>0.000000</td>\n",
       "      <td>NaN</td>\n",
       "      <td>0.063256</td>\n",
       "      <td>0.000000</td>\n",
       "    </tr>\n",
       "    <tr>\n",
       "      <th>...</th>\n",
       "      <td>...</td>\n",
       "      <td>...</td>\n",
       "      <td>...</td>\n",
       "      <td>...</td>\n",
       "      <td>...</td>\n",
       "      <td>...</td>\n",
       "      <td>...</td>\n",
       "      <td>...</td>\n",
       "    </tr>\n",
       "    <tr>\n",
       "      <th>2020/9/30</th>\n",
       "      <td>1.66</td>\n",
       "      <td>1.74</td>\n",
       "      <td>-0.047068</td>\n",
       "      <td>-4.706751</td>\n",
       "      <td>-0.028604</td>\n",
       "      <td>0.105958</td>\n",
       "      <td>0.040342</td>\n",
       "      <td>0.097278</td>\n",
       "    </tr>\n",
       "    <tr>\n",
       "      <th>2020/10/1</th>\n",
       "      <td>1.60</td>\n",
       "      <td>1.66</td>\n",
       "      <td>-0.036814</td>\n",
       "      <td>-3.681397</td>\n",
       "      <td>-0.003955</td>\n",
       "      <td>0.105621</td>\n",
       "      <td>0.044795</td>\n",
       "      <td>0.089784</td>\n",
       "    </tr>\n",
       "    <tr>\n",
       "      <th>2020/10/2</th>\n",
       "      <td>1.41</td>\n",
       "      <td>1.60</td>\n",
       "      <td>-0.126414</td>\n",
       "      <td>-12.641392</td>\n",
       "      <td>0.017704</td>\n",
       "      <td>0.105621</td>\n",
       "      <td>0.044052</td>\n",
       "      <td>0.083388</td>\n",
       "    </tr>\n",
       "    <tr>\n",
       "      <th>2020/10/5</th>\n",
       "      <td>1.92</td>\n",
       "      <td>1.41</td>\n",
       "      <td>0.308735</td>\n",
       "      <td>30.873548</td>\n",
       "      <td>0.026868</td>\n",
       "      <td>0.107347</td>\n",
       "      <td>0.073053</td>\n",
       "      <td>0.095803</td>\n",
       "    </tr>\n",
       "    <tr>\n",
       "      <th>2020/10/6</th>\n",
       "      <td>1.86</td>\n",
       "      <td>1.92</td>\n",
       "      <td>-0.031749</td>\n",
       "      <td>-3.174870</td>\n",
       "      <td>0.055335</td>\n",
       "      <td>0.132908</td>\n",
       "      <td>0.170953</td>\n",
       "      <td>0.167888</td>\n",
       "    </tr>\n",
       "  </tbody>\n",
       "</table>\n",
       "<p>3292 rows × 8 columns</p>\n",
       "</div>"
      ],
      "text/plain": [
       "            value  last_value   log_ret  log_ret(%)  pred_log_ret  \\\n",
       "date                                                                \n",
       "2007/10/12   6.46        6.85 -0.058619   -5.861933      0.000000   \n",
       "2007/10/15   7.09        6.46  0.093056    9.305602      0.000000   \n",
       "2007/10/16   7.29        7.09  0.027818    2.781821      0.000000   \n",
       "2007/10/17   7.12        7.29 -0.023596   -2.359582      0.000000   \n",
       "2007/10/18   7.11        7.12 -0.001405   -0.140548      0.000000   \n",
       "...           ...         ...       ...         ...           ...   \n",
       "2020/9/30    1.66        1.74 -0.047068   -4.706751     -0.028604   \n",
       "2020/10/1    1.60        1.66 -0.036814   -3.681397     -0.003955   \n",
       "2020/10/2    1.41        1.60 -0.126414  -12.641392      0.017704   \n",
       "2020/10/5    1.92        1.41  0.308735   30.873548      0.026868   \n",
       "2020/10/6    1.86        1.92 -0.031749   -3.174870      0.055335   \n",
       "\n",
       "            hist_pred_vol  ARCH(3)_pred_vol  GARCH(3,10)_pred_vol  \n",
       "date                                                               \n",
       "2007/10/12            NaN          0.000000              0.000000  \n",
       "2007/10/15            NaN          0.000000              0.000000  \n",
       "2007/10/16            NaN          0.000000              0.000000  \n",
       "2007/10/17            NaN          0.093056              0.000000  \n",
       "2007/10/18            NaN          0.063256              0.000000  \n",
       "...                   ...               ...                   ...  \n",
       "2020/9/30        0.105958          0.040342              0.097278  \n",
       "2020/10/1        0.105621          0.044795              0.089784  \n",
       "2020/10/2        0.105621          0.044052              0.083388  \n",
       "2020/10/5        0.107347          0.073053              0.095803  \n",
       "2020/10/6        0.132908          0.170953              0.167888  \n",
       "\n",
       "[3292 rows x 8 columns]"
      ]
     },
     "execution_count": 69,
     "metadata": {},
     "output_type": "execute_result"
    }
   ],
   "source": [
    "df"
   ]
  },
  {
   "cell_type": "markdown",
   "metadata": {},
   "source": [
    "**Note:** \"log_ret(%)\" is used to fit models to address the coefficient convergence issue of GARCH model, and the predicted volatility is then re-scaled back to values in decimal format for comparison with \"hist_pred_vol\""
   ]
  },
  {
   "cell_type": "code",
   "execution_count": 70,
   "metadata": {},
   "outputs": [
    {
     "data": {
      "image/png": "[encoded data removed]",
      "text/plain": [
       "<Figure size 432x288 with 1 Axes>"
      ]
     },
     "metadata": {
      "needs_background": "light"
     },
     "output_type": "display_data"
    }
   ],
   "source": [
    "plt.plot(df['hist_pred_vol'].values[15:],label='Historical Rolling-Window Forecast')\n",
    "plt.plot(df['ARCH(3)_pred_vol'].values[15:],label='ARCH(3) Forecast')\n",
    "plt.plot(df['GARCH(3,10)_pred_vol'].values[15:],label='GARCH(3,10) Forecast')\n",
    "plt.legend()\n",
    "plt.title(\"Historical vs. ARCH(3) vs. GARCH(3,10)\")\n",
    "plt.show()"
   ]
  },
  {
   "cell_type": "markdown",
   "metadata": {},
   "source": [
    "All 3 estimated volatilities show similar paths, and a more rigorous metric need to be used for performance  evaluation. As true volatility cannot be directly observed given our data frequency, we need to calculate likelihood of each estimate for performance evaluation"
   ]
  },
  {
   "cell_type": "code",
   "execution_count": 71,
   "metadata": {},
   "outputs": [],
   "source": [
    "#Compute likelihood and log-likelihood of predictions on each trading day\n",
    "df[\"hist_pred_vol likelihood\"] = norm.pdf(df[\"log_ret\"],loc=0,scale=df[\"hist_pred_vol\"])\n",
    "df[\"hist_pred_vol log-likelihood\"] = np.log(df[\"hist_pred_vol likelihood\"])\n",
    "df[\"ARCH(3)_pred_vol likelihood\"] = norm.pdf(df[\"log_ret\"],loc=0,scale=df[\"ARCH(3)_pred_vol\"])\n",
    "df[\"ARCH(3)_pred_vol log-likelihood\"] = np.log(df[\"ARCH(3)_pred_vol likelihood\"])\n",
    "df[\"GARCH(3,10)_pred_vol likelihood\"] = norm.pdf(df[\"log_ret\"],loc=0,scale=df[\"GARCH(3,10)_pred_vol\"])\n",
    "df[\"GARCH(3,10)_pred_vol log-likelihood\"] = np.log(df[\"GARCH(3,10)_pred_vol likelihood\"])"
   ]
  },
  {
   "cell_type": "markdown",
   "metadata": {},
   "source": [
    "The likelihood of each estimate on any given day is just the log return's probability density function of a normal distribution centered at 0 with standard deviation equal to the estimated volatility. It measures how \"likely\" the log return can happen under the estimated distribution. The 0 mean assumption is just a simple approximation of the real mean, which is very close to 0"
   ]
  },
  {
   "cell_type": "code",
   "execution_count": 100,
   "metadata": {},
   "outputs": [
    {
     "name": "stdout",
     "output_type": "stream",
     "text": [
      "Total historical log-likelihood:  6278.757673557446\n",
      "Total ARCH(3) log-likelihood:  6248.658826263347\n",
      "Total GARCH(3,10) log-likelihood:  6401.424980037511\n"
     ]
    }
   ],
   "source": [
    "#Compute models' joint log-likelihood\n",
    "print(\"Total historical log-likelihood: \",df[\"hist_pred_vol log-likelihood\"][15:].sum())\n",
    "print(\"Total ARCH(3) log-likelihood: \",df[\"ARCH(3)_pred_vol log-likelihood\"][15:].sum())\n",
    "print(\"Total GARCH(3,10) log-likelihood: \", df[\"GARCH(3,10)_pred_vol log-likelihood\"][15:].sum())"
   ]
  },
  {
   "cell_type": "markdown",
   "metadata": {},
   "source": [
    "The total log-likelihood of all estimated data points is calculated for each method. The reason why we use log-likelihood instead of likelihood is that we can transform the multiplication computation to the addition computation of each individual likelihood, which efficiently avoids resulting to a very large number, even potentially causing overflow"
   ]
  },
  {
   "cell_type": "code",
   "execution_count": 73,
   "metadata": {},
   "outputs": [
    {
     "name": "stdout",
     "output_type": "stream",
     "text": [
      "Log-likelihood of ARCH(3) is -0.48% higher than that of historical model\n",
      "Log-likelihood of GARCH(3,10) is 2.0% higher than that of historical model\n"
     ]
    }
   ],
   "source": [
    "#Model Performance Comparison\n",
    "print(\"Log-likelihood of ARCH(3) is {:.2}% higher than that of historical model\".format((df[\"ARCH(3)_pred_vol log-likelihood\"][15:].sum()/df[\"hist_pred_vol log-likelihood\"][15:].sum()-1)*100))\n",
    "print(\"Log-likelihood of GARCH(3,10) is {:.2}% higher than that of historical model\".format((df[\"GARCH(3,10)_pred_vol log-likelihood\"][15:].sum()/df[\"hist_pred_vol log-likelihood\"][15:].sum()-1)*100))"
   ]
  },
  {
   "cell_type": "markdown",
   "metadata": {},
   "source": [
    "Higher log-likelihood generally means the model is more accurate"
   ]
  },
  {
   "cell_type": "code",
   "execution_count": 74,
   "metadata": {},
   "outputs": [
    {
     "data": {
      "image/png": "[encoded data removed]",
      "text/plain": [
       "<Figure size 432x288 with 1 Axes>"
      ]
     },
     "metadata": {
      "needs_background": "light"
     },
     "output_type": "display_data"
    }
   ],
   "source": [
    "plt.plot(df['ARCH(3)_pred_vol log-likelihood'][15:].values-df['hist_pred_vol log-likelihood'][15:].values)\n",
    "plt.title(\"Log-Likelihood ARCH(3) Higher than Historical\")\n",
    "plt.show()"
   ]
  },
  {
   "cell_type": "code",
   "execution_count": 75,
   "metadata": {},
   "outputs": [
    {
     "data": {
      "image/png": "[encoded data removed]",
      "text/plain": [
       "<Figure size 432x288 with 1 Axes>"
      ]
     },
     "metadata": {
      "needs_background": "light"
     },
     "output_type": "display_data"
    }
   ],
   "source": [
    "plt.plot(df['GARCH(3,10)_pred_vol log-likelihood'][15:].values-df['hist_pred_vol log-likelihood'][15:].values)\n",
    "plt.title(\"Log-Likelihood GARCH(3,10) Higher than Historical\")\n",
    "plt.show()"
   ]
  },
  {
   "cell_type": "markdown",
   "metadata": {},
   "source": [
    "**Conclusion:** GARCH(3,10) model outperforms the historical volatility model by 2% in log-likelihood, while ARCH(3) model underperforms the historical volatility model by 0.48% in log-likelihood. By straightly eyeballing the graph above, we can also notice the superiority of GARCH(3,10) as GARCH's prediction is better than historical model's prediction in most days."
   ]
  },
  {
   "cell_type": "markdown",
   "metadata": {},
   "source": [
    "# (10) ARCH(4) and GARCH(4,4) in Volatility Forecasting"
   ]
  },
  {
   "cell_type": "code",
   "execution_count": 76,
   "metadata": {},
   "outputs": [
    {
     "data": {
      "image/png": "[encoded data removed]",
      "text/plain": [
       "<Figure size 432x288 with 1 Axes>"
      ]
     },
     "metadata": {
      "needs_background": "light"
     },
     "output_type": "display_data"
    }
   ],
   "source": [
    "#ACF plot for log return\n",
    "plot_acf(df['log_ret'])\n",
    "plt.show()"
   ]
  },
  {
   "cell_type": "code",
   "execution_count": 77,
   "metadata": {
    "scrolled": true
   },
   "outputs": [
    {
     "data": {
      "image/png": "[encoded data removed]",
      "text/plain": [
       "<Figure size 432x288 with 1 Axes>"
      ]
     },
     "metadata": {
      "needs_background": "light"
     },
     "output_type": "display_data"
    }
   ],
   "source": [
    "#PACF plot for log return\n",
    "plot_pacf(df['log_ret'])\n",
    "plt.show()"
   ]
  },
  {
   "cell_type": "code",
   "execution_count": 78,
   "metadata": {},
   "outputs": [],
   "source": [
    "#ARCH(4) Model\n",
    "arch_1 = np.zeros(len(df))\n",
    "model = arch_model(df['log_ret(%)'], mean='Zero', vol='ARCH', p=4)\n",
    "for i in range(4,len(df)):\n",
    "    end = i\n",
    "    model_fit = model.fit(last_obs=end,disp='off')\n",
    "    yhat = model_fit.forecast(horizon=1)\n",
    "    arch_1[i] = yhat.variance.iloc[i-1,0]\n",
    "df['ARCH(4)_pred_vol'] = np.sqrt(arch_1)/100"
   ]
  },
  {
   "cell_type": "code",
   "execution_count": 79,
   "metadata": {},
   "outputs": [],
   "source": [
    "#GARCH(4,4) Model\n",
    "garch_1 = np.zeros(len(df))\n",
    "model = arch_model(df['log_ret(%)'], mean='Zero', vol='GARCH', p=4, q=4)\n",
    "for i in range(4,len(df)):\n",
    "    end = i\n",
    "    model_fit = model.fit(last_obs=end,disp='off')\n",
    "    yhat = model_fit.forecast(horizon=1)\n",
    "    garch_1[i] = yhat.variance.iloc[i-1,0]\n",
    "df['GARCH(4,4)_pred_vol'] = np.sqrt(garch_1)/100"
   ]
  },
  {
   "cell_type": "code",
   "execution_count": 80,
   "metadata": {},
   "outputs": [
    {
     "data": {
      "text/html": [
       "<div>\n",
       "<style scoped>\n",
       "    .dataframe tbody tr th:only-of-type {\n",
       "        vertical-align: middle;\n",
       "    }\n",
       "\n",
       "    .dataframe tbody tr th {\n",
       "        vertical-align: top;\n",
       "    }\n",
       "\n",
       "    .dataframe thead th {\n",
       "        text-align: right;\n",
       "    }\n",
       "</style>\n",
       "<table border=\"1\" class=\"dataframe\">\n",
       "  <thead>\n",
       "    <tr style=\"text-align: right;\">\n",
       "      <th></th>\n",
       "      <th>value</th>\n",
       "      <th>last_value</th>\n",
       "      <th>log_ret</th>\n",
       "      <th>log_ret(%)</th>\n",
       "      <th>pred_log_ret</th>\n",
       "      <th>hist_pred_vol</th>\n",
       "      <th>ARCH(3)_pred_vol</th>\n",
       "      <th>GARCH(3,10)_pred_vol</th>\n",
       "      <th>hist_pred_vol likelihood</th>\n",
       "      <th>hist_pred_vol log-likelihood</th>\n",
       "      <th>ARCH(3)_pred_vol likelihood</th>\n",
       "      <th>ARCH(3)_pred_vol log-likelihood</th>\n",
       "      <th>GARCH(3,10)_pred_vol likelihood</th>\n",
       "      <th>GARCH(3,10)_pred_vol log-likelihood</th>\n",
       "      <th>ARCH(4)_pred_vol</th>\n",
       "      <th>GARCH(4,4)_pred_vol</th>\n",
       "    </tr>\n",
       "    <tr>\n",
       "      <th>date</th>\n",
       "      <th></th>\n",
       "      <th></th>\n",
       "      <th></th>\n",
       "      <th></th>\n",
       "      <th></th>\n",
       "      <th></th>\n",
       "      <th></th>\n",
       "      <th></th>\n",
       "      <th></th>\n",
       "      <th></th>\n",
       "      <th></th>\n",
       "      <th></th>\n",
       "      <th></th>\n",
       "      <th></th>\n",
       "      <th></th>\n",
       "      <th></th>\n",
       "    </tr>\n",
       "  </thead>\n",
       "  <tbody>\n",
       "    <tr>\n",
       "      <th>2007/10/12</th>\n",
       "      <td>6.46</td>\n",
       "      <td>6.85</td>\n",
       "      <td>-0.058619</td>\n",
       "      <td>-5.861933</td>\n",
       "      <td>0.000000</td>\n",
       "      <td>NaN</td>\n",
       "      <td>0.000000</td>\n",
       "      <td>0.000000</td>\n",
       "      <td>NaN</td>\n",
       "      <td>NaN</td>\n",
       "      <td>NaN</td>\n",
       "      <td>NaN</td>\n",
       "      <td>NaN</td>\n",
       "      <td>NaN</td>\n",
       "      <td>0.000000</td>\n",
       "      <td>0.000000</td>\n",
       "    </tr>\n",
       "    <tr>\n",
       "      <th>2007/10/15</th>\n",
       "      <td>7.09</td>\n",
       "      <td>6.46</td>\n",
       "      <td>0.093056</td>\n",
       "      <td>9.305602</td>\n",
       "      <td>0.000000</td>\n",
       "      <td>NaN</td>\n",
       "      <td>0.000000</td>\n",
       "      <td>0.000000</td>\n",
       "      <td>NaN</td>\n",
       "      <td>NaN</td>\n",
       "      <td>NaN</td>\n",
       "      <td>NaN</td>\n",
       "      <td>NaN</td>\n",
       "      <td>NaN</td>\n",
       "      <td>0.000000</td>\n",
       "      <td>0.000000</td>\n",
       "    </tr>\n",
       "    <tr>\n",
       "      <th>2007/10/16</th>\n",
       "      <td>7.29</td>\n",
       "      <td>7.09</td>\n",
       "      <td>0.027818</td>\n",
       "      <td>2.781821</td>\n",
       "      <td>0.000000</td>\n",
       "      <td>NaN</td>\n",
       "      <td>0.000000</td>\n",
       "      <td>0.000000</td>\n",
       "      <td>NaN</td>\n",
       "      <td>NaN</td>\n",
       "      <td>NaN</td>\n",
       "      <td>NaN</td>\n",
       "      <td>NaN</td>\n",
       "      <td>NaN</td>\n",
       "      <td>0.000000</td>\n",
       "      <td>0.000000</td>\n",
       "    </tr>\n",
       "    <tr>\n",
       "      <th>2007/10/17</th>\n",
       "      <td>7.12</td>\n",
       "      <td>7.29</td>\n",
       "      <td>-0.023596</td>\n",
       "      <td>-2.359582</td>\n",
       "      <td>0.000000</td>\n",
       "      <td>NaN</td>\n",
       "      <td>0.093056</td>\n",
       "      <td>0.000000</td>\n",
       "      <td>NaN</td>\n",
       "      <td>NaN</td>\n",
       "      <td>4.151490</td>\n",
       "      <td>1.423467</td>\n",
       "      <td>NaN</td>\n",
       "      <td>NaN</td>\n",
       "      <td>0.000000</td>\n",
       "      <td>0.000000</td>\n",
       "    </tr>\n",
       "    <tr>\n",
       "      <th>2007/10/18</th>\n",
       "      <td>7.11</td>\n",
       "      <td>7.12</td>\n",
       "      <td>-0.001405</td>\n",
       "      <td>-0.140548</td>\n",
       "      <td>0.000000</td>\n",
       "      <td>NaN</td>\n",
       "      <td>0.063256</td>\n",
       "      <td>0.000000</td>\n",
       "      <td>NaN</td>\n",
       "      <td>NaN</td>\n",
       "      <td>6.305218</td>\n",
       "      <td>1.841378</td>\n",
       "      <td>NaN</td>\n",
       "      <td>NaN</td>\n",
       "      <td>0.063247</td>\n",
       "      <td>0.038264</td>\n",
       "    </tr>\n",
       "    <tr>\n",
       "      <th>...</th>\n",
       "      <td>...</td>\n",
       "      <td>...</td>\n",
       "      <td>...</td>\n",
       "      <td>...</td>\n",
       "      <td>...</td>\n",
       "      <td>...</td>\n",
       "      <td>...</td>\n",
       "      <td>...</td>\n",
       "      <td>...</td>\n",
       "      <td>...</td>\n",
       "      <td>...</td>\n",
       "      <td>...</td>\n",
       "      <td>...</td>\n",
       "      <td>...</td>\n",
       "      <td>...</td>\n",
       "      <td>...</td>\n",
       "    </tr>\n",
       "    <tr>\n",
       "      <th>2020/9/30</th>\n",
       "      <td>1.66</td>\n",
       "      <td>1.74</td>\n",
       "      <td>-0.047068</td>\n",
       "      <td>-4.706751</td>\n",
       "      <td>-0.028604</td>\n",
       "      <td>0.105958</td>\n",
       "      <td>0.040342</td>\n",
       "      <td>0.097278</td>\n",
       "      <td>3.411375</td>\n",
       "      <td>1.227116</td>\n",
       "      <td>5.006902</td>\n",
       "      <td>1.610817</td>\n",
       "      <td>3.648033</td>\n",
       "      <td>1.294188</td>\n",
       "      <td>0.059968</td>\n",
       "      <td>0.101287</td>\n",
       "    </tr>\n",
       "    <tr>\n",
       "      <th>2020/10/1</th>\n",
       "      <td>1.60</td>\n",
       "      <td>1.66</td>\n",
       "      <td>-0.036814</td>\n",
       "      <td>-3.681397</td>\n",
       "      <td>-0.003955</td>\n",
       "      <td>0.105621</td>\n",
       "      <td>0.044795</td>\n",
       "      <td>0.089784</td>\n",
       "      <td>3.554495</td>\n",
       "      <td>1.268213</td>\n",
       "      <td>6.353554</td>\n",
       "      <td>1.849014</td>\n",
       "      <td>4.085106</td>\n",
       "      <td>1.407348</td>\n",
       "      <td>0.040872</td>\n",
       "      <td>0.090633</td>\n",
       "    </tr>\n",
       "    <tr>\n",
       "      <th>2020/10/2</th>\n",
       "      <td>1.41</td>\n",
       "      <td>1.60</td>\n",
       "      <td>-0.126414</td>\n",
       "      <td>-12.641392</td>\n",
       "      <td>0.017704</td>\n",
       "      <td>0.105621</td>\n",
       "      <td>0.044052</td>\n",
       "      <td>0.083388</td>\n",
       "      <td>1.845439</td>\n",
       "      <td>0.612717</td>\n",
       "      <td>0.147481</td>\n",
       "      <td>-1.914058</td>\n",
       "      <td>1.516232</td>\n",
       "      <td>0.416228</td>\n",
       "      <td>0.042611</td>\n",
       "      <td>0.081664</td>\n",
       "    </tr>\n",
       "    <tr>\n",
       "      <th>2020/10/5</th>\n",
       "      <td>1.92</td>\n",
       "      <td>1.41</td>\n",
       "      <td>0.308735</td>\n",
       "      <td>30.873548</td>\n",
       "      <td>0.026868</td>\n",
       "      <td>0.107347</td>\n",
       "      <td>0.073053</td>\n",
       "      <td>0.095803</td>\n",
       "      <td>0.059421</td>\n",
       "      <td>-2.823114</td>\n",
       "      <td>0.000723</td>\n",
       "      <td>-7.232573</td>\n",
       "      <td>0.023144</td>\n",
       "      <td>-3.766041</td>\n",
       "      <td>0.073478</td>\n",
       "      <td>0.094280</td>\n",
       "    </tr>\n",
       "    <tr>\n",
       "      <th>2020/10/6</th>\n",
       "      <td>1.86</td>\n",
       "      <td>1.92</td>\n",
       "      <td>-0.031749</td>\n",
       "      <td>-3.174870</td>\n",
       "      <td>0.055335</td>\n",
       "      <td>0.132908</td>\n",
       "      <td>0.170953</td>\n",
       "      <td>0.167888</td>\n",
       "      <td>2.917220</td>\n",
       "      <td>1.070631</td>\n",
       "      <td>2.293735</td>\n",
       "      <td>0.830182</td>\n",
       "      <td>2.334125</td>\n",
       "      <td>0.847637</td>\n",
       "      <td>0.166068</td>\n",
       "      <td>0.161310</td>\n",
       "    </tr>\n",
       "  </tbody>\n",
       "</table>\n",
       "<p>3292 rows × 16 columns</p>\n",
       "</div>"
      ],
      "text/plain": [
       "            value  last_value   log_ret  log_ret(%)  pred_log_ret  \\\n",
       "date                                                                \n",
       "2007/10/12   6.46        6.85 -0.058619   -5.861933      0.000000   \n",
       "2007/10/15   7.09        6.46  0.093056    9.305602      0.000000   \n",
       "2007/10/16   7.29        7.09  0.027818    2.781821      0.000000   \n",
       "2007/10/17   7.12        7.29 -0.023596   -2.359582      0.000000   \n",
       "2007/10/18   7.11        7.12 -0.001405   -0.140548      0.000000   \n",
       "...           ...         ...       ...         ...           ...   \n",
       "2020/9/30    1.66        1.74 -0.047068   -4.706751     -0.028604   \n",
       "2020/10/1    1.60        1.66 -0.036814   -3.681397     -0.003955   \n",
       "2020/10/2    1.41        1.60 -0.126414  -12.641392      0.017704   \n",
       "2020/10/5    1.92        1.41  0.308735   30.873548      0.026868   \n",
       "2020/10/6    1.86        1.92 -0.031749   -3.174870      0.055335   \n",
       "\n",
       "            hist_pred_vol  ARCH(3)_pred_vol  GARCH(3,10)_pred_vol  \\\n",
       "date                                                                \n",
       "2007/10/12            NaN          0.000000              0.000000   \n",
       "2007/10/15            NaN          0.000000              0.000000   \n",
       "2007/10/16            NaN          0.000000              0.000000   \n",
       "2007/10/17            NaN          0.093056              0.000000   \n",
       "2007/10/18            NaN          0.063256              0.000000   \n",
       "...                   ...               ...                   ...   \n",
       "2020/9/30        0.105958          0.040342              0.097278   \n",
       "2020/10/1        0.105621          0.044795              0.089784   \n",
       "2020/10/2        0.105621          0.044052              0.083388   \n",
       "2020/10/5        0.107347          0.073053              0.095803   \n",
       "2020/10/6        0.132908          0.170953              0.167888   \n",
       "\n",
       "            hist_pred_vol likelihood  hist_pred_vol log-likelihood  \\\n",
       "date                                                                 \n",
       "2007/10/12                       NaN                           NaN   \n",
       "2007/10/15                       NaN                           NaN   \n",
       "2007/10/16                       NaN                           NaN   \n",
       "2007/10/17                       NaN                           NaN   \n",
       "2007/10/18                       NaN                           NaN   \n",
       "...                              ...                           ...   \n",
       "2020/9/30                   3.411375                      1.227116   \n",
       "2020/10/1                   3.554495                      1.268213   \n",
       "2020/10/2                   1.845439                      0.612717   \n",
       "2020/10/5                   0.059421                     -2.823114   \n",
       "2020/10/6                   2.917220                      1.070631   \n",
       "\n",
       "            ARCH(3)_pred_vol likelihood  ARCH(3)_pred_vol log-likelihood  \\\n",
       "date                                                                       \n",
       "2007/10/12                          NaN                              NaN   \n",
       "2007/10/15                          NaN                              NaN   \n",
       "2007/10/16                          NaN                              NaN   \n",
       "2007/10/17                     4.151490                         1.423467   \n",
       "2007/10/18                     6.305218                         1.841378   \n",
       "...                                 ...                              ...   \n",
       "2020/9/30                      5.006902                         1.610817   \n",
       "2020/10/1                      6.353554                         1.849014   \n",
       "2020/10/2                      0.147481                        -1.914058   \n",
       "2020/10/5                      0.000723                        -7.232573   \n",
       "2020/10/6                      2.293735                         0.830182   \n",
       "\n",
       "            GARCH(3,10)_pred_vol likelihood  \\\n",
       "date                                          \n",
       "2007/10/12                              NaN   \n",
       "2007/10/15                              NaN   \n",
       "2007/10/16                              NaN   \n",
       "2007/10/17                              NaN   \n",
       "2007/10/18                              NaN   \n",
       "...                                     ...   \n",
       "2020/9/30                          3.648033   \n",
       "2020/10/1                          4.085106   \n",
       "2020/10/2                          1.516232   \n",
       "2020/10/5                          0.023144   \n",
       "2020/10/6                          2.334125   \n",
       "\n",
       "            GARCH(3,10)_pred_vol log-likelihood  ARCH(4)_pred_vol  \\\n",
       "date                                                                \n",
       "2007/10/12                                  NaN          0.000000   \n",
       "2007/10/15                                  NaN          0.000000   \n",
       "2007/10/16                                  NaN          0.000000   \n",
       "2007/10/17                                  NaN          0.000000   \n",
       "2007/10/18                                  NaN          0.063247   \n",
       "...                                         ...               ...   \n",
       "2020/9/30                              1.294188          0.059968   \n",
       "2020/10/1                              1.407348          0.040872   \n",
       "2020/10/2                              0.416228          0.042611   \n",
       "2020/10/5                             -3.766041          0.073478   \n",
       "2020/10/6                              0.847637          0.166068   \n",
       "\n",
       "            GARCH(4,4)_pred_vol  \n",
       "date                             \n",
       "2007/10/12             0.000000  \n",
       "2007/10/15             0.000000  \n",
       "2007/10/16             0.000000  \n",
       "2007/10/17             0.000000  \n",
       "2007/10/18             0.038264  \n",
       "...                         ...  \n",
       "2020/9/30              0.101287  \n",
       "2020/10/1              0.090633  \n",
       "2020/10/2              0.081664  \n",
       "2020/10/5              0.094280  \n",
       "2020/10/6              0.161310  \n",
       "\n",
       "[3292 rows x 16 columns]"
      ]
     },
     "execution_count": 80,
     "metadata": {},
     "output_type": "execute_result"
    }
   ],
   "source": [
    "df"
   ]
  },
  {
   "cell_type": "code",
   "execution_count": 103,
   "metadata": {},
   "outputs": [
    {
     "data": {
      "image/png": "[encoded data removed]",
      "text/plain": [
       "<Figure size 432x288 with 1 Axes>"
      ]
     },
     "metadata": {
      "needs_background": "light"
     },
     "output_type": "display_data"
    }
   ],
   "source": [
    "plt.plot(df['hist_pred_vol'].values[15:],label='Historical Rolling-Window Forecast')\n",
    "plt.plot(df['ARCH(4)_pred_vol'].values[15:],label='ARCH(4) Forecast')\n",
    "plt.plot(df['GARCH(4,4)_pred_vol'].values[15:],label='GARCH(4,4) Forecast')\n",
    "plt.legend()\n",
    "plt.title(\"Historical vs. ARCH(4) vs. GARCH(4,4)\")\n",
    "plt.show()"
   ]
  },
  {
   "cell_type": "code",
   "execution_count": 82,
   "metadata": {},
   "outputs": [],
   "source": [
    "#Compute likelihood and log-likelihood of predictions on each trading day\n",
    "df[\"ARCH(4)_pred_vol likelihood\"] = norm.pdf(df[\"log_ret\"],loc=0,scale=df[\"ARCH(4)_pred_vol\"])\n",
    "df[\"ARCH(4)_pred_vol log-likelihood\"] = np.log(df[\"ARCH(4)_pred_vol likelihood\"])\n",
    "df[\"GARCH(4,4)_pred_vol likelihood\"] = norm.pdf(df[\"log_ret\"],loc=0,scale=df[\"GARCH(4,4)_pred_vol\"])\n",
    "df[\"GARCH(4,4)_pred_vol log-likelihood\"] = np.log(df[\"GARCH(4,4)_pred_vol likelihood\"])"
   ]
  },
  {
   "cell_type": "code",
   "execution_count": 101,
   "metadata": {},
   "outputs": [
    {
     "name": "stdout",
     "output_type": "stream",
     "text": [
      "Total historical log-likelihood:  6278.757673557446\n",
      "Total ARCH(4) log-likelihood:  6338.600532366385\n",
      "Total GARCH(4,4) log-likelihood:  6398.387027598104\n"
     ]
    }
   ],
   "source": [
    "#Compute models' joint log-likelihood\n",
    "print(\"Total historical log-likelihood: \",df[\"hist_pred_vol log-likelihood\"][15:].sum())\n",
    "print(\"Total ARCH(4) log-likelihood: \",df[\"ARCH(4)_pred_vol log-likelihood\"][15:].sum())\n",
    "print(\"Total GARCH(4,4) log-likelihood: \", df[\"GARCH(4,4)_pred_vol log-likelihood\"][15:].sum())"
   ]
  },
  {
   "cell_type": "code",
   "execution_count": 84,
   "metadata": {},
   "outputs": [
    {
     "name": "stdout",
     "output_type": "stream",
     "text": [
      "Log-likelihood of ARCH(4) is 0.95% higher than that of historical model\n",
      "Log-likelihood of GARCH(4,4) is 1.9% higher than that of historical model\n"
     ]
    }
   ],
   "source": [
    "#Model Performance Comparison\n",
    "print(\"Log-likelihood of ARCH(4) is {:.2}% higher than that of historical model\".format((df[\"ARCH(4)_pred_vol log-likelihood\"][15:].sum()/df[\"hist_pred_vol log-likelihood\"][15:].sum()-1)*100))\n",
    "print(\"Log-likelihood of GARCH(4,4) is {:.2}% higher than that of historical model\".format((df[\"GARCH(4,4)_pred_vol log-likelihood\"][15:].sum()/df[\"hist_pred_vol log-likelihood\"][15:].sum()-1)*100))"
   ]
  },
  {
   "cell_type": "code",
   "execution_count": 85,
   "metadata": {},
   "outputs": [
    {
     "data": {
      "image/png": "[encoded data removed]",
      "text/plain": [
       "<Figure size 432x288 with 1 Axes>"
      ]
     },
     "metadata": {
      "needs_background": "light"
     },
     "output_type": "display_data"
    }
   ],
   "source": [
    "plt.plot(df['ARCH(4)_pred_vol log-likelihood'][15:].values-df['hist_pred_vol log-likelihood'][15:].values)\n",
    "plt.title(\"Log-Likelihood ARCH(4) Higher than Historical\")\n",
    "plt.show()"
   ]
  },
  {
   "cell_type": "code",
   "execution_count": 86,
   "metadata": {},
   "outputs": [
    {
     "data": {
      "image/png": "[encoded data removed]",
      "text/plain": [
       "<Figure size 432x288 with 1 Axes>"
      ]
     },
     "metadata": {
      "needs_background": "light"
     },
     "output_type": "display_data"
    }
   ],
   "source": [
    "plt.plot(df['GARCH(4,4)_pred_vol log-likelihood'][15:].values-df['hist_pred_vol log-likelihood'][15:].values)\n",
    "plt.title(\"Log-Likelihood GARCH(4,4) Higher than Historical\")\n",
    "plt.show()"
   ]
  },
  {
   "cell_type": "markdown",
   "metadata": {},
   "source": [
    "**Conclusion:** ARCH(4) model outperforms the historical volatility model by 0.95% in log-likelihood and GARCH(4,4) model beats the historical volatility model by 1.9% in log-likelihood. By comparing the graphs above, we could observe that the shape of ARCH(4) and GARCH(4,4) is pretty similar, while GARCH(4,4) performs better by not making extremely bad predictions."
   ]
  },
  {
   "cell_type": "markdown",
   "metadata": {},
   "source": [
    "# (11) ARCH(1) and GARCH(1,1) in Volatility Forecasting"
   ]
  },
  {
   "cell_type": "code",
   "execution_count": 87,
   "metadata": {},
   "outputs": [
    {
     "data": {
      "image/png": "[encoded data removed]",
      "text/plain": [
       "<Figure size 432x288 with 1 Axes>"
      ]
     },
     "metadata": {
      "needs_background": "light"
     },
     "output_type": "display_data"
    }
   ],
   "source": [
    "#ACF plot for log return\n",
    "plot_acf(df['log_ret'])\n",
    "plt.show()"
   ]
  },
  {
   "cell_type": "code",
   "execution_count": 88,
   "metadata": {},
   "outputs": [
    {
     "data": {
      "image/png": "[encoded data removed]",
      "text/plain": [
       "<Figure size 432x288 with 1 Axes>"
      ]
     },
     "metadata": {
      "needs_background": "light"
     },
     "output_type": "display_data"
    }
   ],
   "source": [
    "#PACF plot for log return\n",
    "plot_pacf(df['log_ret'])\n",
    "plt.show()"
   ]
  },
  {
   "cell_type": "code",
   "execution_count": 89,
   "metadata": {},
   "outputs": [],
   "source": [
    "#ARCH(1) Model\n",
    "arch_1 = np.zeros(len(df))\n",
    "model = arch_model(df['log_ret(%)'], mean='Zero', vol='ARCH', p=1)\n",
    "for i in range(1,len(df)):\n",
    "    end = i\n",
    "    model_fit = model.fit(last_obs=end,disp='off')\n",
    "    yhat = model_fit.forecast(horizon=1)\n",
    "    arch_1[i] = yhat.variance.iloc[i-1,0]\n",
    "df['ARCH(1)_pred_vol'] = np.sqrt(arch_1)/100"
   ]
  },
  {
   "cell_type": "code",
   "execution_count": 90,
   "metadata": {},
   "outputs": [],
   "source": [
    "#GARCH(1,1) Model\n",
    "garch_1 = np.zeros(len(df))\n",
    "model = arch_model(df['log_ret(%)'], mean='Zero', vol='GARCH', p=1, q=1)\n",
    "for i in range(1,len(df)):\n",
    "    end = i\n",
    "    model_fit = model.fit(last_obs=end,disp='off')\n",
    "    yhat = model_fit.forecast(horizon=1)\n",
    "    garch_1[i] = yhat.variance.iloc[i-1,0]\n",
    "df['GARCH(1,1)_pred_vol'] = np.sqrt(garch_1)/100"
   ]
  },
  {
   "cell_type": "code",
   "execution_count": 91,
   "metadata": {},
   "outputs": [
    {
     "data": {
      "text/html": [
       "<div>\n",
       "<style scoped>\n",
       "    .dataframe tbody tr th:only-of-type {\n",
       "        vertical-align: middle;\n",
       "    }\n",
       "\n",
       "    .dataframe tbody tr th {\n",
       "        vertical-align: top;\n",
       "    }\n",
       "\n",
       "    .dataframe thead th {\n",
       "        text-align: right;\n",
       "    }\n",
       "</style>\n",
       "<table border=\"1\" class=\"dataframe\">\n",
       "  <thead>\n",
       "    <tr style=\"text-align: right;\">\n",
       "      <th></th>\n",
       "      <th>value</th>\n",
       "      <th>last_value</th>\n",
       "      <th>log_ret</th>\n",
       "      <th>log_ret(%)</th>\n",
       "      <th>pred_log_ret</th>\n",
       "      <th>hist_pred_vol</th>\n",
       "      <th>ARCH(3)_pred_vol</th>\n",
       "      <th>GARCH(3,10)_pred_vol</th>\n",
       "      <th>hist_pred_vol likelihood</th>\n",
       "      <th>hist_pred_vol log-likelihood</th>\n",
       "      <th>...</th>\n",
       "      <th>GARCH(3,10)_pred_vol likelihood</th>\n",
       "      <th>GARCH(3,10)_pred_vol log-likelihood</th>\n",
       "      <th>ARCH(4)_pred_vol</th>\n",
       "      <th>GARCH(4,4)_pred_vol</th>\n",
       "      <th>ARCH(4)_pred_vol likelihood</th>\n",
       "      <th>ARCH(4)_pred_vol log-likelihood</th>\n",
       "      <th>GARCH(4,4)_pred_vol likelihood</th>\n",
       "      <th>GARCH(4,4)_pred_vol log-likelihood</th>\n",
       "      <th>ARCH(1)_pred_vol</th>\n",
       "      <th>GARCH(1,1)_pred_vol</th>\n",
       "    </tr>\n",
       "    <tr>\n",
       "      <th>date</th>\n",
       "      <th></th>\n",
       "      <th></th>\n",
       "      <th></th>\n",
       "      <th></th>\n",
       "      <th></th>\n",
       "      <th></th>\n",
       "      <th></th>\n",
       "      <th></th>\n",
       "      <th></th>\n",
       "      <th></th>\n",
       "      <th></th>\n",
       "      <th></th>\n",
       "      <th></th>\n",
       "      <th></th>\n",
       "      <th></th>\n",
       "      <th></th>\n",
       "      <th></th>\n",
       "      <th></th>\n",
       "      <th></th>\n",
       "      <th></th>\n",
       "      <th></th>\n",
       "    </tr>\n",
       "  </thead>\n",
       "  <tbody>\n",
       "    <tr>\n",
       "      <th>2007/10/12</th>\n",
       "      <td>6.46</td>\n",
       "      <td>6.85</td>\n",
       "      <td>-0.058619</td>\n",
       "      <td>-5.861933</td>\n",
       "      <td>0.000000</td>\n",
       "      <td>NaN</td>\n",
       "      <td>0.000000</td>\n",
       "      <td>0.000000</td>\n",
       "      <td>NaN</td>\n",
       "      <td>NaN</td>\n",
       "      <td>...</td>\n",
       "      <td>NaN</td>\n",
       "      <td>NaN</td>\n",
       "      <td>0.000000</td>\n",
       "      <td>0.000000</td>\n",
       "      <td>NaN</td>\n",
       "      <td>NaN</td>\n",
       "      <td>NaN</td>\n",
       "      <td>NaN</td>\n",
       "      <td>0.000000</td>\n",
       "      <td>0.000000</td>\n",
       "    </tr>\n",
       "    <tr>\n",
       "      <th>2007/10/15</th>\n",
       "      <td>7.09</td>\n",
       "      <td>6.46</td>\n",
       "      <td>0.093056</td>\n",
       "      <td>9.305602</td>\n",
       "      <td>0.000000</td>\n",
       "      <td>NaN</td>\n",
       "      <td>0.000000</td>\n",
       "      <td>0.000000</td>\n",
       "      <td>NaN</td>\n",
       "      <td>NaN</td>\n",
       "      <td>...</td>\n",
       "      <td>NaN</td>\n",
       "      <td>NaN</td>\n",
       "      <td>0.000000</td>\n",
       "      <td>0.000000</td>\n",
       "      <td>NaN</td>\n",
       "      <td>NaN</td>\n",
       "      <td>NaN</td>\n",
       "      <td>NaN</td>\n",
       "      <td>0.058604</td>\n",
       "      <td>0.058619</td>\n",
       "    </tr>\n",
       "    <tr>\n",
       "      <th>2007/10/16</th>\n",
       "      <td>7.29</td>\n",
       "      <td>7.09</td>\n",
       "      <td>0.027818</td>\n",
       "      <td>2.781821</td>\n",
       "      <td>0.000000</td>\n",
       "      <td>NaN</td>\n",
       "      <td>0.000000</td>\n",
       "      <td>0.000000</td>\n",
       "      <td>NaN</td>\n",
       "      <td>NaN</td>\n",
       "      <td>...</td>\n",
       "      <td>NaN</td>\n",
       "      <td>NaN</td>\n",
       "      <td>0.000000</td>\n",
       "      <td>0.000000</td>\n",
       "      <td>NaN</td>\n",
       "      <td>NaN</td>\n",
       "      <td>NaN</td>\n",
       "      <td>NaN</td>\n",
       "      <td>0.077766</td>\n",
       "      <td>0.082689</td>\n",
       "    </tr>\n",
       "    <tr>\n",
       "      <th>2007/10/17</th>\n",
       "      <td>7.12</td>\n",
       "      <td>7.29</td>\n",
       "      <td>-0.023596</td>\n",
       "      <td>-2.359582</td>\n",
       "      <td>0.000000</td>\n",
       "      <td>NaN</td>\n",
       "      <td>0.093056</td>\n",
       "      <td>0.000000</td>\n",
       "      <td>NaN</td>\n",
       "      <td>NaN</td>\n",
       "      <td>...</td>\n",
       "      <td>NaN</td>\n",
       "      <td>NaN</td>\n",
       "      <td>0.000000</td>\n",
       "      <td>0.000000</td>\n",
       "      <td>NaN</td>\n",
       "      <td>NaN</td>\n",
       "      <td>NaN</td>\n",
       "      <td>NaN</td>\n",
       "      <td>0.065496</td>\n",
       "      <td>0.062862</td>\n",
       "    </tr>\n",
       "    <tr>\n",
       "      <th>2007/10/18</th>\n",
       "      <td>7.11</td>\n",
       "      <td>7.12</td>\n",
       "      <td>-0.001405</td>\n",
       "      <td>-0.140548</td>\n",
       "      <td>0.000000</td>\n",
       "      <td>NaN</td>\n",
       "      <td>0.063256</td>\n",
       "      <td>0.000000</td>\n",
       "      <td>NaN</td>\n",
       "      <td>NaN</td>\n",
       "      <td>...</td>\n",
       "      <td>NaN</td>\n",
       "      <td>NaN</td>\n",
       "      <td>0.063247</td>\n",
       "      <td>0.038264</td>\n",
       "      <td>6.306103</td>\n",
       "      <td>1.841518</td>\n",
       "      <td>10.418961</td>\n",
       "      <td>2.343627</td>\n",
       "      <td>0.023596</td>\n",
       "      <td>0.040885</td>\n",
       "    </tr>\n",
       "    <tr>\n",
       "      <th>...</th>\n",
       "      <td>...</td>\n",
       "      <td>...</td>\n",
       "      <td>...</td>\n",
       "      <td>...</td>\n",
       "      <td>...</td>\n",
       "      <td>...</td>\n",
       "      <td>...</td>\n",
       "      <td>...</td>\n",
       "      <td>...</td>\n",
       "      <td>...</td>\n",
       "      <td>...</td>\n",
       "      <td>...</td>\n",
       "      <td>...</td>\n",
       "      <td>...</td>\n",
       "      <td>...</td>\n",
       "      <td>...</td>\n",
       "      <td>...</td>\n",
       "      <td>...</td>\n",
       "      <td>...</td>\n",
       "      <td>...</td>\n",
       "      <td>...</td>\n",
       "    </tr>\n",
       "    <tr>\n",
       "      <th>2020/9/30</th>\n",
       "      <td>1.66</td>\n",
       "      <td>1.74</td>\n",
       "      <td>-0.047068</td>\n",
       "      <td>-4.706751</td>\n",
       "      <td>-0.028604</td>\n",
       "      <td>0.105958</td>\n",
       "      <td>0.040342</td>\n",
       "      <td>0.097278</td>\n",
       "      <td>3.411375</td>\n",
       "      <td>1.227116</td>\n",
       "      <td>...</td>\n",
       "      <td>3.648033</td>\n",
       "      <td>1.294188</td>\n",
       "      <td>0.059968</td>\n",
       "      <td>0.101287</td>\n",
       "      <td>4.889008</td>\n",
       "      <td>1.586989</td>\n",
       "      <td>3.535627</td>\n",
       "      <td>1.262891</td>\n",
       "      <td>0.044897</td>\n",
       "      <td>0.097044</td>\n",
       "    </tr>\n",
       "    <tr>\n",
       "      <th>2020/10/1</th>\n",
       "      <td>1.60</td>\n",
       "      <td>1.66</td>\n",
       "      <td>-0.036814</td>\n",
       "      <td>-3.681397</td>\n",
       "      <td>-0.003955</td>\n",
       "      <td>0.105621</td>\n",
       "      <td>0.044795</td>\n",
       "      <td>0.089784</td>\n",
       "      <td>3.554495</td>\n",
       "      <td>1.268213</td>\n",
       "      <td>...</td>\n",
       "      <td>4.085106</td>\n",
       "      <td>1.407348</td>\n",
       "      <td>0.040872</td>\n",
       "      <td>0.090633</td>\n",
       "      <td>6.506025</td>\n",
       "      <td>1.872729</td>\n",
       "      <td>4.053188</td>\n",
       "      <td>1.399504</td>\n",
       "      <td>0.043550</td>\n",
       "      <td>0.089916</td>\n",
       "    </tr>\n",
       "    <tr>\n",
       "      <th>2020/10/2</th>\n",
       "      <td>1.41</td>\n",
       "      <td>1.60</td>\n",
       "      <td>-0.126414</td>\n",
       "      <td>-12.641392</td>\n",
       "      <td>0.017704</td>\n",
       "      <td>0.105621</td>\n",
       "      <td>0.044052</td>\n",
       "      <td>0.083388</td>\n",
       "      <td>1.845439</td>\n",
       "      <td>0.612717</td>\n",
       "      <td>...</td>\n",
       "      <td>1.516232</td>\n",
       "      <td>0.416228</td>\n",
       "      <td>0.042611</td>\n",
       "      <td>0.081664</td>\n",
       "      <td>0.114876</td>\n",
       "      <td>-2.163903</td>\n",
       "      <td>1.474153</td>\n",
       "      <td>0.388084</td>\n",
       "      <td>0.039796</td>\n",
       "      <td>0.082723</td>\n",
       "    </tr>\n",
       "    <tr>\n",
       "      <th>2020/10/5</th>\n",
       "      <td>1.92</td>\n",
       "      <td>1.41</td>\n",
       "      <td>0.308735</td>\n",
       "      <td>30.873548</td>\n",
       "      <td>0.026868</td>\n",
       "      <td>0.107347</td>\n",
       "      <td>0.073053</td>\n",
       "      <td>0.095803</td>\n",
       "      <td>0.059421</td>\n",
       "      <td>-2.823114</td>\n",
       "      <td>...</td>\n",
       "      <td>0.023144</td>\n",
       "      <td>-3.766041</td>\n",
       "      <td>0.073478</td>\n",
       "      <td>0.094280</td>\n",
       "      <td>0.000796</td>\n",
       "      <td>-7.135555</td>\n",
       "      <td>0.019858</td>\n",
       "      <td>-3.919141</td>\n",
       "      <td>0.083312</td>\n",
       "      <td>0.092088</td>\n",
       "    </tr>\n",
       "    <tr>\n",
       "      <th>2020/10/6</th>\n",
       "      <td>1.86</td>\n",
       "      <td>1.92</td>\n",
       "      <td>-0.031749</td>\n",
       "      <td>-3.174870</td>\n",
       "      <td>0.055335</td>\n",
       "      <td>0.132908</td>\n",
       "      <td>0.170953</td>\n",
       "      <td>0.167888</td>\n",
       "      <td>2.917220</td>\n",
       "      <td>1.070631</td>\n",
       "      <td>...</td>\n",
       "      <td>2.334125</td>\n",
       "      <td>0.847637</td>\n",
       "      <td>0.166068</td>\n",
       "      <td>0.161310</td>\n",
       "      <td>2.358783</td>\n",
       "      <td>0.858146</td>\n",
       "      <td>2.425700</td>\n",
       "      <td>0.886120</td>\n",
       "      <td>0.192595</td>\n",
       "      <td>0.155018</td>\n",
       "    </tr>\n",
       "  </tbody>\n",
       "</table>\n",
       "<p>3292 rows × 22 columns</p>\n",
       "</div>"
      ],
      "text/plain": [
       "            value  last_value   log_ret  log_ret(%)  pred_log_ret  \\\n",
       "date                                                                \n",
       "2007/10/12   6.46        6.85 -0.058619   -5.861933      0.000000   \n",
       "2007/10/15   7.09        6.46  0.093056    9.305602      0.000000   \n",
       "2007/10/16   7.29        7.09  0.027818    2.781821      0.000000   \n",
       "2007/10/17   7.12        7.29 -0.023596   -2.359582      0.000000   \n",
       "2007/10/18   7.11        7.12 -0.001405   -0.140548      0.000000   \n",
       "...           ...         ...       ...         ...           ...   \n",
       "2020/9/30    1.66        1.74 -0.047068   -4.706751     -0.028604   \n",
       "2020/10/1    1.60        1.66 -0.036814   -3.681397     -0.003955   \n",
       "2020/10/2    1.41        1.60 -0.126414  -12.641392      0.017704   \n",
       "2020/10/5    1.92        1.41  0.308735   30.873548      0.026868   \n",
       "2020/10/6    1.86        1.92 -0.031749   -3.174870      0.055335   \n",
       "\n",
       "            hist_pred_vol  ARCH(3)_pred_vol  GARCH(3,10)_pred_vol  \\\n",
       "date                                                                \n",
       "2007/10/12            NaN          0.000000              0.000000   \n",
       "2007/10/15            NaN          0.000000              0.000000   \n",
       "2007/10/16            NaN          0.000000              0.000000   \n",
       "2007/10/17            NaN          0.093056              0.000000   \n",
       "2007/10/18            NaN          0.063256              0.000000   \n",
       "...                   ...               ...                   ...   \n",
       "2020/9/30        0.105958          0.040342              0.097278   \n",
       "2020/10/1        0.105621          0.044795              0.089784   \n",
       "2020/10/2        0.105621          0.044052              0.083388   \n",
       "2020/10/5        0.107347          0.073053              0.095803   \n",
       "2020/10/6        0.132908          0.170953              0.167888   \n",
       "\n",
       "            hist_pred_vol likelihood  hist_pred_vol log-likelihood  ...  \\\n",
       "date                                                                ...   \n",
       "2007/10/12                       NaN                           NaN  ...   \n",
       "2007/10/15                       NaN                           NaN  ...   \n",
       "2007/10/16                       NaN                           NaN  ...   \n",
       "2007/10/17                       NaN                           NaN  ...   \n",
       "2007/10/18                       NaN                           NaN  ...   \n",
       "...                              ...                           ...  ...   \n",
       "2020/9/30                   3.411375                      1.227116  ...   \n",
       "2020/10/1                   3.554495                      1.268213  ...   \n",
       "2020/10/2                   1.845439                      0.612717  ...   \n",
       "2020/10/5                   0.059421                     -2.823114  ...   \n",
       "2020/10/6                   2.917220                      1.070631  ...   \n",
       "\n",
       "            GARCH(3,10)_pred_vol likelihood  \\\n",
       "date                                          \n",
       "2007/10/12                              NaN   \n",
       "2007/10/15                              NaN   \n",
       "2007/10/16                              NaN   \n",
       "2007/10/17                              NaN   \n",
       "2007/10/18                              NaN   \n",
       "...                                     ...   \n",
       "2020/9/30                          3.648033   \n",
       "2020/10/1                          4.085106   \n",
       "2020/10/2                          1.516232   \n",
       "2020/10/5                          0.023144   \n",
       "2020/10/6                          2.334125   \n",
       "\n",
       "            GARCH(3,10)_pred_vol log-likelihood  ARCH(4)_pred_vol  \\\n",
       "date                                                                \n",
       "2007/10/12                                  NaN          0.000000   \n",
       "2007/10/15                                  NaN          0.000000   \n",
       "2007/10/16                                  NaN          0.000000   \n",
       "2007/10/17                                  NaN          0.000000   \n",
       "2007/10/18                                  NaN          0.063247   \n",
       "...                                         ...               ...   \n",
       "2020/9/30                              1.294188          0.059968   \n",
       "2020/10/1                              1.407348          0.040872   \n",
       "2020/10/2                              0.416228          0.042611   \n",
       "2020/10/5                             -3.766041          0.073478   \n",
       "2020/10/6                              0.847637          0.166068   \n",
       "\n",
       "            GARCH(4,4)_pred_vol  ARCH(4)_pred_vol likelihood  \\\n",
       "date                                                           \n",
       "2007/10/12             0.000000                          NaN   \n",
       "2007/10/15             0.000000                          NaN   \n",
       "2007/10/16             0.000000                          NaN   \n",
       "2007/10/17             0.000000                          NaN   \n",
       "2007/10/18             0.038264                     6.306103   \n",
       "...                         ...                          ...   \n",
       "2020/9/30              0.101287                     4.889008   \n",
       "2020/10/1              0.090633                     6.506025   \n",
       "2020/10/2              0.081664                     0.114876   \n",
       "2020/10/5              0.094280                     0.000796   \n",
       "2020/10/6              0.161310                     2.358783   \n",
       "\n",
       "            ARCH(4)_pred_vol log-likelihood  GARCH(4,4)_pred_vol likelihood  \\\n",
       "date                                                                          \n",
       "2007/10/12                              NaN                             NaN   \n",
       "2007/10/15                              NaN                             NaN   \n",
       "2007/10/16                              NaN                             NaN   \n",
       "2007/10/17                              NaN                             NaN   \n",
       "2007/10/18                         1.841518                       10.418961   \n",
       "...                                     ...                             ...   \n",
       "2020/9/30                          1.586989                        3.535627   \n",
       "2020/10/1                          1.872729                        4.053188   \n",
       "2020/10/2                         -2.163903                        1.474153   \n",
       "2020/10/5                         -7.135555                        0.019858   \n",
       "2020/10/6                          0.858146                        2.425700   \n",
       "\n",
       "            GARCH(4,4)_pred_vol log-likelihood  ARCH(1)_pred_vol  \\\n",
       "date                                                               \n",
       "2007/10/12                                 NaN          0.000000   \n",
       "2007/10/15                                 NaN          0.058604   \n",
       "2007/10/16                                 NaN          0.077766   \n",
       "2007/10/17                                 NaN          0.065496   \n",
       "2007/10/18                            2.343627          0.023596   \n",
       "...                                        ...               ...   \n",
       "2020/9/30                             1.262891          0.044897   \n",
       "2020/10/1                             1.399504          0.043550   \n",
       "2020/10/2                             0.388084          0.039796   \n",
       "2020/10/5                            -3.919141          0.083312   \n",
       "2020/10/6                             0.886120          0.192595   \n",
       "\n",
       "            GARCH(1,1)_pred_vol  \n",
       "date                             \n",
       "2007/10/12             0.000000  \n",
       "2007/10/15             0.058619  \n",
       "2007/10/16             0.082689  \n",
       "2007/10/17             0.062862  \n",
       "2007/10/18             0.040885  \n",
       "...                         ...  \n",
       "2020/9/30              0.097044  \n",
       "2020/10/1              0.089916  \n",
       "2020/10/2              0.082723  \n",
       "2020/10/5              0.092088  \n",
       "2020/10/6              0.155018  \n",
       "\n",
       "[3292 rows x 22 columns]"
      ]
     },
     "execution_count": 91,
     "metadata": {},
     "output_type": "execute_result"
    }
   ],
   "source": [
    "df"
   ]
  },
  {
   "cell_type": "code",
   "execution_count": 104,
   "metadata": {},
   "outputs": [
    {
     "data": {
      "image/png": "[encoded data removed]",
      "text/plain": [
       "<Figure size 432x288 with 1 Axes>"
      ]
     },
     "metadata": {
      "needs_background": "light"
     },
     "output_type": "display_data"
    }
   ],
   "source": [
    "plt.plot(df['hist_pred_vol'].values[15:],label='Historical Rolling-Window Forecast')\n",
    "plt.plot(df['ARCH(1)_pred_vol'].values[15:],label='ARCH(1) Forecast')\n",
    "plt.plot(df['GARCH(1,1)_pred_vol'].values[15:],label='GARCH(1,1) Forecast')\n",
    "plt.legend()\n",
    "plt.title(\"Historical vs. ARCH(1) vs. GARCH(1,1)\")\n",
    "plt.show()"
   ]
  },
  {
   "cell_type": "code",
   "execution_count": 93,
   "metadata": {},
   "outputs": [],
   "source": [
    "#Compute likelihood and log-likelihood of predictions on each trading day\n",
    "df[\"ARCH(1)_pred_vol likelihood\"] = norm.pdf(df[\"log_ret\"],loc=0,scale=df[\"ARCH(1)_pred_vol\"])\n",
    "df[\"ARCH(1)_pred_vol log-likelihood\"] = np.log(df[\"ARCH(1)_pred_vol likelihood\"])\n",
    "df[\"GARCH(1,1)_pred_vol likelihood\"] = norm.pdf(df[\"log_ret\"],loc=0,scale=df[\"GARCH(1,1)_pred_vol\"])\n",
    "df[\"GARCH(1,1)_pred_vol log-likelihood\"] = np.log(df[\"GARCH(1,1)_pred_vol likelihood\"])"
   ]
  },
  {
   "cell_type": "code",
   "execution_count": 102,
   "metadata": {},
   "outputs": [
    {
     "name": "stdout",
     "output_type": "stream",
     "text": [
      "Total historical log-likelihood:  6278.757673557446\n",
      "Total ARCH(1) log-likelihood:  6046.779742834229\n",
      "Total GARCH(1,1) log-likelihood:  6427.531165755998\n"
     ]
    }
   ],
   "source": [
    "#Compute models' joint log-likelihood\n",
    "print(\"Total historical log-likelihood: \",df[\"hist_pred_vol log-likelihood\"][15:].sum())\n",
    "print(\"Total ARCH(1) log-likelihood: \",df[\"ARCH(1)_pred_vol log-likelihood\"][15:].sum())\n",
    "print(\"Total GARCH(1,1) log-likelihood: \", df[\"GARCH(1,1)_pred_vol log-likelihood\"][15:].sum())"
   ]
  },
  {
   "cell_type": "code",
   "execution_count": 95,
   "metadata": {},
   "outputs": [
    {
     "name": "stdout",
     "output_type": "stream",
     "text": [
      "Log-likelihood of ARCH(1) is -3.7% higher than that of historical model\n",
      "Log-likelihood of GARCH(1,1) is 2.4% higher than that of historical model\n"
     ]
    }
   ],
   "source": [
    "#Model Performance Comparison\n",
    "print(\"Log-likelihood of ARCH(1) is {:.2}% higher than that of historical model\".format((df[\"ARCH(1)_pred_vol log-likelihood\"][15:].sum()/df[\"hist_pred_vol log-likelihood\"][15:].sum()-1)*100))\n",
    "print(\"Log-likelihood of GARCH(1,1) is {:.2}% higher than that of historical model\".format((df[\"GARCH(1,1)_pred_vol log-likelihood\"][15:].sum()/df[\"hist_pred_vol log-likelihood\"][15:].sum()-1)*100))\n"
   ]
  },
  {
   "cell_type": "code",
   "execution_count": 96,
   "metadata": {},
   "outputs": [
    {
     "data": {
      "image/png": "[encoded data removed]",
      "text/plain": [
       "<Figure size 432x288 with 1 Axes>"
      ]
     },
     "metadata": {
      "needs_background": "light"
     },
     "output_type": "display_data"
    }
   ],
   "source": [
    "plt.plot(df['ARCH(1)_pred_vol log-likelihood'][15:].values-df['hist_pred_vol log-likelihood'][15:].values)\n",
    "plt.title(\"Log-Likelihood ARCH(1) Higher than Historical\")\n",
    "plt.show()"
   ]
  },
  {
   "cell_type": "code",
   "execution_count": 97,
   "metadata": {},
   "outputs": [
    {
     "data": {
      "image/png": "[encoded data removed]",
      "text/plain": [
       "<Figure size 432x288 with 1 Axes>"
      ]
     },
     "metadata": {
      "needs_background": "light"
     },
     "output_type": "display_data"
    }
   ],
   "source": [
    "plt.plot(df['GARCH(1,1)_pred_vol log-likelihood'][15:].values-df['hist_pred_vol log-likelihood'][15:].values)\n",
    "plt.title(\"Log-Likelihood GARCH(1,1) Higher than Historical\")\n",
    "plt.show()"
   ]
  },
  {
   "cell_type": "markdown",
   "metadata": {},
   "source": [
    "**Conclusion:** GARCH(1,1) model beats the historical volatility model by 2.4% in log-likelihood, while ARCH(1) model underperforms the historical volatility model by 3.7% in log-likelihood. By directly looking at the graphs above, we could recognize that GARCH(1,1) performs outstandingly at most days, but ARCH(1) makes very bad predictions for the volatilities that linked to the day before."
   ]
  },
  {
   "cell_type": "markdown",
   "metadata": {},
   "source": [
    "# (12) Volatility Forecasting Summary"
   ]
  },
  {
   "cell_type": "code",
   "execution_count": 98,
   "metadata": {},
   "outputs": [
    {
     "data": {
      "text/html": [
       "<div>\n",
       "<style scoped>\n",
       "    .dataframe tbody tr th:only-of-type {\n",
       "        vertical-align: middle;\n",
       "    }\n",
       "\n",
       "    .dataframe tbody tr th {\n",
       "        vertical-align: top;\n",
       "    }\n",
       "\n",
       "    .dataframe thead th {\n",
       "        text-align: right;\n",
       "    }\n",
       "</style>\n",
       "<table border=\"1\" class=\"dataframe\">\n",
       "  <thead>\n",
       "    <tr style=\"text-align: right;\">\n",
       "      <th></th>\n",
       "      <th>ARCH</th>\n",
       "      <th>GARCH</th>\n",
       "    </tr>\n",
       "  </thead>\n",
       "  <tbody>\n",
       "    <tr>\n",
       "      <th>ARCH(3)/GARCH(3,10)</th>\n",
       "      <td>-0.48%</td>\n",
       "      <td>2.0%</td>\n",
       "    </tr>\n",
       "    <tr>\n",
       "      <th>ARCH(4)/GARCH(4,4)</th>\n",
       "      <td>0.95%</td>\n",
       "      <td>1.9%</td>\n",
       "    </tr>\n",
       "    <tr>\n",
       "      <th>ARCH(1)/GARCH(1,1)</th>\n",
       "      <td>-3.7%</td>\n",
       "      <td>2.4%</td>\n",
       "    </tr>\n",
       "  </tbody>\n",
       "</table>\n",
       "</div>"
      ],
      "text/plain": [
       "                       ARCH GARCH\n",
       "ARCH(3)/GARCH(3,10)  -0.48%  2.0%\n",
       "ARCH(4)/GARCH(4,4)    0.95%  1.9%\n",
       "ARCH(1)/GARCH(1,1)    -3.7%  2.4%"
      ]
     },
     "execution_count": 98,
     "metadata": {},
     "output_type": "execute_result"
    }
   ],
   "source": [
    "df_vol=pd.DataFrame({\"ARCH\":[\"{:.2}%\".format((df[\"ARCH(3)_pred_vol log-likelihood\"][15:].sum()/df[\"hist_pred_vol log-likelihood\"][15:].sum()-1)*100),\n",
    "                         \"{:.2}%\".format((df[\"ARCH(4)_pred_vol log-likelihood\"][15:].sum()/df[\"hist_pred_vol log-likelihood\"][15:].sum()-1)*100),\n",
    "                         \"{:.2}%\".format((df[\"ARCH(1)_pred_vol log-likelihood\"][15:].sum()/df[\"hist_pred_vol log-likelihood\"][15:].sum()-1)*100)\n",
    "                        ], \n",
    "                     \"GARCH\":[\"{:.2}%\".format((df[\"GARCH(3,10)_pred_vol log-likelihood\"][15:].sum()/df[\"hist_pred_vol log-likelihood\"][15:].sum()-1)*100),\n",
    "                          \"{:.2}%\".format((df[\"GARCH(4,4)_pred_vol log-likelihood\"][15:].sum()/df[\"hist_pred_vol log-likelihood\"][15:].sum()-1)*100),\n",
    "                          \"{:.2}%\".format((df[\"GARCH(1,1)_pred_vol log-likelihood\"][15:].sum()/df[\"hist_pred_vol log-likelihood\"][15:].sum()-1)*100)\n",
    "                        ]\n",
    "                    })\n",
    "df_vol.index = ['ARCH(3)/GARCH(3,10)', 'ARCH(4)/GARCH(4,4)', 'ARCH(1)/GARCH(1,1)'] \n",
    "df_vol"
   ]
  },
  {
   "cell_type": "markdown",
   "metadata": {},
   "source": [
    "**Conclusion:** GARCH models performs better than ARCH models in general, which indicates that past volatilities do have effects on predicting future volatilities. GARCH(1,1) model performs best out of 6 models, and beats the historical volatility model by 2.4% in log-likelihood."
   ]
  },
  {
   "cell_type": "markdown",
   "metadata": {},
   "source": [
    "# (13) Project Main Conclusions\n",
    "- It is hardly feasible for ARMA to predict returns or prices of commodities due to lack of correlation with past values, and the ARMA prediction is not significantly different than the one simply given by the previous value\n",
    "<br><br>\n",
    "- ARCH with certain orders can outperform the 15-day historical volatility forecasting model, but it is not a general case for other orders\n",
    "<br><br>\n",
    "- GARCH with different orders are all having more accurate volatility forecasting than the 15-day historical volatility forecasting model and the ARCH models. Even though the GARCH model with orders determined from ACF and PACF is good, but the most basic GARCH(1,1) model is the best among the all, matching the empirical evidence discovered by practitioners"
   ]
  }
 ],
 "metadata": {
  "kernelspec": {
   "display_name": "Python 3",
   "language": "python",
   "name": "python3"
  },
  "language_info": {
   "codemirror_mode": {
    "name": "ipython",
    "version": 3
   },
   "file_extension": ".py",
   "mimetype": "text/x-python",
   "name": "python",
   "nbconvert_exporter": "python",
   "pygments_lexer": "ipython3",
   "version": "3.7.9"
  }
 },
 "nbformat": 4,
 "nbformat_minor": 4
}
