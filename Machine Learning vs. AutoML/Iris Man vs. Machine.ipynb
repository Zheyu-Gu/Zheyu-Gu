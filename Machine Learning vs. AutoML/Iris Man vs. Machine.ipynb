{
 "cells": [
  {
   "cell_type": "markdown",
   "metadata": {},
   "source": [
    "# Human-built Machine Learning Ensemble Model\n",
    "### Following machine learning models have been evaluated to construct an ensemble model for prediction:\n",
    "- kNN\n",
    "- Naive Bayes\n",
    "- Logistic Regression\n",
    "- Random Forest\n",
    "- Gradient Boosting Tree\n",
    "- Support Vector Machine\n",
    "- Artificial Neural Networks"
   ]
  },
  {
   "cell_type": "markdown",
   "metadata": {},
   "source": [
    "## (1) Data Overview"
   ]
  },
  {
   "cell_type": "code",
   "execution_count": 1,
   "metadata": {},
   "outputs": [],
   "source": [
    "import warnings\n",
    "warnings.filterwarnings('ignore')\n",
    "\n",
    "import pandas as pd\n",
    "import numpy as np\n",
    "from sklearn.neighbors import KNeighborsClassifier\n",
    "from sklearn.naive_bayes import GaussianNB\n",
    "from sklearn.linear_model import LogisticRegression\n",
    "from sklearn.ensemble import RandomForestClassifier\n",
    "from sklearn.ensemble import GradientBoostingClassifier\n",
    "from sklearn import svm\n",
    "import tensorflow as tf\n",
    "from tensorflow import keras\n",
    "from sklearn.metrics import f1_score\n",
    "from sklearn.model_selection import cross_val_score\n",
    "from sklearn.model_selection import GridSearchCV\n",
    "from sklearn.datasets import load_iris\n",
    "from sklearn.model_selection import train_test_split\n",
    "\n",
    "cfg_col_X = ['sepal length (cm)','sepal width (cm)','petal length (cm)','petal width (cm)']\n",
    "cfg_col_Y = 'target'\n",
    "\n",
    "# Load data\n",
    "iris = load_iris()\n",
    "col_names = iris['feature_names'] + ['target']\n",
    "df = pd.DataFrame(data= np.c_[iris['data'], iris['target']], columns=col_names)\n",
    "\n",
    "# shuffle dataset so that it is not ordered by target\n",
    "df = df.sample(frac=1, random_state=1)"
   ]
  },
  {
   "cell_type": "code",
   "execution_count": 2,
   "metadata": {},
   "outputs": [
    {
     "data": {
      "text/html": [
       "<div>\n",
       "<style scoped>\n",
       "    .dataframe tbody tr th:only-of-type {\n",
       "        vertical-align: middle;\n",
       "    }\n",
       "\n",
       "    .dataframe tbody tr th {\n",
       "        vertical-align: top;\n",
       "    }\n",
       "\n",
       "    .dataframe thead th {\n",
       "        text-align: right;\n",
       "    }\n",
       "</style>\n",
       "<table border=\"1\" class=\"dataframe\">\n",
       "  <thead>\n",
       "    <tr style=\"text-align: right;\">\n",
       "      <th></th>\n",
       "      <th>sepal length (cm)</th>\n",
       "      <th>sepal width (cm)</th>\n",
       "      <th>petal length (cm)</th>\n",
       "      <th>petal width (cm)</th>\n",
       "      <th>target</th>\n",
       "    </tr>\n",
       "  </thead>\n",
       "  <tbody>\n",
       "    <tr>\n",
       "      <td>14</td>\n",
       "      <td>5.8</td>\n",
       "      <td>4.0</td>\n",
       "      <td>1.2</td>\n",
       "      <td>0.2</td>\n",
       "      <td>0.0</td>\n",
       "    </tr>\n",
       "    <tr>\n",
       "      <td>98</td>\n",
       "      <td>5.1</td>\n",
       "      <td>2.5</td>\n",
       "      <td>3.0</td>\n",
       "      <td>1.1</td>\n",
       "      <td>1.0</td>\n",
       "    </tr>\n",
       "    <tr>\n",
       "      <td>75</td>\n",
       "      <td>6.6</td>\n",
       "      <td>3.0</td>\n",
       "      <td>4.4</td>\n",
       "      <td>1.4</td>\n",
       "      <td>1.0</td>\n",
       "    </tr>\n",
       "    <tr>\n",
       "      <td>16</td>\n",
       "      <td>5.4</td>\n",
       "      <td>3.9</td>\n",
       "      <td>1.3</td>\n",
       "      <td>0.4</td>\n",
       "      <td>0.0</td>\n",
       "    </tr>\n",
       "    <tr>\n",
       "      <td>131</td>\n",
       "      <td>7.9</td>\n",
       "      <td>3.8</td>\n",
       "      <td>6.4</td>\n",
       "      <td>2.0</td>\n",
       "      <td>2.0</td>\n",
       "    </tr>\n",
       "  </tbody>\n",
       "</table>\n",
       "</div>"
      ],
      "text/plain": [
       "     sepal length (cm)  sepal width (cm)  petal length (cm)  petal width (cm)  \\\n",
       "14                 5.8               4.0                1.2               0.2   \n",
       "98                 5.1               2.5                3.0               1.1   \n",
       "75                 6.6               3.0                4.4               1.4   \n",
       "16                 5.4               3.9                1.3               0.4   \n",
       "131                7.9               3.8                6.4               2.0   \n",
       "\n",
       "     target  \n",
       "14      0.0  \n",
       "98      1.0  \n",
       "75      1.0  \n",
       "16      0.0  \n",
       "131     2.0  "
      ]
     },
     "execution_count": 2,
     "metadata": {},
     "output_type": "execute_result"
    }
   ],
   "source": [
    "df.head()"
   ]
  },
  {
   "cell_type": "code",
   "execution_count": 3,
   "metadata": {},
   "outputs": [
    {
     "data": {
      "text/html": [
       "<div>\n",
       "<style scoped>\n",
       "    .dataframe tbody tr th:only-of-type {\n",
       "        vertical-align: middle;\n",
       "    }\n",
       "\n",
       "    .dataframe tbody tr th {\n",
       "        vertical-align: top;\n",
       "    }\n",
       "\n",
       "    .dataframe thead th {\n",
       "        text-align: right;\n",
       "    }\n",
       "</style>\n",
       "<table border=\"1\" class=\"dataframe\">\n",
       "  <thead>\n",
       "    <tr style=\"text-align: right;\">\n",
       "      <th></th>\n",
       "      <th>sepal length (cm)</th>\n",
       "      <th>sepal width (cm)</th>\n",
       "      <th>petal length (cm)</th>\n",
       "      <th>petal width (cm)</th>\n",
       "      <th>target</th>\n",
       "    </tr>\n",
       "  </thead>\n",
       "  <tbody>\n",
       "    <tr>\n",
       "      <td>count</td>\n",
       "      <td>150.00</td>\n",
       "      <td>150.00</td>\n",
       "      <td>150.00</td>\n",
       "      <td>150.00</td>\n",
       "      <td>150.00</td>\n",
       "    </tr>\n",
       "    <tr>\n",
       "      <td>mean</td>\n",
       "      <td>5.84</td>\n",
       "      <td>3.06</td>\n",
       "      <td>3.76</td>\n",
       "      <td>1.20</td>\n",
       "      <td>1.00</td>\n",
       "    </tr>\n",
       "    <tr>\n",
       "      <td>std</td>\n",
       "      <td>0.83</td>\n",
       "      <td>0.44</td>\n",
       "      <td>1.77</td>\n",
       "      <td>0.76</td>\n",
       "      <td>0.82</td>\n",
       "    </tr>\n",
       "    <tr>\n",
       "      <td>min</td>\n",
       "      <td>4.30</td>\n",
       "      <td>2.00</td>\n",
       "      <td>1.00</td>\n",
       "      <td>0.10</td>\n",
       "      <td>0.00</td>\n",
       "    </tr>\n",
       "    <tr>\n",
       "      <td>25%</td>\n",
       "      <td>5.10</td>\n",
       "      <td>2.80</td>\n",
       "      <td>1.60</td>\n",
       "      <td>0.30</td>\n",
       "      <td>0.00</td>\n",
       "    </tr>\n",
       "    <tr>\n",
       "      <td>50%</td>\n",
       "      <td>5.80</td>\n",
       "      <td>3.00</td>\n",
       "      <td>4.35</td>\n",
       "      <td>1.30</td>\n",
       "      <td>1.00</td>\n",
       "    </tr>\n",
       "    <tr>\n",
       "      <td>75%</td>\n",
       "      <td>6.40</td>\n",
       "      <td>3.30</td>\n",
       "      <td>5.10</td>\n",
       "      <td>1.80</td>\n",
       "      <td>2.00</td>\n",
       "    </tr>\n",
       "    <tr>\n",
       "      <td>max</td>\n",
       "      <td>7.90</td>\n",
       "      <td>4.40</td>\n",
       "      <td>6.90</td>\n",
       "      <td>2.50</td>\n",
       "      <td>2.00</td>\n",
       "    </tr>\n",
       "  </tbody>\n",
       "</table>\n",
       "</div>"
      ],
      "text/plain": [
       "       sepal length (cm)  sepal width (cm)  petal length (cm)  \\\n",
       "count             150.00            150.00             150.00   \n",
       "mean                5.84              3.06               3.76   \n",
       "std                 0.83              0.44               1.77   \n",
       "min                 4.30              2.00               1.00   \n",
       "25%                 5.10              2.80               1.60   \n",
       "50%                 5.80              3.00               4.35   \n",
       "75%                 6.40              3.30               5.10   \n",
       "max                 7.90              4.40               6.90   \n",
       "\n",
       "       petal width (cm)  target  \n",
       "count            150.00  150.00  \n",
       "mean               1.20    1.00  \n",
       "std                0.76    0.82  \n",
       "min                0.10    0.00  \n",
       "25%                0.30    0.00  \n",
       "50%                1.30    1.00  \n",
       "75%                1.80    2.00  \n",
       "max                2.50    2.00  "
      ]
     },
     "execution_count": 3,
     "metadata": {},
     "output_type": "execute_result"
    }
   ],
   "source": [
    "df.describe().round(2)"
   ]
  },
  {
   "cell_type": "code",
   "execution_count": 4,
   "metadata": {},
   "outputs": [],
   "source": [
    "# construct training and testing sets\n",
    "train, test = train_test_split(df,test_size=0.15,random_state=602)"
   ]
  },
  {
   "cell_type": "code",
   "execution_count": 5,
   "metadata": {},
   "outputs": [],
   "source": [
    "# extract target from features\n",
    "X_train = train.iloc[:,:4]\n",
    "Y_train = train.iloc[:,-1]\n",
    "X_test = test.iloc[:,:4]\n",
    "Y_test = test.iloc[:,-1]"
   ]
  },
  {
   "cell_type": "markdown",
   "metadata": {},
   "source": [
    "## (2) kNN"
   ]
  },
  {
   "cell_type": "code",
   "execution_count": 6,
   "metadata": {},
   "outputs": [
    {
     "name": "stderr",
     "output_type": "stream",
     "text": [
      "/opt/anaconda3/lib/python3.7/site-packages/sklearn/model_selection/_search.py:814: DeprecationWarning: The default of the `iid` parameter will change from True to False in version 0.22 and will be removed in 0.24. This will change numeric results when test-set sizes are unequal.\n",
      "  DeprecationWarning)\n"
     ]
    },
    {
     "data": {
      "text/plain": [
       "GridSearchCV(cv=10, error_score='raise-deprecating',\n",
       "             estimator=KNeighborsClassifier(algorithm='auto', leaf_size=30,\n",
       "                                            metric='minkowski',\n",
       "                                            metric_params=None, n_jobs=-1,\n",
       "                                            n_neighbors=5, p=2,\n",
       "                                            weights='uniform'),\n",
       "             iid='warn', n_jobs=-1,\n",
       "             param_grid={'n_neighbors': [3, 5, 7, 10, 15]},\n",
       "             pre_dispatch='2*n_jobs', refit=True, return_train_score=False,\n",
       "             scoring='f1_macro', verbose=0)"
      ]
     },
     "execution_count": 6,
     "metadata": {},
     "output_type": "execute_result"
    }
   ],
   "source": [
    "# grid search with 10-fold cv\n",
    "parameters = {'n_neighbors':[3, 5, 7, 10, 15]}\n",
    "clf_KNN = GridSearchCV(KNeighborsClassifier(weights='uniform',n_jobs=-1),parameters,scoring='f1_macro',cv=10,n_jobs=-1)\n",
    "clf_KNN.fit(X_train,Y_train)"
   ]
  },
  {
   "cell_type": "code",
   "execution_count": 7,
   "metadata": {},
   "outputs": [
    {
     "data": {
      "text/plain": [
       "array([0.95304375, 0.95304375, 0.9532708 , 0.95151932, 0.95264986])"
      ]
     },
     "execution_count": 7,
     "metadata": {},
     "output_type": "execute_result"
    }
   ],
   "source": [
    "# f1 score of kNN with 5 different number of neighbors\n",
    "clf_KNN.cv_results_['mean_test_score']"
   ]
  },
  {
   "cell_type": "code",
   "execution_count": 8,
   "metadata": {},
   "outputs": [],
   "source": [
    "# prediction on testing set\n",
    "Y_pred = clf_KNN.predict(X_test)"
   ]
  },
  {
   "cell_type": "code",
   "execution_count": 9,
   "metadata": {},
   "outputs": [
    {
     "data": {
      "text/plain": [
       "1.0"
      ]
     },
     "execution_count": 9,
     "metadata": {},
     "output_type": "execute_result"
    }
   ],
   "source": [
    "# f1 score of testing set\n",
    "f1_score(Y_test, Y_pred, average='macro')"
   ]
  },
  {
   "cell_type": "code",
   "execution_count": 10,
   "metadata": {},
   "outputs": [],
   "source": [
    "# record prediction results of each validation set into the original dataframe from 10-fold cross validation\n",
    "Y_pred = []\n",
    "for i in range(10):\n",
    "    X_cross_test = df.iloc[(i*15):((i+1)*15),:4]\n",
    "    bad_df = df.index.isin(list(range(i*15,((i+1)*15))))\n",
    "    cross_train = df[~bad_df]\n",
    "    X_cross_train = cross_train.iloc[:,:4]\n",
    "    Y_cross_train = cross_train.iloc[:,-1]\n",
    "    clf_KNN = KNeighborsClassifier(weights='uniform',n_jobs=-1,n_neighbors=7)\n",
    "    clf_KNN.fit(X_cross_train,Y_cross_train)\n",
    "    Y_cross_pred = clf_KNN.predict(X_cross_test)\n",
    "    Y_pred.extend(Y_cross_pred)\n",
    "df['kNN Prediction'] = Y_pred"
   ]
  },
  {
   "cell_type": "code",
   "execution_count": 11,
   "metadata": {},
   "outputs": [
    {
     "data": {
      "text/html": [
       "<div>\n",
       "<style scoped>\n",
       "    .dataframe tbody tr th:only-of-type {\n",
       "        vertical-align: middle;\n",
       "    }\n",
       "\n",
       "    .dataframe tbody tr th {\n",
       "        vertical-align: top;\n",
       "    }\n",
       "\n",
       "    .dataframe thead th {\n",
       "        text-align: right;\n",
       "    }\n",
       "</style>\n",
       "<table border=\"1\" class=\"dataframe\">\n",
       "  <thead>\n",
       "    <tr style=\"text-align: right;\">\n",
       "      <th></th>\n",
       "      <th>sepal length (cm)</th>\n",
       "      <th>sepal width (cm)</th>\n",
       "      <th>petal length (cm)</th>\n",
       "      <th>petal width (cm)</th>\n",
       "      <th>target</th>\n",
       "      <th>kNN Prediction</th>\n",
       "    </tr>\n",
       "  </thead>\n",
       "  <tbody>\n",
       "    <tr>\n",
       "      <td>14</td>\n",
       "      <td>5.8</td>\n",
       "      <td>4.0</td>\n",
       "      <td>1.2</td>\n",
       "      <td>0.2</td>\n",
       "      <td>0.0</td>\n",
       "      <td>0.0</td>\n",
       "    </tr>\n",
       "    <tr>\n",
       "      <td>98</td>\n",
       "      <td>5.1</td>\n",
       "      <td>2.5</td>\n",
       "      <td>3.0</td>\n",
       "      <td>1.1</td>\n",
       "      <td>1.0</td>\n",
       "      <td>1.0</td>\n",
       "    </tr>\n",
       "    <tr>\n",
       "      <td>75</td>\n",
       "      <td>6.6</td>\n",
       "      <td>3.0</td>\n",
       "      <td>4.4</td>\n",
       "      <td>1.4</td>\n",
       "      <td>1.0</td>\n",
       "      <td>1.0</td>\n",
       "    </tr>\n",
       "    <tr>\n",
       "      <td>16</td>\n",
       "      <td>5.4</td>\n",
       "      <td>3.9</td>\n",
       "      <td>1.3</td>\n",
       "      <td>0.4</td>\n",
       "      <td>0.0</td>\n",
       "      <td>0.0</td>\n",
       "    </tr>\n",
       "    <tr>\n",
       "      <td>131</td>\n",
       "      <td>7.9</td>\n",
       "      <td>3.8</td>\n",
       "      <td>6.4</td>\n",
       "      <td>2.0</td>\n",
       "      <td>2.0</td>\n",
       "      <td>2.0</td>\n",
       "    </tr>\n",
       "  </tbody>\n",
       "</table>\n",
       "</div>"
      ],
      "text/plain": [
       "     sepal length (cm)  sepal width (cm)  petal length (cm)  petal width (cm)  \\\n",
       "14                 5.8               4.0                1.2               0.2   \n",
       "98                 5.1               2.5                3.0               1.1   \n",
       "75                 6.6               3.0                4.4               1.4   \n",
       "16                 5.4               3.9                1.3               0.4   \n",
       "131                7.9               3.8                6.4               2.0   \n",
       "\n",
       "     target  kNN Prediction  \n",
       "14      0.0             0.0  \n",
       "98      1.0             1.0  \n",
       "75      1.0             1.0  \n",
       "16      0.0             0.0  \n",
       "131     2.0             2.0  "
      ]
     },
     "execution_count": 11,
     "metadata": {},
     "output_type": "execute_result"
    }
   ],
   "source": [
    "df.head()"
   ]
  },
  {
   "cell_type": "markdown",
   "metadata": {},
   "source": [
    "After grid search for number of neighbors to be used, we found that numbers around 5 are approximately the optimal hyperparameter for kNN model, with 10-fold cross validation f1 score to be 0.9523. In addition, the model is showing an f1 score of 0.9521 in the testing set."
   ]
  },
  {
   "cell_type": "markdown",
   "metadata": {},
   "source": [
    "## (3) Naive Bayes"
   ]
  },
  {
   "cell_type": "code",
   "execution_count": 12,
   "metadata": {},
   "outputs": [
    {
     "data": {
      "text/plain": [
       "0.9613347763347763"
      ]
     },
     "execution_count": 12,
     "metadata": {},
     "output_type": "execute_result"
    }
   ],
   "source": [
    "# cross-validation for Naive Bayes model with 10 folds\n",
    "clf_NB = GaussianNB()\n",
    "cross_val_score(clf_NB, X_train, Y_train, cv=10, scoring='f1_macro', n_jobs=-1).mean()"
   ]
  },
  {
   "cell_type": "code",
   "execution_count": 13,
   "metadata": {},
   "outputs": [
    {
     "data": {
      "text/plain": [
       "0.9027777777777778"
      ]
     },
     "execution_count": 13,
     "metadata": {},
     "output_type": "execute_result"
    }
   ],
   "source": [
    "# f1 score on testing set\n",
    "clf_NB.fit(X_train, Y_train)\n",
    "Y_pred = clf_NB.predict(X_test)\n",
    "f1_score(Y_test, Y_pred, average='macro')"
   ]
  },
  {
   "cell_type": "code",
   "execution_count": 14,
   "metadata": {},
   "outputs": [],
   "source": [
    "# record prediction results of each validation set into the original dataframe from 10-fold cross validation\n",
    "Y_pred = []\n",
    "for i in range(10):\n",
    "    X_cross_test = df.iloc[(i*15):((i+1)*15),:4]\n",
    "    bad_df = df.index.isin(list(range(i*15,((i+1)*15))))\n",
    "    cross_train = df[~bad_df]\n",
    "    X_cross_train = cross_train.iloc[:,:4]\n",
    "    Y_cross_train = cross_train.iloc[:,-1]\n",
    "    clf_NB = GaussianNB()\n",
    "    clf_NB.fit(X_cross_train,Y_cross_train)\n",
    "    Y_cross_pred = clf_NB.predict(X_cross_test)\n",
    "    Y_pred.extend(Y_cross_pred)\n",
    "df['Naive Bayes Prediction'] = Y_pred"
   ]
  },
  {
   "cell_type": "code",
   "execution_count": 15,
   "metadata": {},
   "outputs": [
    {
     "data": {
      "text/html": [
       "<div>\n",
       "<style scoped>\n",
       "    .dataframe tbody tr th:only-of-type {\n",
       "        vertical-align: middle;\n",
       "    }\n",
       "\n",
       "    .dataframe tbody tr th {\n",
       "        vertical-align: top;\n",
       "    }\n",
       "\n",
       "    .dataframe thead th {\n",
       "        text-align: right;\n",
       "    }\n",
       "</style>\n",
       "<table border=\"1\" class=\"dataframe\">\n",
       "  <thead>\n",
       "    <tr style=\"text-align: right;\">\n",
       "      <th></th>\n",
       "      <th>sepal length (cm)</th>\n",
       "      <th>sepal width (cm)</th>\n",
       "      <th>petal length (cm)</th>\n",
       "      <th>petal width (cm)</th>\n",
       "      <th>target</th>\n",
       "      <th>kNN Prediction</th>\n",
       "      <th>Naive Bayes Prediction</th>\n",
       "    </tr>\n",
       "  </thead>\n",
       "  <tbody>\n",
       "    <tr>\n",
       "      <td>14</td>\n",
       "      <td>5.8</td>\n",
       "      <td>4.0</td>\n",
       "      <td>1.2</td>\n",
       "      <td>0.2</td>\n",
       "      <td>0.0</td>\n",
       "      <td>0.0</td>\n",
       "      <td>0.0</td>\n",
       "    </tr>\n",
       "    <tr>\n",
       "      <td>98</td>\n",
       "      <td>5.1</td>\n",
       "      <td>2.5</td>\n",
       "      <td>3.0</td>\n",
       "      <td>1.1</td>\n",
       "      <td>1.0</td>\n",
       "      <td>1.0</td>\n",
       "      <td>1.0</td>\n",
       "    </tr>\n",
       "    <tr>\n",
       "      <td>75</td>\n",
       "      <td>6.6</td>\n",
       "      <td>3.0</td>\n",
       "      <td>4.4</td>\n",
       "      <td>1.4</td>\n",
       "      <td>1.0</td>\n",
       "      <td>1.0</td>\n",
       "      <td>1.0</td>\n",
       "    </tr>\n",
       "    <tr>\n",
       "      <td>16</td>\n",
       "      <td>5.4</td>\n",
       "      <td>3.9</td>\n",
       "      <td>1.3</td>\n",
       "      <td>0.4</td>\n",
       "      <td>0.0</td>\n",
       "      <td>0.0</td>\n",
       "      <td>0.0</td>\n",
       "    </tr>\n",
       "    <tr>\n",
       "      <td>131</td>\n",
       "      <td>7.9</td>\n",
       "      <td>3.8</td>\n",
       "      <td>6.4</td>\n",
       "      <td>2.0</td>\n",
       "      <td>2.0</td>\n",
       "      <td>2.0</td>\n",
       "      <td>2.0</td>\n",
       "    </tr>\n",
       "  </tbody>\n",
       "</table>\n",
       "</div>"
      ],
      "text/plain": [
       "     sepal length (cm)  sepal width (cm)  petal length (cm)  petal width (cm)  \\\n",
       "14                 5.8               4.0                1.2               0.2   \n",
       "98                 5.1               2.5                3.0               1.1   \n",
       "75                 6.6               3.0                4.4               1.4   \n",
       "16                 5.4               3.9                1.3               0.4   \n",
       "131                7.9               3.8                6.4               2.0   \n",
       "\n",
       "     target  kNN Prediction  Naive Bayes Prediction  \n",
       "14      0.0             0.0                     0.0  \n",
       "98      1.0             1.0                     1.0  \n",
       "75      1.0             1.0                     1.0  \n",
       "16      0.0             0.0                     0.0  \n",
       "131     2.0             2.0                     2.0  "
      ]
     },
     "execution_count": 15,
     "metadata": {},
     "output_type": "execute_result"
    }
   ],
   "source": [
    "df.head()"
   ]
  },
  {
   "cell_type": "markdown",
   "metadata": {},
   "source": [
    "By running 10-fold cross validation on Naive Bayes model, we can get an f1 score of 0.9614. The model is showing an f1 score of 0.9028 in the testing set. Even though the cross validation score of Naive Bayes is slightly higher than that of kNN model, the Naive Bayes model is showing a less stable performance."
   ]
  },
  {
   "cell_type": "markdown",
   "metadata": {},
   "source": [
    "## (4) Logistic Regression"
   ]
  },
  {
   "cell_type": "code",
   "execution_count": 16,
   "metadata": {},
   "outputs": [
    {
     "data": {
      "text/plain": [
       "0.9539923039923041"
      ]
     },
     "execution_count": 16,
     "metadata": {},
     "output_type": "execute_result"
    }
   ],
   "source": [
    "# cross-validation for Logistic Regression model with 10 folds\n",
    "clf_LR = LogisticRegression(n_jobs=-1)\n",
    "cross_val_score(clf_LR, X_train, Y_train, cv=10, scoring='f1_macro', n_jobs=-1).mean()"
   ]
  },
  {
   "cell_type": "code",
   "execution_count": 17,
   "metadata": {},
   "outputs": [
    {
     "data": {
      "text/plain": [
       "0.952136752136752"
      ]
     },
     "execution_count": 17,
     "metadata": {},
     "output_type": "execute_result"
    }
   ],
   "source": [
    "# f1 score on testing set\n",
    "clf_LR.fit(X_train, Y_train)\n",
    "Y_pred = clf_LR.predict(X_test)\n",
    "f1_score(Y_test, Y_pred, average='macro')"
   ]
  },
  {
   "cell_type": "code",
   "execution_count": 18,
   "metadata": {},
   "outputs": [],
   "source": [
    "# record prediction results of each validation set into the original dataframe from 10-fold cross validation\n",
    "Y_pred = []\n",
    "for i in range(10):\n",
    "    X_cross_test = df.iloc[(i*15):((i+1)*15),:4]\n",
    "    bad_df = df.index.isin(list(range(i*15,((i+1)*15))))\n",
    "    cross_train = df[~bad_df]\n",
    "    X_cross_train = cross_train.iloc[:,:4]\n",
    "    Y_cross_train = cross_train.iloc[:,-1]\n",
    "    clf_LR = LogisticRegression(n_jobs=-1)\n",
    "    clf_LR.fit(X_cross_train,Y_cross_train)\n",
    "    Y_cross_pred = clf_LR.predict(X_cross_test)\n",
    "    Y_pred.extend(Y_cross_pred)\n",
    "df['Logistic Regression Prediction'] = Y_pred"
   ]
  },
  {
   "cell_type": "code",
   "execution_count": 19,
   "metadata": {},
   "outputs": [
    {
     "data": {
      "text/html": [
       "<div>\n",
       "<style scoped>\n",
       "    .dataframe tbody tr th:only-of-type {\n",
       "        vertical-align: middle;\n",
       "    }\n",
       "\n",
       "    .dataframe tbody tr th {\n",
       "        vertical-align: top;\n",
       "    }\n",
       "\n",
       "    .dataframe thead th {\n",
       "        text-align: right;\n",
       "    }\n",
       "</style>\n",
       "<table border=\"1\" class=\"dataframe\">\n",
       "  <thead>\n",
       "    <tr style=\"text-align: right;\">\n",
       "      <th></th>\n",
       "      <th>sepal length (cm)</th>\n",
       "      <th>sepal width (cm)</th>\n",
       "      <th>petal length (cm)</th>\n",
       "      <th>petal width (cm)</th>\n",
       "      <th>target</th>\n",
       "      <th>kNN Prediction</th>\n",
       "      <th>Naive Bayes Prediction</th>\n",
       "      <th>Logistic Regression Prediction</th>\n",
       "    </tr>\n",
       "  </thead>\n",
       "  <tbody>\n",
       "    <tr>\n",
       "      <td>14</td>\n",
       "      <td>5.8</td>\n",
       "      <td>4.0</td>\n",
       "      <td>1.2</td>\n",
       "      <td>0.2</td>\n",
       "      <td>0.0</td>\n",
       "      <td>0.0</td>\n",
       "      <td>0.0</td>\n",
       "      <td>0.0</td>\n",
       "    </tr>\n",
       "    <tr>\n",
       "      <td>98</td>\n",
       "      <td>5.1</td>\n",
       "      <td>2.5</td>\n",
       "      <td>3.0</td>\n",
       "      <td>1.1</td>\n",
       "      <td>1.0</td>\n",
       "      <td>1.0</td>\n",
       "      <td>1.0</td>\n",
       "      <td>1.0</td>\n",
       "    </tr>\n",
       "    <tr>\n",
       "      <td>75</td>\n",
       "      <td>6.6</td>\n",
       "      <td>3.0</td>\n",
       "      <td>4.4</td>\n",
       "      <td>1.4</td>\n",
       "      <td>1.0</td>\n",
       "      <td>1.0</td>\n",
       "      <td>1.0</td>\n",
       "      <td>1.0</td>\n",
       "    </tr>\n",
       "    <tr>\n",
       "      <td>16</td>\n",
       "      <td>5.4</td>\n",
       "      <td>3.9</td>\n",
       "      <td>1.3</td>\n",
       "      <td>0.4</td>\n",
       "      <td>0.0</td>\n",
       "      <td>0.0</td>\n",
       "      <td>0.0</td>\n",
       "      <td>0.0</td>\n",
       "    </tr>\n",
       "    <tr>\n",
       "      <td>131</td>\n",
       "      <td>7.9</td>\n",
       "      <td>3.8</td>\n",
       "      <td>6.4</td>\n",
       "      <td>2.0</td>\n",
       "      <td>2.0</td>\n",
       "      <td>2.0</td>\n",
       "      <td>2.0</td>\n",
       "      <td>2.0</td>\n",
       "    </tr>\n",
       "  </tbody>\n",
       "</table>\n",
       "</div>"
      ],
      "text/plain": [
       "     sepal length (cm)  sepal width (cm)  petal length (cm)  petal width (cm)  \\\n",
       "14                 5.8               4.0                1.2               0.2   \n",
       "98                 5.1               2.5                3.0               1.1   \n",
       "75                 6.6               3.0                4.4               1.4   \n",
       "16                 5.4               3.9                1.3               0.4   \n",
       "131                7.9               3.8                6.4               2.0   \n",
       "\n",
       "     target  kNN Prediction  Naive Bayes Prediction  \\\n",
       "14      0.0             0.0                     0.0   \n",
       "98      1.0             1.0                     1.0   \n",
       "75      1.0             1.0                     1.0   \n",
       "16      0.0             0.0                     0.0   \n",
       "131     2.0             2.0                     2.0   \n",
       "\n",
       "     Logistic Regression Prediction  \n",
       "14                              0.0  \n",
       "98                              1.0  \n",
       "75                              1.0  \n",
       "16                              0.0  \n",
       "131                             2.0  "
      ]
     },
     "execution_count": 19,
     "metadata": {},
     "output_type": "execute_result"
    }
   ],
   "source": [
    "df.head()"
   ]
  },
  {
   "cell_type": "markdown",
   "metadata": {},
   "source": [
    "By running 10-fold cross validation on Logistic Regression model, we can get an f1 score of 0.9608, and the model is showing a perfect f1 score in the testing set. With relatively low bias and low variance, Logistic Regression is indeed still one of the most popular simple classification machine learning models to be used by practitioners."
   ]
  },
  {
   "cell_type": "markdown",
   "metadata": {},
   "source": [
    "## (5) Random Forest"
   ]
  },
  {
   "cell_type": "code",
   "execution_count": 20,
   "metadata": {},
   "outputs": [
    {
     "name": "stderr",
     "output_type": "stream",
     "text": [
      "/opt/anaconda3/lib/python3.7/site-packages/sklearn/model_selection/_search.py:814: DeprecationWarning: The default of the `iid` parameter will change from True to False in version 0.22 and will be removed in 0.24. This will change numeric results when test-set sizes are unequal.\n",
      "  DeprecationWarning)\n"
     ]
    },
    {
     "data": {
      "text/plain": [
       "GridSearchCV(cv=10, error_score='raise-deprecating',\n",
       "             estimator=RandomForestClassifier(bootstrap=True, class_weight=None,\n",
       "                                              criterion='gini', max_depth=None,\n",
       "                                              max_features='auto',\n",
       "                                              max_leaf_nodes=None,\n",
       "                                              min_impurity_decrease=0.0,\n",
       "                                              min_impurity_split=None,\n",
       "                                              min_samples_leaf=1,\n",
       "                                              min_samples_split=2,\n",
       "                                              min_weight_fraction_leaf=0.0,\n",
       "                                              n_estimators='warn', n_jobs=-1,\n",
       "                                              oob_score=False, random_state=1,\n",
       "                                              verbose=0, warm_start=False),\n",
       "             iid='warn', n_jobs=-1,\n",
       "             param_grid={'max_depth': [1, 2, 4, 8, 16],\n",
       "                         'n_estimators': [10, 50, 100, 200, 300, 400, 500]},\n",
       "             pre_dispatch='2*n_jobs', refit=True, return_train_score=False,\n",
       "             scoring='f1_macro', verbose=0)"
      ]
     },
     "execution_count": 20,
     "metadata": {},
     "output_type": "execute_result"
    }
   ],
   "source": [
    "# grid search with 10-fold cv\n",
    "parameters = {'n_estimators':[10, 50, 100, 200, 300, 400, 500],'max_depth':[1,2,4,8,16]}\n",
    "clf_RF = GridSearchCV(RandomForestClassifier(n_jobs=-1,random_state=1),parameters,scoring='f1_macro',cv=10,n_jobs=-1)\n",
    "clf_RF.fit(X_train,Y_train)"
   ]
  },
  {
   "cell_type": "code",
   "execution_count": 21,
   "metadata": {},
   "outputs": [
    {
     "data": {
      "text/plain": [
       "array([0.76920271, 0.94442645, 0.9364729 , 0.95304375, 0.95304375,\n",
       "       0.95304375, 0.9609973 , 0.93768184, 0.94442645, 0.95242545,\n",
       "       0.94442645, 0.94442645, 0.94442645, 0.94442645, 0.92872103,\n",
       "       0.92789841, 0.9265054 , 0.93669731, 0.93669731, 0.93669731,\n",
       "       0.93669731, 0.92872103, 0.93585196, 0.92789841, 0.92789841,\n",
       "       0.92789841, 0.92789841, 0.92789841, 0.92872103, 0.93585196,\n",
       "       0.92789841, 0.92789841, 0.92789841, 0.92789841, 0.92789841])"
      ]
     },
     "execution_count": 21,
     "metadata": {},
     "output_type": "execute_result"
    }
   ],
   "source": [
    "# f1 score of Random Forest with 42 different combinations of n_estimatos and max_depth\n",
    "clf_RF.cv_results_['mean_test_score']"
   ]
  },
  {
   "cell_type": "code",
   "execution_count": 22,
   "metadata": {},
   "outputs": [],
   "source": [
    "# prediction on testing set\n",
    "Y_pred = clf_RF.predict(X_test)"
   ]
  },
  {
   "cell_type": "code",
   "execution_count": 23,
   "metadata": {},
   "outputs": [
    {
     "data": {
      "text/plain": [
       "0.952136752136752"
      ]
     },
     "execution_count": 23,
     "metadata": {},
     "output_type": "execute_result"
    }
   ],
   "source": [
    "# f1 score of testing set\n",
    "f1_score(Y_test, Y_pred, average='macro')"
   ]
  },
  {
   "cell_type": "code",
   "execution_count": 24,
   "metadata": {},
   "outputs": [],
   "source": [
    "# record prediction results of each validation set into the original dataframe from 10-fold cross validation\n",
    "Y_pred = []\n",
    "for i in range(10):\n",
    "    X_cross_test = df.iloc[(i*15):((i+1)*15),:4]\n",
    "    bad_df = df.index.isin(list(range(i*15,((i+1)*15))))\n",
    "    cross_train = df[~bad_df]\n",
    "    X_cross_train = cross_train.iloc[:,:4]\n",
    "    Y_cross_train = cross_train.iloc[:,-1]\n",
    "    clf_RF = RandomForestClassifier(n_estimators=100,n_jobs=-1,max_depth=4,random_state=1)\n",
    "    clf_RF.fit(X_cross_train,Y_cross_train)\n",
    "    Y_cross_pred = clf_RF.predict(X_cross_test)\n",
    "    Y_pred.extend(Y_cross_pred)\n",
    "df['Random Forest Prediction'] = Y_pred"
   ]
  },
  {
   "cell_type": "code",
   "execution_count": 25,
   "metadata": {},
   "outputs": [
    {
     "data": {
      "text/html": [
       "<div>\n",
       "<style scoped>\n",
       "    .dataframe tbody tr th:only-of-type {\n",
       "        vertical-align: middle;\n",
       "    }\n",
       "\n",
       "    .dataframe tbody tr th {\n",
       "        vertical-align: top;\n",
       "    }\n",
       "\n",
       "    .dataframe thead th {\n",
       "        text-align: right;\n",
       "    }\n",
       "</style>\n",
       "<table border=\"1\" class=\"dataframe\">\n",
       "  <thead>\n",
       "    <tr style=\"text-align: right;\">\n",
       "      <th></th>\n",
       "      <th>sepal length (cm)</th>\n",
       "      <th>sepal width (cm)</th>\n",
       "      <th>petal length (cm)</th>\n",
       "      <th>petal width (cm)</th>\n",
       "      <th>target</th>\n",
       "      <th>kNN Prediction</th>\n",
       "      <th>Naive Bayes Prediction</th>\n",
       "      <th>Logistic Regression Prediction</th>\n",
       "      <th>Random Forest Prediction</th>\n",
       "    </tr>\n",
       "  </thead>\n",
       "  <tbody>\n",
       "    <tr>\n",
       "      <td>14</td>\n",
       "      <td>5.8</td>\n",
       "      <td>4.0</td>\n",
       "      <td>1.2</td>\n",
       "      <td>0.2</td>\n",
       "      <td>0.0</td>\n",
       "      <td>0.0</td>\n",
       "      <td>0.0</td>\n",
       "      <td>0.0</td>\n",
       "      <td>0.0</td>\n",
       "    </tr>\n",
       "    <tr>\n",
       "      <td>98</td>\n",
       "      <td>5.1</td>\n",
       "      <td>2.5</td>\n",
       "      <td>3.0</td>\n",
       "      <td>1.1</td>\n",
       "      <td>1.0</td>\n",
       "      <td>1.0</td>\n",
       "      <td>1.0</td>\n",
       "      <td>1.0</td>\n",
       "      <td>1.0</td>\n",
       "    </tr>\n",
       "    <tr>\n",
       "      <td>75</td>\n",
       "      <td>6.6</td>\n",
       "      <td>3.0</td>\n",
       "      <td>4.4</td>\n",
       "      <td>1.4</td>\n",
       "      <td>1.0</td>\n",
       "      <td>1.0</td>\n",
       "      <td>1.0</td>\n",
       "      <td>1.0</td>\n",
       "      <td>1.0</td>\n",
       "    </tr>\n",
       "    <tr>\n",
       "      <td>16</td>\n",
       "      <td>5.4</td>\n",
       "      <td>3.9</td>\n",
       "      <td>1.3</td>\n",
       "      <td>0.4</td>\n",
       "      <td>0.0</td>\n",
       "      <td>0.0</td>\n",
       "      <td>0.0</td>\n",
       "      <td>0.0</td>\n",
       "      <td>0.0</td>\n",
       "    </tr>\n",
       "    <tr>\n",
       "      <td>131</td>\n",
       "      <td>7.9</td>\n",
       "      <td>3.8</td>\n",
       "      <td>6.4</td>\n",
       "      <td>2.0</td>\n",
       "      <td>2.0</td>\n",
       "      <td>2.0</td>\n",
       "      <td>2.0</td>\n",
       "      <td>2.0</td>\n",
       "      <td>2.0</td>\n",
       "    </tr>\n",
       "  </tbody>\n",
       "</table>\n",
       "</div>"
      ],
      "text/plain": [
       "     sepal length (cm)  sepal width (cm)  petal length (cm)  petal width (cm)  \\\n",
       "14                 5.8               4.0                1.2               0.2   \n",
       "98                 5.1               2.5                3.0               1.1   \n",
       "75                 6.6               3.0                4.4               1.4   \n",
       "16                 5.4               3.9                1.3               0.4   \n",
       "131                7.9               3.8                6.4               2.0   \n",
       "\n",
       "     target  kNN Prediction  Naive Bayes Prediction  \\\n",
       "14      0.0             0.0                     0.0   \n",
       "98      1.0             1.0                     1.0   \n",
       "75      1.0             1.0                     1.0   \n",
       "16      0.0             0.0                     0.0   \n",
       "131     2.0             2.0                     2.0   \n",
       "\n",
       "     Logistic Regression Prediction  Random Forest Prediction  \n",
       "14                              0.0                       0.0  \n",
       "98                              1.0                       1.0  \n",
       "75                              1.0                       1.0  \n",
       "16                              0.0                       0.0  \n",
       "131                             2.0                       2.0  "
      ]
     },
     "execution_count": 25,
     "metadata": {},
     "output_type": "execute_result"
    }
   ],
   "source": [
    "df.head()"
   ]
  },
  {
   "cell_type": "markdown",
   "metadata": {},
   "source": [
    "After grid search for number of simple trees to be included in the forest and the maximum depth of individual simple trees, the approximately optimal hyperparameter combination (n_estimators=100 and max_depth=4) stands out among 42 cross validated combinations, giving us a 10-fold f1 cv score of 0.9529. When tested on the testing set, it is showing an f1 score of 0.9521, similar to the cross validation score."
   ]
  },
  {
   "cell_type": "markdown",
   "metadata": {},
   "source": [
    "## (6) Gradient Boosting Tree"
   ]
  },
  {
   "cell_type": "code",
   "execution_count": 26,
   "metadata": {},
   "outputs": [
    {
     "name": "stdout",
     "output_type": "stream",
     "text": [
      "Learning rate:  0.05\n",
      "Accuracy score (training): 0.992\n",
      "Accuracy score (test): 0.957\n",
      "\n",
      "Learning rate:  0.1\n",
      "Accuracy score (training): 1.000\n",
      "Accuracy score (test): 0.957\n",
      "\n",
      "Learning rate:  0.25\n",
      "Accuracy score (training): 1.000\n",
      "Accuracy score (test): 0.957\n",
      "\n",
      "Learning rate:  0.5\n",
      "Accuracy score (training): 1.000\n",
      "Accuracy score (test): 0.957\n",
      "\n",
      "Learning rate:  0.75\n",
      "Accuracy score (training): 1.000\n",
      "Accuracy score (test): 0.957\n",
      "\n",
      "Learning rate:  1\n",
      "Accuracy score (training): 1.000\n",
      "Accuracy score (test): 0.957\n",
      "\n"
     ]
    }
   ],
   "source": [
    "from sklearn.ensemble import GradientBoostingClassifier\n",
    "learning_rates = [0.05, 0.1, 0.25, 0.5, 0.75, 1]\n",
    "for learning_rate in learning_rates:\n",
    "    clf_GBT = GradientBoostingClassifier(n_estimators=20, learning_rate = learning_rate, random_state = 0)\n",
    "    clf_GBT.fit(X_train, Y_train)\n",
    "    print(\"Learning rate: \", learning_rate)\n",
    "    print(\"Accuracy score (training): {0:.3f}\".format(clf_GBT.score(X_train, Y_train)))\n",
    "    print(\"Accuracy score (test): {0:.3f}\".format(clf_GBT.score(X_test, Y_test)))\n",
    "    print()"
   ]
  },
  {
   "cell_type": "code",
   "execution_count": 27,
   "metadata": {},
   "outputs": [
    {
     "data": {
      "text/plain": [
       "0.952136752136752"
      ]
     },
     "execution_count": 27,
     "metadata": {},
     "output_type": "execute_result"
    }
   ],
   "source": [
    "clf_GBT = GradientBoostingClassifier(n_estimators=20, learning_rate = 0.1, random_state = 0)\n",
    "clf_GBT.fit(X_train, Y_train)\n",
    "predictions = clf_GBT.predict(X_test)\n",
    "\n",
    "# f1 score of testing set\n",
    "f1_score(Y_test, predictions, average='macro')"
   ]
  },
  {
   "cell_type": "code",
   "execution_count": 28,
   "metadata": {},
   "outputs": [],
   "source": [
    "# record prediction results of each validation set into the original dataframe from 10-fold cross validation\n",
    "Y_pred = []\n",
    "for i in range(10):\n",
    "    X_cross_test = df.iloc[(i*15):((i+1)*15),:4]\n",
    "    bad_df = df.index.isin(list(range(i*15,((i+1)*15))))\n",
    "    cross_train = df[~bad_df]\n",
    "    X_cross_train = cross_train.iloc[:,:4]\n",
    "    Y_cross_train = cross_train.iloc[:,-1]\n",
    "    clf_GBT = GradientBoostingClassifier(n_estimators=20, learning_rate = 0.1, random_state = 0)\n",
    "    clf_GBT.fit(X_cross_train,Y_cross_train)\n",
    "    Y_cross_pred = clf_GBT.predict(X_cross_test)\n",
    "    Y_pred.extend(Y_cross_pred)\n",
    "df['Gradient Boosting Tree Prediction'] = Y_pred"
   ]
  },
  {
   "cell_type": "code",
   "execution_count": 29,
   "metadata": {},
   "outputs": [
    {
     "data": {
      "text/html": [
       "<div>\n",
       "<style scoped>\n",
       "    .dataframe tbody tr th:only-of-type {\n",
       "        vertical-align: middle;\n",
       "    }\n",
       "\n",
       "    .dataframe tbody tr th {\n",
       "        vertical-align: top;\n",
       "    }\n",
       "\n",
       "    .dataframe thead th {\n",
       "        text-align: right;\n",
       "    }\n",
       "</style>\n",
       "<table border=\"1\" class=\"dataframe\">\n",
       "  <thead>\n",
       "    <tr style=\"text-align: right;\">\n",
       "      <th></th>\n",
       "      <th>sepal length (cm)</th>\n",
       "      <th>sepal width (cm)</th>\n",
       "      <th>petal length (cm)</th>\n",
       "      <th>petal width (cm)</th>\n",
       "      <th>target</th>\n",
       "      <th>kNN Prediction</th>\n",
       "      <th>Naive Bayes Prediction</th>\n",
       "      <th>Logistic Regression Prediction</th>\n",
       "      <th>Random Forest Prediction</th>\n",
       "      <th>Gradient Boosting Tree Prediction</th>\n",
       "    </tr>\n",
       "  </thead>\n",
       "  <tbody>\n",
       "    <tr>\n",
       "      <td>14</td>\n",
       "      <td>5.8</td>\n",
       "      <td>4.0</td>\n",
       "      <td>1.2</td>\n",
       "      <td>0.2</td>\n",
       "      <td>0.0</td>\n",
       "      <td>0.0</td>\n",
       "      <td>0.0</td>\n",
       "      <td>0.0</td>\n",
       "      <td>0.0</td>\n",
       "      <td>0.0</td>\n",
       "    </tr>\n",
       "    <tr>\n",
       "      <td>98</td>\n",
       "      <td>5.1</td>\n",
       "      <td>2.5</td>\n",
       "      <td>3.0</td>\n",
       "      <td>1.1</td>\n",
       "      <td>1.0</td>\n",
       "      <td>1.0</td>\n",
       "      <td>1.0</td>\n",
       "      <td>1.0</td>\n",
       "      <td>1.0</td>\n",
       "      <td>1.0</td>\n",
       "    </tr>\n",
       "    <tr>\n",
       "      <td>75</td>\n",
       "      <td>6.6</td>\n",
       "      <td>3.0</td>\n",
       "      <td>4.4</td>\n",
       "      <td>1.4</td>\n",
       "      <td>1.0</td>\n",
       "      <td>1.0</td>\n",
       "      <td>1.0</td>\n",
       "      <td>1.0</td>\n",
       "      <td>1.0</td>\n",
       "      <td>1.0</td>\n",
       "    </tr>\n",
       "    <tr>\n",
       "      <td>16</td>\n",
       "      <td>5.4</td>\n",
       "      <td>3.9</td>\n",
       "      <td>1.3</td>\n",
       "      <td>0.4</td>\n",
       "      <td>0.0</td>\n",
       "      <td>0.0</td>\n",
       "      <td>0.0</td>\n",
       "      <td>0.0</td>\n",
       "      <td>0.0</td>\n",
       "      <td>0.0</td>\n",
       "    </tr>\n",
       "    <tr>\n",
       "      <td>131</td>\n",
       "      <td>7.9</td>\n",
       "      <td>3.8</td>\n",
       "      <td>6.4</td>\n",
       "      <td>2.0</td>\n",
       "      <td>2.0</td>\n",
       "      <td>2.0</td>\n",
       "      <td>2.0</td>\n",
       "      <td>2.0</td>\n",
       "      <td>2.0</td>\n",
       "      <td>2.0</td>\n",
       "    </tr>\n",
       "  </tbody>\n",
       "</table>\n",
       "</div>"
      ],
      "text/plain": [
       "     sepal length (cm)  sepal width (cm)  petal length (cm)  petal width (cm)  \\\n",
       "14                 5.8               4.0                1.2               0.2   \n",
       "98                 5.1               2.5                3.0               1.1   \n",
       "75                 6.6               3.0                4.4               1.4   \n",
       "16                 5.4               3.9                1.3               0.4   \n",
       "131                7.9               3.8                6.4               2.0   \n",
       "\n",
       "     target  kNN Prediction  Naive Bayes Prediction  \\\n",
       "14      0.0             0.0                     0.0   \n",
       "98      1.0             1.0                     1.0   \n",
       "75      1.0             1.0                     1.0   \n",
       "16      0.0             0.0                     0.0   \n",
       "131     2.0             2.0                     2.0   \n",
       "\n",
       "     Logistic Regression Prediction  Random Forest Prediction  \\\n",
       "14                              0.0                       0.0   \n",
       "98                              1.0                       1.0   \n",
       "75                              1.0                       1.0   \n",
       "16                              0.0                       0.0   \n",
       "131                             2.0                       2.0   \n",
       "\n",
       "     Gradient Boosting Tree Prediction  \n",
       "14                                 0.0  \n",
       "98                                 1.0  \n",
       "75                                 1.0  \n",
       "16                                 0.0  \n",
       "131                                2.0  "
      ]
     },
     "execution_count": 29,
     "metadata": {},
     "output_type": "execute_result"
    }
   ],
   "source": [
    "df.head()"
   ]
  },
  {
   "cell_type": "markdown",
   "metadata": {},
   "source": [
    "## (7) Support Vector Machine"
   ]
  },
  {
   "cell_type": "code",
   "execution_count": 30,
   "metadata": {},
   "outputs": [
    {
     "data": {
      "text/plain": [
       "1.0"
      ]
     },
     "execution_count": 30,
     "metadata": {},
     "output_type": "execute_result"
    }
   ],
   "source": [
    "#Import svm model\n",
    "from sklearn import svm\n",
    "clf_SVM = svm.SVC()\n",
    "clf_SVM.fit(X_train, Y_train)\n",
    "Y_pred = clf_SVM.predict(X_test)\n",
    "# f1 score of testing set\n",
    "f1_score(Y_test, Y_pred, average='macro')"
   ]
  },
  {
   "cell_type": "code",
   "execution_count": 31,
   "metadata": {},
   "outputs": [
    {
     "data": {
      "text/html": [
       "<div>\n",
       "<style scoped>\n",
       "    .dataframe tbody tr th:only-of-type {\n",
       "        vertical-align: middle;\n",
       "    }\n",
       "\n",
       "    .dataframe tbody tr th {\n",
       "        vertical-align: top;\n",
       "    }\n",
       "\n",
       "    .dataframe thead th {\n",
       "        text-align: right;\n",
       "    }\n",
       "</style>\n",
       "<table border=\"1\" class=\"dataframe\">\n",
       "  <thead>\n",
       "    <tr style=\"text-align: right;\">\n",
       "      <th></th>\n",
       "      <th>sepal length (cm)</th>\n",
       "      <th>sepal width (cm)</th>\n",
       "      <th>petal length (cm)</th>\n",
       "      <th>petal width (cm)</th>\n",
       "      <th>target</th>\n",
       "      <th>kNN Prediction</th>\n",
       "      <th>Naive Bayes Prediction</th>\n",
       "      <th>Logistic Regression Prediction</th>\n",
       "      <th>Random Forest Prediction</th>\n",
       "      <th>Gradient Boosting Tree Prediction</th>\n",
       "      <th>SVM Prediction</th>\n",
       "    </tr>\n",
       "  </thead>\n",
       "  <tbody>\n",
       "    <tr>\n",
       "      <td>14</td>\n",
       "      <td>5.8</td>\n",
       "      <td>4.0</td>\n",
       "      <td>1.2</td>\n",
       "      <td>0.2</td>\n",
       "      <td>0.0</td>\n",
       "      <td>0.0</td>\n",
       "      <td>0.0</td>\n",
       "      <td>0.0</td>\n",
       "      <td>0.0</td>\n",
       "      <td>0.0</td>\n",
       "      <td>0.0</td>\n",
       "    </tr>\n",
       "    <tr>\n",
       "      <td>98</td>\n",
       "      <td>5.1</td>\n",
       "      <td>2.5</td>\n",
       "      <td>3.0</td>\n",
       "      <td>1.1</td>\n",
       "      <td>1.0</td>\n",
       "      <td>1.0</td>\n",
       "      <td>1.0</td>\n",
       "      <td>1.0</td>\n",
       "      <td>1.0</td>\n",
       "      <td>1.0</td>\n",
       "      <td>1.0</td>\n",
       "    </tr>\n",
       "    <tr>\n",
       "      <td>75</td>\n",
       "      <td>6.6</td>\n",
       "      <td>3.0</td>\n",
       "      <td>4.4</td>\n",
       "      <td>1.4</td>\n",
       "      <td>1.0</td>\n",
       "      <td>1.0</td>\n",
       "      <td>1.0</td>\n",
       "      <td>1.0</td>\n",
       "      <td>1.0</td>\n",
       "      <td>1.0</td>\n",
       "      <td>1.0</td>\n",
       "    </tr>\n",
       "    <tr>\n",
       "      <td>16</td>\n",
       "      <td>5.4</td>\n",
       "      <td>3.9</td>\n",
       "      <td>1.3</td>\n",
       "      <td>0.4</td>\n",
       "      <td>0.0</td>\n",
       "      <td>0.0</td>\n",
       "      <td>0.0</td>\n",
       "      <td>0.0</td>\n",
       "      <td>0.0</td>\n",
       "      <td>0.0</td>\n",
       "      <td>0.0</td>\n",
       "    </tr>\n",
       "    <tr>\n",
       "      <td>131</td>\n",
       "      <td>7.9</td>\n",
       "      <td>3.8</td>\n",
       "      <td>6.4</td>\n",
       "      <td>2.0</td>\n",
       "      <td>2.0</td>\n",
       "      <td>2.0</td>\n",
       "      <td>2.0</td>\n",
       "      <td>2.0</td>\n",
       "      <td>2.0</td>\n",
       "      <td>2.0</td>\n",
       "      <td>2.0</td>\n",
       "    </tr>\n",
       "  </tbody>\n",
       "</table>\n",
       "</div>"
      ],
      "text/plain": [
       "     sepal length (cm)  sepal width (cm)  petal length (cm)  petal width (cm)  \\\n",
       "14                 5.8               4.0                1.2               0.2   \n",
       "98                 5.1               2.5                3.0               1.1   \n",
       "75                 6.6               3.0                4.4               1.4   \n",
       "16                 5.4               3.9                1.3               0.4   \n",
       "131                7.9               3.8                6.4               2.0   \n",
       "\n",
       "     target  kNN Prediction  Naive Bayes Prediction  \\\n",
       "14      0.0             0.0                     0.0   \n",
       "98      1.0             1.0                     1.0   \n",
       "75      1.0             1.0                     1.0   \n",
       "16      0.0             0.0                     0.0   \n",
       "131     2.0             2.0                     2.0   \n",
       "\n",
       "     Logistic Regression Prediction  Random Forest Prediction  \\\n",
       "14                              0.0                       0.0   \n",
       "98                              1.0                       1.0   \n",
       "75                              1.0                       1.0   \n",
       "16                              0.0                       0.0   \n",
       "131                             2.0                       2.0   \n",
       "\n",
       "     Gradient Boosting Tree Prediction  SVM Prediction  \n",
       "14                                 0.0             0.0  \n",
       "98                                 1.0             1.0  \n",
       "75                                 1.0             1.0  \n",
       "16                                 0.0             0.0  \n",
       "131                                2.0             2.0  "
      ]
     },
     "execution_count": 31,
     "metadata": {},
     "output_type": "execute_result"
    }
   ],
   "source": [
    "# record prediction results of each validation set into the original dataframe from 10-fold cross validation\n",
    "Y_pred = []\n",
    "for i in range(10):\n",
    "    X_cross_test = df.iloc[(i*15):((i+1)*15),:4]\n",
    "    bad_df = df.index.isin(list(range(i*15,((i+1)*15))))\n",
    "    cross_train = df[~bad_df]\n",
    "    X_cross_train = cross_train.iloc[:,:4]\n",
    "    Y_cross_train = cross_train.iloc[:,-1]\n",
    "    clf_SVM = svm.SVC()\n",
    "    clf_SVM.fit(X_cross_train,Y_cross_train)\n",
    "    Y_cross_pred = clf_SVM.predict(X_cross_test)\n",
    "    Y_pred.extend(Y_cross_pred)\n",
    "df['SVM Prediction'] = Y_pred\n",
    "df.head()"
   ]
  },
  {
   "cell_type": "markdown",
   "metadata": {},
   "source": [
    "## (8) Artificial Neural Networks"
   ]
  },
  {
   "cell_type": "code",
   "execution_count": 32,
   "metadata": {},
   "outputs": [
    {
     "data": {
      "text/plain": [
       "0.952136752136752"
      ]
     },
     "execution_count": 32,
     "metadata": {},
     "output_type": "execute_result"
    }
   ],
   "source": [
    "from sklearn.neural_network import MLPClassifier\n",
    "clf_ANN = MLPClassifier(solver='lbfgs', alpha=1e-5, hidden_layer_sizes=(5, 5), random_state=1)\n",
    "clf_ANN.fit(X_train, Y_train)\n",
    "Y_pred = clf_ANN.predict(X_test)\n",
    "# f1 score of testing set\n",
    "f1_score(Y_test, Y_pred, average='macro')"
   ]
  },
  {
   "cell_type": "code",
   "execution_count": 33,
   "metadata": {},
   "outputs": [
    {
     "data": {
      "text/html": [
       "<div>\n",
       "<style scoped>\n",
       "    .dataframe tbody tr th:only-of-type {\n",
       "        vertical-align: middle;\n",
       "    }\n",
       "\n",
       "    .dataframe tbody tr th {\n",
       "        vertical-align: top;\n",
       "    }\n",
       "\n",
       "    .dataframe thead th {\n",
       "        text-align: right;\n",
       "    }\n",
       "</style>\n",
       "<table border=\"1\" class=\"dataframe\">\n",
       "  <thead>\n",
       "    <tr style=\"text-align: right;\">\n",
       "      <th></th>\n",
       "      <th>sepal length (cm)</th>\n",
       "      <th>sepal width (cm)</th>\n",
       "      <th>petal length (cm)</th>\n",
       "      <th>petal width (cm)</th>\n",
       "      <th>target</th>\n",
       "      <th>kNN Prediction</th>\n",
       "      <th>Naive Bayes Prediction</th>\n",
       "      <th>Logistic Regression Prediction</th>\n",
       "      <th>Random Forest Prediction</th>\n",
       "      <th>Gradient Boosting Tree Prediction</th>\n",
       "      <th>SVM Prediction</th>\n",
       "      <th>ANN Prediction</th>\n",
       "    </tr>\n",
       "  </thead>\n",
       "  <tbody>\n",
       "    <tr>\n",
       "      <td>14</td>\n",
       "      <td>5.8</td>\n",
       "      <td>4.0</td>\n",
       "      <td>1.2</td>\n",
       "      <td>0.2</td>\n",
       "      <td>0.0</td>\n",
       "      <td>0.0</td>\n",
       "      <td>0.0</td>\n",
       "      <td>0.0</td>\n",
       "      <td>0.0</td>\n",
       "      <td>0.0</td>\n",
       "      <td>0.0</td>\n",
       "      <td>0.0</td>\n",
       "    </tr>\n",
       "    <tr>\n",
       "      <td>98</td>\n",
       "      <td>5.1</td>\n",
       "      <td>2.5</td>\n",
       "      <td>3.0</td>\n",
       "      <td>1.1</td>\n",
       "      <td>1.0</td>\n",
       "      <td>1.0</td>\n",
       "      <td>1.0</td>\n",
       "      <td>1.0</td>\n",
       "      <td>1.0</td>\n",
       "      <td>1.0</td>\n",
       "      <td>1.0</td>\n",
       "      <td>1.0</td>\n",
       "    </tr>\n",
       "    <tr>\n",
       "      <td>75</td>\n",
       "      <td>6.6</td>\n",
       "      <td>3.0</td>\n",
       "      <td>4.4</td>\n",
       "      <td>1.4</td>\n",
       "      <td>1.0</td>\n",
       "      <td>1.0</td>\n",
       "      <td>1.0</td>\n",
       "      <td>1.0</td>\n",
       "      <td>1.0</td>\n",
       "      <td>1.0</td>\n",
       "      <td>1.0</td>\n",
       "      <td>1.0</td>\n",
       "    </tr>\n",
       "    <tr>\n",
       "      <td>16</td>\n",
       "      <td>5.4</td>\n",
       "      <td>3.9</td>\n",
       "      <td>1.3</td>\n",
       "      <td>0.4</td>\n",
       "      <td>0.0</td>\n",
       "      <td>0.0</td>\n",
       "      <td>0.0</td>\n",
       "      <td>0.0</td>\n",
       "      <td>0.0</td>\n",
       "      <td>0.0</td>\n",
       "      <td>0.0</td>\n",
       "      <td>0.0</td>\n",
       "    </tr>\n",
       "    <tr>\n",
       "      <td>131</td>\n",
       "      <td>7.9</td>\n",
       "      <td>3.8</td>\n",
       "      <td>6.4</td>\n",
       "      <td>2.0</td>\n",
       "      <td>2.0</td>\n",
       "      <td>2.0</td>\n",
       "      <td>2.0</td>\n",
       "      <td>2.0</td>\n",
       "      <td>2.0</td>\n",
       "      <td>2.0</td>\n",
       "      <td>2.0</td>\n",
       "      <td>2.0</td>\n",
       "    </tr>\n",
       "  </tbody>\n",
       "</table>\n",
       "</div>"
      ],
      "text/plain": [
       "     sepal length (cm)  sepal width (cm)  petal length (cm)  petal width (cm)  \\\n",
       "14                 5.8               4.0                1.2               0.2   \n",
       "98                 5.1               2.5                3.0               1.1   \n",
       "75                 6.6               3.0                4.4               1.4   \n",
       "16                 5.4               3.9                1.3               0.4   \n",
       "131                7.9               3.8                6.4               2.0   \n",
       "\n",
       "     target  kNN Prediction  Naive Bayes Prediction  \\\n",
       "14      0.0             0.0                     0.0   \n",
       "98      1.0             1.0                     1.0   \n",
       "75      1.0             1.0                     1.0   \n",
       "16      0.0             0.0                     0.0   \n",
       "131     2.0             2.0                     2.0   \n",
       "\n",
       "     Logistic Regression Prediction  Random Forest Prediction  \\\n",
       "14                              0.0                       0.0   \n",
       "98                              1.0                       1.0   \n",
       "75                              1.0                       1.0   \n",
       "16                              0.0                       0.0   \n",
       "131                             2.0                       2.0   \n",
       "\n",
       "     Gradient Boosting Tree Prediction  SVM Prediction  ANN Prediction  \n",
       "14                                 0.0             0.0             0.0  \n",
       "98                                 1.0             1.0             1.0  \n",
       "75                                 1.0             1.0             1.0  \n",
       "16                                 0.0             0.0             0.0  \n",
       "131                                2.0             2.0             2.0  "
      ]
     },
     "execution_count": 33,
     "metadata": {},
     "output_type": "execute_result"
    }
   ],
   "source": [
    "# record prediction results of each validation set into the original dataframe from 10-fold cross validation\n",
    "Y_pred = []\n",
    "for i in range(10):\n",
    "    X_cross_test = df.iloc[(i*15):((i+1)*15),:4]\n",
    "    bad_df = df.index.isin(list(range(i*15,((i+1)*15))))\n",
    "    cross_train = df[~bad_df]\n",
    "    X_cross_train = cross_train.iloc[:,:4]\n",
    "    Y_cross_train = cross_train.iloc[:,-1]\n",
    "    clf_ANN = MLPClassifier(solver='lbfgs', alpha=1e-5, hidden_layer_sizes=(5, 5), random_state=1)\n",
    "    clf_ANN.fit(X_cross_train,Y_cross_train)\n",
    "    Y_cross_pred = clf_ANN.predict(X_cross_test)\n",
    "    Y_pred.extend(Y_cross_pred)\n",
    "df['ANN Prediction'] = Y_pred\n",
    "df.head()"
   ]
  },
  {
   "cell_type": "markdown",
   "metadata": {},
   "source": [
    "## (9) Ensemble Model"
   ]
  },
  {
   "cell_type": "code",
   "execution_count": 34,
   "metadata": {},
   "outputs": [],
   "source": [
    "# vote for most predicted label of each sample and choose it as the output of our ensemble model\n",
    "# calculate 10-fold cv score of our ensemble model (error msg may disappear once we have all 7 models)\n",
    "prediction = df.iloc[:,5:]\n",
    "answer = df['target']\n",
    "cv_score = np.zeros(10)\n",
    "for i in range(10):\n",
    "    current_prediction = prediction.iloc[(i*15):((i+1)*15),:]\n",
    "    current_answer = answer.iloc[(i*15):((i+1)*15)]\n",
    "    mode_prediction = current_prediction.mode(axis=1)\n",
    "    cv_score[i] = f1_score(current_answer, mode_prediction, average='macro')"
   ]
  },
  {
   "cell_type": "code",
   "execution_count": 35,
   "metadata": {},
   "outputs": [
    {
     "data": {
      "text/plain": [
       "0.952136752136752"
      ]
     },
     "execution_count": 35,
     "metadata": {},
     "output_type": "execute_result"
    }
   ],
   "source": [
    "from sklearn.ensemble import VotingClassifier\n",
    "estimators = []\n",
    "estimators.append(('knn', clf_KNN))\n",
    "estimators.append(('Naive Bayes', clf_NB))\n",
    "estimators.append(('Logistic Regression', clf_LR))\n",
    "estimators.append(('Random Forest', clf_RF))\n",
    "estimators.append(('Gradient Boosting Tree', clf_GBT))\n",
    "estimators.append(('SVM', clf_SVM))\n",
    "estimators.append(('Artificial Neural Networks', clf_ANN))\n",
    "# create the ensemble model\n",
    "ensemble = VotingClassifier(estimators)\n",
    "ensemble.fit(X_train, Y_train)\n",
    "Y_pred = ensemble.predict(X_test)\n",
    "# f1 score of testing set\n",
    "f1_score(Y_test, Y_pred, average='macro')"
   ]
  },
  {
   "cell_type": "code",
   "execution_count": 36,
   "metadata": {},
   "outputs": [
    {
     "data": {
      "text/html": [
       "<div>\n",
       "<style scoped>\n",
       "    .dataframe tbody tr th:only-of-type {\n",
       "        vertical-align: middle;\n",
       "    }\n",
       "\n",
       "    .dataframe tbody tr th {\n",
       "        vertical-align: top;\n",
       "    }\n",
       "\n",
       "    .dataframe thead th {\n",
       "        text-align: right;\n",
       "    }\n",
       "</style>\n",
       "<table border=\"1\" class=\"dataframe\">\n",
       "  <thead>\n",
       "    <tr style=\"text-align: right;\">\n",
       "      <th></th>\n",
       "      <th>sepal length (cm)</th>\n",
       "      <th>sepal width (cm)</th>\n",
       "      <th>petal length (cm)</th>\n",
       "      <th>petal width (cm)</th>\n",
       "      <th>target</th>\n",
       "      <th>kNN Prediction</th>\n",
       "      <th>Naive Bayes Prediction</th>\n",
       "      <th>Logistic Regression Prediction</th>\n",
       "      <th>Random Forest Prediction</th>\n",
       "      <th>Gradient Boosting Tree Prediction</th>\n",
       "      <th>SVM Prediction</th>\n",
       "      <th>ANN Prediction</th>\n",
       "      <th>Ensemble Prediction</th>\n",
       "    </tr>\n",
       "  </thead>\n",
       "  <tbody>\n",
       "    <tr>\n",
       "      <td>14</td>\n",
       "      <td>5.8</td>\n",
       "      <td>4.0</td>\n",
       "      <td>1.2</td>\n",
       "      <td>0.2</td>\n",
       "      <td>0.0</td>\n",
       "      <td>0.0</td>\n",
       "      <td>0.0</td>\n",
       "      <td>0.0</td>\n",
       "      <td>0.0</td>\n",
       "      <td>0.0</td>\n",
       "      <td>0.0</td>\n",
       "      <td>0.0</td>\n",
       "      <td>0.0</td>\n",
       "    </tr>\n",
       "    <tr>\n",
       "      <td>98</td>\n",
       "      <td>5.1</td>\n",
       "      <td>2.5</td>\n",
       "      <td>3.0</td>\n",
       "      <td>1.1</td>\n",
       "      <td>1.0</td>\n",
       "      <td>1.0</td>\n",
       "      <td>1.0</td>\n",
       "      <td>1.0</td>\n",
       "      <td>1.0</td>\n",
       "      <td>1.0</td>\n",
       "      <td>1.0</td>\n",
       "      <td>1.0</td>\n",
       "      <td>1.0</td>\n",
       "    </tr>\n",
       "    <tr>\n",
       "      <td>75</td>\n",
       "      <td>6.6</td>\n",
       "      <td>3.0</td>\n",
       "      <td>4.4</td>\n",
       "      <td>1.4</td>\n",
       "      <td>1.0</td>\n",
       "      <td>1.0</td>\n",
       "      <td>1.0</td>\n",
       "      <td>1.0</td>\n",
       "      <td>1.0</td>\n",
       "      <td>1.0</td>\n",
       "      <td>1.0</td>\n",
       "      <td>1.0</td>\n",
       "      <td>1.0</td>\n",
       "    </tr>\n",
       "    <tr>\n",
       "      <td>16</td>\n",
       "      <td>5.4</td>\n",
       "      <td>3.9</td>\n",
       "      <td>1.3</td>\n",
       "      <td>0.4</td>\n",
       "      <td>0.0</td>\n",
       "      <td>0.0</td>\n",
       "      <td>0.0</td>\n",
       "      <td>0.0</td>\n",
       "      <td>0.0</td>\n",
       "      <td>0.0</td>\n",
       "      <td>0.0</td>\n",
       "      <td>0.0</td>\n",
       "      <td>0.0</td>\n",
       "    </tr>\n",
       "    <tr>\n",
       "      <td>131</td>\n",
       "      <td>7.9</td>\n",
       "      <td>3.8</td>\n",
       "      <td>6.4</td>\n",
       "      <td>2.0</td>\n",
       "      <td>2.0</td>\n",
       "      <td>2.0</td>\n",
       "      <td>2.0</td>\n",
       "      <td>2.0</td>\n",
       "      <td>2.0</td>\n",
       "      <td>2.0</td>\n",
       "      <td>2.0</td>\n",
       "      <td>2.0</td>\n",
       "      <td>2.0</td>\n",
       "    </tr>\n",
       "  </tbody>\n",
       "</table>\n",
       "</div>"
      ],
      "text/plain": [
       "     sepal length (cm)  sepal width (cm)  petal length (cm)  petal width (cm)  \\\n",
       "14                 5.8               4.0                1.2               0.2   \n",
       "98                 5.1               2.5                3.0               1.1   \n",
       "75                 6.6               3.0                4.4               1.4   \n",
       "16                 5.4               3.9                1.3               0.4   \n",
       "131                7.9               3.8                6.4               2.0   \n",
       "\n",
       "     target  kNN Prediction  Naive Bayes Prediction  \\\n",
       "14      0.0             0.0                     0.0   \n",
       "98      1.0             1.0                     1.0   \n",
       "75      1.0             1.0                     1.0   \n",
       "16      0.0             0.0                     0.0   \n",
       "131     2.0             2.0                     2.0   \n",
       "\n",
       "     Logistic Regression Prediction  Random Forest Prediction  \\\n",
       "14                              0.0                       0.0   \n",
       "98                              1.0                       1.0   \n",
       "75                              1.0                       1.0   \n",
       "16                              0.0                       0.0   \n",
       "131                             2.0                       2.0   \n",
       "\n",
       "     Gradient Boosting Tree Prediction  SVM Prediction  ANN Prediction  \\\n",
       "14                                 0.0             0.0             0.0   \n",
       "98                                 1.0             1.0             1.0   \n",
       "75                                 1.0             1.0             1.0   \n",
       "16                                 0.0             0.0             0.0   \n",
       "131                                2.0             2.0             2.0   \n",
       "\n",
       "     Ensemble Prediction  \n",
       "14                   0.0  \n",
       "98                   1.0  \n",
       "75                   1.0  \n",
       "16                   0.0  \n",
       "131                  2.0  "
      ]
     },
     "execution_count": 36,
     "metadata": {},
     "output_type": "execute_result"
    }
   ],
   "source": [
    "Y_pred = []\n",
    "for i in range(10):\n",
    "    X_cross_test = df.iloc[(i*15):((i+1)*15),:4]\n",
    "    bad_df = df.index.isin(list(range(i*15,((i+1)*15))))\n",
    "    cross_train = df[~bad_df]\n",
    "    X_cross_train = cross_train.iloc[:,:4]\n",
    "    Y_cross_train = cross_train.iloc[:,-1]\n",
    "    ensemble.fit(X_cross_train,Y_cross_train)\n",
    "    Y_cross_pred = ensemble.predict(X_cross_test)\n",
    "    Y_pred.extend(Y_cross_pred)\n",
    "df['Ensemble Prediction'] = Y_pred\n",
    "df.head()"
   ]
  }
 ],
 "metadata": {
  "kernelspec": {
   "display_name": "Python 3",
   "language": "python",
   "name": "python3"
  },
  "language_info": {
   "codemirror_mode": {
    "name": "ipython",
    "version": 3
   },
   "file_extension": ".py",
   "mimetype": "text/x-python",
   "name": "python",
   "nbconvert_exporter": "python",
   "pygments_lexer": "ipython3",
   "version": "3.7.9"
  }
 },
 "nbformat": 4,
 "nbformat_minor": 4
}
